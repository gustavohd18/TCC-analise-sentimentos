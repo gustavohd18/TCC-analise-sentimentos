{
 "cells": [
  {
   "cell_type": "markdown",
   "metadata": {},
   "source": [
    "# Jupyter Notebook da Integradora 4\n",
    "## Aluno: Thiago Medina\n",
    "## Orientadora: Isabel H. Manssour"
   ]
  },
  {
   "cell_type": "markdown",
   "metadata": {},
   "source": [
    "Abaixo, os imports necessário para a realização de todo o notebook"
   ]
  },
  {
   "cell_type": "code",
   "execution_count": 18,
   "metadata": {},
   "outputs": [],
   "source": [
    "#1\n",
    "import tweepy as tw\n",
    "import pandas as pd\n",
    "import matplotlib\n",
    "from nltk.tokenize import TweetTokenizer\n",
    "import nltk\n",
    "import string\n",
    "import re\n",
    "from unidecode import unidecode\n",
    "\n",
    "from sklearn.feature_extraction.text import CountVectorizer\n",
    "from sklearn.naive_bayes import MultinomialNB\n",
    "from sklearn.naive_bayes import BernoulliNB\n",
    "from sklearn import metrics\n",
    "from sklearn.linear_model import LogisticRegression\n",
    "from sklearn.model_selection import cross_val_predict\n",
    "from sklearn.metrics import precision_score, recall_score, confusion_matrix, classification_report, accuracy_score, f1_score\n",
    "\n",
    "\n",
    "from sklearn import svm\n",
    "from sklearn.naive_bayes import GaussianNB\n",
    "\n",
    "import numpy as np"
   ]
  },
  {
   "cell_type": "markdown",
   "metadata": {},
   "source": [
    "## O trabalho todo está separado em 3 partes:\n",
    "### 1- Coleta dos tweets\n",
    "### 2- Pré-processamento dos tweets.\n",
    "### 3- Treinamento e teste por parte do algoritmo\n",
    "\n",
    "Iniciamos com a coleta dos tweets:"
   ]
  },
  {
   "cell_type": "markdown",
   "metadata": {},
   "source": [
    "Necessário possuir suas chaves próprias para a coleta de tweets."
   ]
  },
  {
   "cell_type": "code",
   "execution_count": 39,
   "metadata": {},
   "outputs": [],
   "source": [
    "#2\n",
    "consumer_key = \"xxx\"\n",
    "consumer_secret = \"xxx\"\n",
    "access_token = \"xxx\"\n",
    "access_token_secret = \"xxx\""
   ]
  },
  {
   "cell_type": "code",
   "execution_count": 40,
   "metadata": {},
   "outputs": [],
   "source": [
    "#3\n",
    "auth = tw.OAuthHandler(consumer_key, consumer_secret)\n",
    "auth.set_access_token(access_token, access_token_secret)\n",
    "\n",
    "api = tw.API(auth, wait_on_rate_limit=True,wait_on_rate_limit_notify=True)\n",
    "\n",
    "public_tweets = api.home_timeline()"
   ]
  },
  {
   "cell_type": "markdown",
   "metadata": {},
   "source": [
    "### Query para a coleta de tweets."
   ]
  },
  {
   "cell_type": "markdown",
   "metadata": {},
   "source": [
    "Altere a query de pesquisa (pode-se utilizar operadores lógicos). Altere também a quantidade de tweets que deseja coletar."
   ]
  },
  {
   "cell_type": "code",
   "execution_count": 50,
   "metadata": {},
   "outputs": [],
   "source": [
    "#4\n",
    "query = '(#netflix)   -filter:retweets'\n",
    "#query = '(#educacao AND (-@mpsnet AND -@mpsnet2)) -filter:retweets'\n",
    "\n",
    "cursor_tweets = tw.Cursor(api.search,\n",
    "            q=query,lang = 'pt',tweet_mode='extended').items(300)"
   ]
  },
  {
   "cell_type": "markdown",
   "metadata": {},
   "source": [
    "Utilizamos apenas a coluna com o texto dos tweets e a data de criação dos mesmos."
   ]
  },
  {
   "cell_type": "code",
   "execution_count": 51,
   "metadata": {},
   "outputs": [],
   "source": [
    "#5\n",
    "tweets_dict = {}\n",
    "tweets_dict = tweets_dict.fromkeys(['created_at', 'full_text'])"
   ]
  },
  {
   "cell_type": "code",
   "execution_count": 52,
   "metadata": {},
   "outputs": [],
   "source": [
    "#6\n",
    "for tweet in cursor_tweets:\n",
    "    for key in tweets_dict.keys():\n",
    "        try:\n",
    "            twvalue = tweet._json[key]\n",
    "            tweets_dict[key].append(twvalue)\n",
    "        except KeyError:\n",
    "            twvalue = \"\"\n",
    "            if(tweets_dict[key] is None):\n",
    "                tweets_dict[key] = [twvalue]\n",
    "            else:\n",
    "                tweets_dict[key].append(twvalue)\n",
    "        except:\n",
    "            tweets_dict[key] = [twvalue]\n",
    "        #print(\"tweets_dict[key]: {} - tweet[key]: {}\".format(tweets_dict[key],  twvalue))"
   ]
  },
  {
   "cell_type": "markdown",
   "metadata": {},
   "source": [
    "Abaixo, listamos os tweets coletados."
   ]
  },
  {
   "cell_type": "code",
   "execution_count": 53,
   "metadata": {},
   "outputs": [
    {
     "data": {
      "text/plain": [
       "{'created_at': ['Wed May 26 01:23:57 +0000 2021',\n",
       "  'Wed May 26 01:18:25 +0000 2021',\n",
       "  'Wed May 26 01:15:48 +0000 2021',\n",
       "  'Wed May 26 01:12:33 +0000 2021',\n",
       "  'Wed May 26 01:08:05 +0000 2021',\n",
       "  'Wed May 26 01:06:36 +0000 2021',\n",
       "  'Wed May 26 01:00:56 +0000 2021',\n",
       "  'Wed May 26 00:59:54 +0000 2021',\n",
       "  'Wed May 26 00:39:20 +0000 2021',\n",
       "  'Wed May 26 00:39:08 +0000 2021',\n",
       "  'Wed May 26 00:37:45 +0000 2021',\n",
       "  'Wed May 26 00:33:09 +0000 2021',\n",
       "  'Wed May 26 00:30:26 +0000 2021',\n",
       "  'Wed May 26 00:28:30 +0000 2021',\n",
       "  'Wed May 26 00:28:04 +0000 2021',\n",
       "  'Wed May 26 00:24:09 +0000 2021',\n",
       "  'Wed May 26 00:19:06 +0000 2021',\n",
       "  'Wed May 26 00:11:16 +0000 2021',\n",
       "  'Wed May 26 00:11:08 +0000 2021',\n",
       "  'Wed May 26 00:06:00 +0000 2021',\n",
       "  'Wed May 26 00:05:29 +0000 2021',\n",
       "  'Wed May 26 00:00:33 +0000 2021',\n",
       "  'Wed May 26 00:00:16 +0000 2021',\n",
       "  'Tue May 25 23:59:01 +0000 2021',\n",
       "  'Tue May 25 23:54:22 +0000 2021',\n",
       "  'Tue May 25 23:52:21 +0000 2021',\n",
       "  'Tue May 25 23:50:58 +0000 2021',\n",
       "  'Tue May 25 23:40:31 +0000 2021',\n",
       "  'Tue May 25 23:30:32 +0000 2021',\n",
       "  'Tue May 25 23:28:16 +0000 2021',\n",
       "  'Tue May 25 23:13:01 +0000 2021',\n",
       "  'Tue May 25 23:07:35 +0000 2021',\n",
       "  'Tue May 25 23:07:18 +0000 2021',\n",
       "  'Tue May 25 23:07:11 +0000 2021',\n",
       "  'Tue May 25 23:05:49 +0000 2021',\n",
       "  'Tue May 25 23:05:11 +0000 2021',\n",
       "  'Tue May 25 23:05:05 +0000 2021',\n",
       "  'Tue May 25 23:00:53 +0000 2021',\n",
       "  'Tue May 25 22:59:31 +0000 2021',\n",
       "  'Tue May 25 22:53:39 +0000 2021',\n",
       "  'Tue May 25 22:44:28 +0000 2021',\n",
       "  'Tue May 25 22:33:30 +0000 2021',\n",
       "  'Tue May 25 22:17:06 +0000 2021',\n",
       "  'Tue May 25 22:07:09 +0000 2021',\n",
       "  'Tue May 25 22:05:07 +0000 2021',\n",
       "  'Tue May 25 22:01:47 +0000 2021',\n",
       "  'Tue May 25 21:57:55 +0000 2021',\n",
       "  'Tue May 25 21:55:00 +0000 2021',\n",
       "  'Tue May 25 21:53:28 +0000 2021',\n",
       "  'Tue May 25 21:51:08 +0000 2021',\n",
       "  'Tue May 25 21:49:29 +0000 2021',\n",
       "  'Tue May 25 21:48:12 +0000 2021',\n",
       "  'Tue May 25 21:48:10 +0000 2021',\n",
       "  'Tue May 25 21:47:11 +0000 2021',\n",
       "  'Tue May 25 21:42:45 +0000 2021',\n",
       "  'Tue May 25 21:35:59 +0000 2021',\n",
       "  'Tue May 25 21:31:16 +0000 2021',\n",
       "  'Tue May 25 21:17:35 +0000 2021',\n",
       "  'Tue May 25 21:16:28 +0000 2021',\n",
       "  'Tue May 25 21:15:45 +0000 2021',\n",
       "  'Tue May 25 21:06:00 +0000 2021',\n",
       "  'Tue May 25 20:40:43 +0000 2021',\n",
       "  'Tue May 25 20:33:48 +0000 2021',\n",
       "  'Tue May 25 20:27:42 +0000 2021',\n",
       "  'Tue May 25 20:19:01 +0000 2021',\n",
       "  'Tue May 25 20:15:34 +0000 2021',\n",
       "  'Tue May 25 20:11:23 +0000 2021',\n",
       "  'Tue May 25 20:08:31 +0000 2021',\n",
       "  'Tue May 25 19:56:50 +0000 2021',\n",
       "  'Tue May 25 19:56:32 +0000 2021',\n",
       "  'Tue May 25 19:41:48 +0000 2021',\n",
       "  'Tue May 25 19:39:08 +0000 2021',\n",
       "  'Tue May 25 19:38:18 +0000 2021',\n",
       "  'Tue May 25 19:36:05 +0000 2021',\n",
       "  'Tue May 25 19:17:49 +0000 2021',\n",
       "  'Tue May 25 19:13:21 +0000 2021',\n",
       "  'Tue May 25 19:05:00 +0000 2021',\n",
       "  'Tue May 25 18:48:31 +0000 2021',\n",
       "  'Tue May 25 18:41:12 +0000 2021',\n",
       "  'Tue May 25 18:32:06 +0000 2021',\n",
       "  'Tue May 25 18:30:19 +0000 2021',\n",
       "  'Tue May 25 18:27:14 +0000 2021',\n",
       "  'Tue May 25 18:23:46 +0000 2021',\n",
       "  'Tue May 25 18:17:21 +0000 2021',\n",
       "  'Tue May 25 18:10:59 +0000 2021',\n",
       "  'Tue May 25 18:07:26 +0000 2021',\n",
       "  'Tue May 25 17:45:22 +0000 2021',\n",
       "  'Tue May 25 17:42:31 +0000 2021',\n",
       "  'Tue May 25 17:41:00 +0000 2021',\n",
       "  'Tue May 25 17:26:20 +0000 2021',\n",
       "  'Tue May 25 17:19:19 +0000 2021',\n",
       "  'Tue May 25 17:19:12 +0000 2021',\n",
       "  'Tue May 25 17:06:52 +0000 2021',\n",
       "  'Tue May 25 16:54:32 +0000 2021',\n",
       "  'Tue May 25 16:45:18 +0000 2021',\n",
       "  'Tue May 25 16:43:52 +0000 2021',\n",
       "  'Tue May 25 16:31:17 +0000 2021',\n",
       "  'Tue May 25 16:27:52 +0000 2021',\n",
       "  'Tue May 25 16:24:52 +0000 2021',\n",
       "  'Tue May 25 16:21:27 +0000 2021',\n",
       "  'Tue May 25 16:19:10 +0000 2021',\n",
       "  'Tue May 25 16:11:56 +0000 2021',\n",
       "  'Tue May 25 15:55:03 +0000 2021',\n",
       "  'Tue May 25 15:54:21 +0000 2021',\n",
       "  'Tue May 25 15:48:07 +0000 2021',\n",
       "  'Tue May 25 15:40:20 +0000 2021',\n",
       "  'Tue May 25 15:35:02 +0000 2021',\n",
       "  'Tue May 25 15:33:33 +0000 2021',\n",
       "  'Tue May 25 15:31:50 +0000 2021',\n",
       "  'Tue May 25 15:16:22 +0000 2021',\n",
       "  'Tue May 25 15:12:45 +0000 2021',\n",
       "  'Tue May 25 15:03:30 +0000 2021',\n",
       "  'Tue May 25 15:02:36 +0000 2021',\n",
       "  'Tue May 25 15:01:31 +0000 2021',\n",
       "  'Tue May 25 15:01:31 +0000 2021',\n",
       "  'Tue May 25 15:01:30 +0000 2021',\n",
       "  'Tue May 25 15:01:30 +0000 2021',\n",
       "  'Tue May 25 15:01:19 +0000 2021',\n",
       "  'Tue May 25 14:54:34 +0000 2021',\n",
       "  'Tue May 25 14:41:39 +0000 2021',\n",
       "  'Tue May 25 14:37:02 +0000 2021',\n",
       "  'Tue May 25 14:35:56 +0000 2021',\n",
       "  'Tue May 25 14:28:06 +0000 2021',\n",
       "  'Tue May 25 14:13:51 +0000 2021',\n",
       "  'Tue May 25 14:10:31 +0000 2021',\n",
       "  'Tue May 25 14:03:48 +0000 2021',\n",
       "  'Tue May 25 14:00:02 +0000 2021',\n",
       "  'Tue May 25 13:47:35 +0000 2021',\n",
       "  'Tue May 25 13:44:31 +0000 2021',\n",
       "  'Tue May 25 13:44:07 +0000 2021',\n",
       "  'Tue May 25 13:33:16 +0000 2021',\n",
       "  'Tue May 25 13:18:39 +0000 2021',\n",
       "  'Tue May 25 13:03:00 +0000 2021',\n",
       "  'Tue May 25 12:58:41 +0000 2021',\n",
       "  'Tue May 25 12:40:57 +0000 2021',\n",
       "  'Tue May 25 12:38:47 +0000 2021',\n",
       "  'Tue May 25 12:31:49 +0000 2021',\n",
       "  'Tue May 25 12:30:43 +0000 2021',\n",
       "  'Tue May 25 12:27:10 +0000 2021',\n",
       "  'Tue May 25 12:22:52 +0000 2021',\n",
       "  'Tue May 25 12:19:59 +0000 2021',\n",
       "  'Tue May 25 12:18:44 +0000 2021',\n",
       "  'Tue May 25 11:41:48 +0000 2021',\n",
       "  'Tue May 25 11:36:19 +0000 2021',\n",
       "  'Tue May 25 11:11:13 +0000 2021',\n",
       "  'Tue May 25 10:30:29 +0000 2021',\n",
       "  'Tue May 25 10:25:47 +0000 2021',\n",
       "  'Tue May 25 10:03:40 +0000 2021',\n",
       "  'Tue May 25 10:03:39 +0000 2021',\n",
       "  'Tue May 25 09:56:23 +0000 2021',\n",
       "  'Tue May 25 09:41:55 +0000 2021',\n",
       "  'Tue May 25 09:33:00 +0000 2021',\n",
       "  'Tue May 25 09:04:37 +0000 2021',\n",
       "  'Tue May 25 08:20:10 +0000 2021',\n",
       "  'Tue May 25 07:27:30 +0000 2021',\n",
       "  'Tue May 25 06:50:39 +0000 2021',\n",
       "  'Tue May 25 06:43:07 +0000 2021',\n",
       "  'Tue May 25 06:39:54 +0000 2021',\n",
       "  'Tue May 25 06:09:08 +0000 2021',\n",
       "  'Tue May 25 06:04:08 +0000 2021',\n",
       "  'Tue May 25 05:50:25 +0000 2021',\n",
       "  'Tue May 25 05:16:26 +0000 2021',\n",
       "  'Tue May 25 05:09:08 +0000 2021',\n",
       "  'Tue May 25 04:44:05 +0000 2021',\n",
       "  'Tue May 25 04:28:26 +0000 2021',\n",
       "  'Tue May 25 04:19:07 +0000 2021',\n",
       "  'Tue May 25 04:08:10 +0000 2021',\n",
       "  'Tue May 25 04:05:50 +0000 2021',\n",
       "  'Tue May 25 03:56:40 +0000 2021',\n",
       "  'Tue May 25 03:51:52 +0000 2021',\n",
       "  'Tue May 25 03:45:45 +0000 2021',\n",
       "  'Tue May 25 03:32:42 +0000 2021',\n",
       "  'Tue May 25 03:30:09 +0000 2021',\n",
       "  'Tue May 25 03:12:55 +0000 2021',\n",
       "  'Tue May 25 03:08:42 +0000 2021',\n",
       "  'Tue May 25 03:06:20 +0000 2021',\n",
       "  'Tue May 25 03:04:54 +0000 2021',\n",
       "  'Tue May 25 03:03:50 +0000 2021',\n",
       "  'Tue May 25 02:43:15 +0000 2021',\n",
       "  'Tue May 25 02:30:23 +0000 2021',\n",
       "  'Tue May 25 02:25:28 +0000 2021',\n",
       "  'Tue May 25 02:20:38 +0000 2021',\n",
       "  'Tue May 25 02:10:37 +0000 2021',\n",
       "  'Tue May 25 02:00:16 +0000 2021',\n",
       "  'Tue May 25 01:54:40 +0000 2021',\n",
       "  'Tue May 25 01:44:57 +0000 2021',\n",
       "  'Tue May 25 01:39:25 +0000 2021',\n",
       "  'Tue May 25 01:27:25 +0000 2021',\n",
       "  'Tue May 25 01:23:59 +0000 2021',\n",
       "  'Tue May 25 01:22:34 +0000 2021',\n",
       "  'Tue May 25 01:21:20 +0000 2021',\n",
       "  'Tue May 25 01:20:12 +0000 2021',\n",
       "  'Tue May 25 01:18:11 +0000 2021',\n",
       "  'Tue May 25 01:15:52 +0000 2021',\n",
       "  'Tue May 25 01:14:00 +0000 2021',\n",
       "  'Tue May 25 01:12:22 +0000 2021',\n",
       "  'Tue May 25 01:09:37 +0000 2021',\n",
       "  'Tue May 25 01:05:58 +0000 2021',\n",
       "  'Tue May 25 01:01:54 +0000 2021',\n",
       "  'Tue May 25 00:59:02 +0000 2021',\n",
       "  'Tue May 25 00:53:50 +0000 2021',\n",
       "  'Tue May 25 00:50:03 +0000 2021',\n",
       "  'Tue May 25 00:49:07 +0000 2021',\n",
       "  'Tue May 25 00:36:57 +0000 2021',\n",
       "  'Tue May 25 00:35:49 +0000 2021',\n",
       "  'Tue May 25 00:30:32 +0000 2021',\n",
       "  'Tue May 25 00:30:08 +0000 2021',\n",
       "  'Tue May 25 00:25:37 +0000 2021',\n",
       "  'Tue May 25 00:19:58 +0000 2021',\n",
       "  'Tue May 25 00:17:22 +0000 2021',\n",
       "  'Tue May 25 00:17:04 +0000 2021',\n",
       "  'Tue May 25 00:14:46 +0000 2021',\n",
       "  'Tue May 25 00:11:40 +0000 2021',\n",
       "  'Tue May 25 00:07:18 +0000 2021',\n",
       "  'Tue May 25 00:05:33 +0000 2021',\n",
       "  'Tue May 25 00:00:34 +0000 2021',\n",
       "  'Mon May 24 23:58:49 +0000 2021',\n",
       "  'Mon May 24 23:56:42 +0000 2021',\n",
       "  'Mon May 24 23:55:32 +0000 2021',\n",
       "  'Mon May 24 23:50:37 +0000 2021',\n",
       "  'Mon May 24 23:50:04 +0000 2021',\n",
       "  'Mon May 24 23:46:45 +0000 2021',\n",
       "  'Mon May 24 23:38:29 +0000 2021',\n",
       "  'Mon May 24 23:38:21 +0000 2021',\n",
       "  'Mon May 24 23:33:11 +0000 2021',\n",
       "  'Mon May 24 23:26:57 +0000 2021',\n",
       "  'Mon May 24 23:18:21 +0000 2021',\n",
       "  'Mon May 24 23:17:38 +0000 2021',\n",
       "  'Mon May 24 23:14:23 +0000 2021',\n",
       "  'Mon May 24 23:13:34 +0000 2021',\n",
       "  'Mon May 24 23:12:49 +0000 2021',\n",
       "  'Mon May 24 23:12:11 +0000 2021',\n",
       "  'Mon May 24 23:03:46 +0000 2021',\n",
       "  'Mon May 24 23:00:01 +0000 2021',\n",
       "  'Mon May 24 22:58:21 +0000 2021',\n",
       "  'Mon May 24 22:53:44 +0000 2021',\n",
       "  'Mon May 24 22:43:07 +0000 2021',\n",
       "  'Mon May 24 22:38:50 +0000 2021',\n",
       "  'Mon May 24 22:37:17 +0000 2021',\n",
       "  'Mon May 24 22:31:36 +0000 2021',\n",
       "  'Mon May 24 22:30:41 +0000 2021',\n",
       "  'Mon May 24 22:24:15 +0000 2021',\n",
       "  'Mon May 24 22:18:43 +0000 2021',\n",
       "  'Mon May 24 22:16:07 +0000 2021',\n",
       "  'Mon May 24 22:04:39 +0000 2021',\n",
       "  'Mon May 24 21:54:04 +0000 2021',\n",
       "  'Mon May 24 21:48:22 +0000 2021',\n",
       "  'Mon May 24 21:43:15 +0000 2021',\n",
       "  'Mon May 24 21:40:45 +0000 2021',\n",
       "  'Mon May 24 21:36:03 +0000 2021',\n",
       "  'Mon May 24 21:34:45 +0000 2021',\n",
       "  'Mon May 24 21:34:36 +0000 2021',\n",
       "  'Mon May 24 21:32:53 +0000 2021',\n",
       "  'Mon May 24 21:29:58 +0000 2021',\n",
       "  'Mon May 24 21:28:20 +0000 2021',\n",
       "  'Mon May 24 21:27:43 +0000 2021',\n",
       "  'Mon May 24 21:26:54 +0000 2021',\n",
       "  'Mon May 24 21:24:25 +0000 2021',\n",
       "  'Mon May 24 21:16:55 +0000 2021',\n",
       "  'Mon May 24 21:15:55 +0000 2021',\n",
       "  'Mon May 24 21:05:21 +0000 2021',\n",
       "  'Mon May 24 20:54:27 +0000 2021',\n",
       "  'Mon May 24 20:53:50 +0000 2021',\n",
       "  'Mon May 24 20:52:14 +0000 2021',\n",
       "  'Mon May 24 20:52:00 +0000 2021',\n",
       "  'Mon May 24 20:49:04 +0000 2021',\n",
       "  'Mon May 24 20:44:50 +0000 2021',\n",
       "  'Mon May 24 20:44:35 +0000 2021',\n",
       "  'Mon May 24 20:38:59 +0000 2021',\n",
       "  'Mon May 24 20:33:48 +0000 2021',\n",
       "  'Mon May 24 20:22:48 +0000 2021',\n",
       "  'Mon May 24 20:20:31 +0000 2021',\n",
       "  'Mon May 24 20:18:41 +0000 2021',\n",
       "  'Mon May 24 20:11:10 +0000 2021',\n",
       "  'Mon May 24 20:05:02 +0000 2021',\n",
       "  'Mon May 24 19:48:15 +0000 2021',\n",
       "  'Mon May 24 19:47:59 +0000 2021',\n",
       "  'Mon May 24 19:42:37 +0000 2021',\n",
       "  'Mon May 24 19:21:51 +0000 2021',\n",
       "  'Mon May 24 19:20:05 +0000 2021',\n",
       "  'Mon May 24 19:20:03 +0000 2021',\n",
       "  'Mon May 24 19:14:56 +0000 2021',\n",
       "  'Mon May 24 19:12:43 +0000 2021',\n",
       "  'Mon May 24 19:11:17 +0000 2021',\n",
       "  'Mon May 24 19:10:30 +0000 2021',\n",
       "  'Mon May 24 19:09:37 +0000 2021',\n",
       "  'Mon May 24 19:01:39 +0000 2021',\n",
       "  'Mon May 24 19:00:33 +0000 2021',\n",
       "  'Mon May 24 18:58:53 +0000 2021',\n",
       "  'Mon May 24 18:55:12 +0000 2021',\n",
       "  'Mon May 24 18:54:59 +0000 2021',\n",
       "  'Mon May 24 18:53:51 +0000 2021',\n",
       "  'Mon May 24 18:51:50 +0000 2021',\n",
       "  'Mon May 24 18:40:24 +0000 2021',\n",
       "  'Mon May 24 18:37:37 +0000 2021',\n",
       "  'Mon May 24 18:37:01 +0000 2021',\n",
       "  'Mon May 24 18:35:28 +0000 2021',\n",
       "  'Mon May 24 18:25:53 +0000 2021',\n",
       "  'Mon May 24 18:18:06 +0000 2021',\n",
       "  'Mon May 24 18:16:30 +0000 2021'],\n",
       " 'full_text': ['#Grupos de #WhatsApp #Ecuador #Amistad #Ligar Telegram https://t.co/YB7yoKUoPt @elyex #Colegios #Estudiantes #Link #Música #Netflix #Peliculas #Unirse https://t.co/4DW2hcLLF6',\n",
       "  'Comecei a assistir #Demolidor na #Netflix e tô gostando demais.\\n\\nEntão decidi criar um fan poster e esse foi o resultado. 😄 https://t.co/JlaFb9UyjW',\n",
       "  'Pôster da 2º temporada de Love, Death &amp; Robots\\n\\nJá disponível na Netflix\\n\\n#LoveDeathAndRobots #Netflix https://t.co/kq5qi6PIty',\n",
       "  'Alguem assistindo @quemmatousarabr no @NetflixBrasil ? Acho que comi mosca como o alex descobriu onde elisa estava. So entendi que viu o nome das mulheres e as cadeiras ( grades) iguais. Mas o bingo nao consegui pegar #serie #Netflix #QuemMatouSara2 #lerdiei',\n",
       "  'Ansiedade ativa, laça logo a quinta temporada na Netflix\\n#Netflix \\n#Riverdale https://t.co/8brXrp0FyI',\n",
       "  'Sinceramente, não acredito que Special acabou. É uma série leve e com temas muito relevantes. O texto te faz rir e ao mesmo tempo ficar na bad, hahah\\n\\n@NetflixBrasil renova aí, vai \\n#special #Netflix',\n",
       "  'Assistam #netflix https://t.co/YHWTKdiRq9',\n",
       "  'Fui parar para assistir e já maratonei.. ah detonando tbm 1 caixa de BIS #netflix https://t.co/Ha9nYzNhNe',\n",
       "  'A Sara é simplesmente insuportável.\\nEu mesma matei a Sara #netflix',\n",
       "  'já assistiram fratura? #filme #Netflix',\n",
       "  'Triste pq eu só queria esse homem na minha vida😭 #Netflix #Vincenzo https://t.co/NiSeQLODE3',\n",
       "  '#AMúmia aquele filminho pra relaxar e cochilar! 💤 #Netflix #cansada',\n",
       "  'Que risada gostosa é da Lisa do The Circle.\\n\\n#TheCircleUSA #Netflix',\n",
       "  'Eu fico passado com a lenda \"Ataque dos Vermes Malditos\" em alta na #Netflix',\n",
       "  'E eu que sou preferencial/beta e recebo atualizações primeiro que todo mundo no #WhatsApp #Instagram #netflix ... aí tenho que aguentar 1 mês depois o povo descobrindo-se novas coisas 🤦🏻\\u200d♂️😂... pq hj só tem “amando esse aceleramento de áudio”',\n",
       "  'Dash &amp; Lilly é tão levinho e clichê... ADOREI. #Netflix',\n",
       "  'Queria que o Courtney fosse eliminado. Não gostei da Emilly eliminada. \\n\\n#TheCircleUSA #Netflix',\n",
       "  'N poderia terminar melhor 😍\\n#RunOn #Netflix',\n",
       "  '@soypaulinagoto Olá @soypaulinagoto  #Netflix vai lançar série sobre a vida de #GloriaTrevi  @GloriaTrevi ...É VERDADE QUE VOCÊ VAI SER A #GloriaTrevi? #Paulinagoto @carlaestrada #carlaestrada',\n",
       "  '🎬 ASSISTA AGORA! XINGANDO Eternos, o Rodrigo TÁ FICANDO DOIDO!?!? \\nhttps://t.co/wGgOUaZAjt\\nhttps://t.co/wGgOUaZAjt\\nhttps://t.co/wGgOUaZAjt\\n#Eternals #Eternos #filmes #marvel #disney #irmaospiologo #games #jogos #ps5 #xbox #XboxSeriesX #filmes #movie #netflix https://t.co/hruZroyDSw',\n",
       "  'Pensei que ia amar #ArmyOfTheDead, mas depois dos primeiros  minutos ficou uma palhaçada que eu nem consegui terminar... Todo aquele efeito me da um nervoso. #Netflix',\n",
       "  \"Netflix divulga data de estreia das duas partes de 'La Casa de Papel 5'.\\n\\n🎥🏦 https://t.co/DlVXGshixe\\n\\n#eusouconectados #rádioconectados\\n#Netflix #LaCasaDePapel #Ultima #Temporada #Streaming #Séries #Berlin #Rio #Denver #Tokio #Nairobi #Professor #Helsink https://t.co/XpWSkvXKBJ\",\n",
       "  'A declaração foi feita durante uma live em seu Instagram\\n“Pedem muitas [músicas] do RBD e eu vou te dizer uma coisa: Sim estou no projeto [do novo “Rebelde”], sim estou no RBD, sim tenho que cantá-las [as músicas do RBD], porque eu tenho que cantá-las por contrato. #rbd #Netflix https://t.co/juxeirntOH',\n",
       "  'Como assim existem “negadores do holocausto”? Mas gte! 😱\\n#Auschwitz #OContadorDeAuschwitz #Netflix',\n",
       "  '\"A Prima Sofia\" (2019): Filme de crescimento bonitinho, com bons atores, dilemas razoáveis e lindas locações em Cannes. Sinceramente não tem muito a dizer, mas a experiência até que é agradável. Adição simpática pro acervo de cinema francês da Netflix. 3/5 #netflix https://t.co/aYZX46Rjar',\n",
       "  'Quem mais tá ansioso pela 4° temporada de Elite??\\n#Elite4 \\n#trisal\\n#Netflix https://t.co/0NV0AxXd2p',\n",
       "  'Eu ainda tô em CHOQUE com a segunda temporada de Quem matou Sara? #NETFLIX',\n",
       "  'Efeitos especiais dos filmes Ilha do Medo (2011) e Parasita (2019)\\n\\n#netflix #netflixbrasil #amazonprimevideo #efeitosespeciais https://t.co/wM04BPpsjK',\n",
       "  '#DineoDragaoGenial ganha divertido trailer dublado; Assista! #Netflix @JackieChain74 \\nhttps://t.co/QRQMREG40Z',\n",
       "  'Sokka e Zuko terão idades diferentes na adaptação de Avatar: A Lenda de Aang da Netflix\\nhttps://t.co/Iwl7Vlpxxb\\n\\n#AvatarTheLastAirbender #Netflix #Nickelodeon #ParamountPlus https://t.co/smEEvxpMdp',\n",
       "  'Charlize Theron está produzindo um filme sobre mulheres surfistas (e a desigualdade de gênero no esporte) para a #Netflix. https://t.co/qAvjidvov0',\n",
       "  '#LaCasaDePapel 5 | #Netflix\\nVeja o trailer em: https://t.co/qeMfAVD7Hn https://t.co/J2hWyrOQBU',\n",
       "  'Que fim é esse dessa série? MDS \\n\\n#Netflix #QuemMatouSara2',\n",
       "  'FILME DE AÇÃO E AVENTURA COMPLETO HD DUBLADO E LEGENDADO LANÇAMENTO #filme #filmes #netflix #cinema #tv #dc #marvel #assistir #online #férias https://t.co/hl3dy3LPcU',\n",
       "  'Pôster de Pretty Guardian Sailor Moon Eternal: O Filme\\n\\nEstreia 03 de junho na Netflix\\n\\n#SailorMoon #PrettyGuardianSailorMoonEternalOFilme #Netflix https://t.co/vHFso3qGpA',\n",
       "  'Kkkkkkk sim\\n#RunOn #NaDireçãodoAmor #Dorama #Netflix https://t.co/sYnQxW5A68',\n",
       "  'Que nota vcs dão? Quem gostou?\\n#filmes2021 #filmesdezumbi #zumbi #Netflix #ZackSnyder https://t.co/Cc94d0VMdr',\n",
       "  'Almofada com Suporte para Pipoca e Refri em Tecido Misto 40cm x 30cm 03 Peças🍿\\U0001f964\\n\\nAcesse https://t.co/rnvqRglPHZ ou toque na tela para conferir agora mesmo!\\n\\n#enxovaisibitinga #ibitinga #popcorn #decoracao #almofada #soda #marigil #refrigerante #casinhadasabrina #pipoca #netflix https://t.co/0vtNGCFacU',\n",
       "  'Começando uma nova serie: a\\nOutras 500 séries que eu não terminei ainda:\\n#series #gotham #dc #Netflix https://t.co/bYpWSs6EtL',\n",
       "  'Estragaram GAROTA DE FORA com a segunda temporada \\n@NetflixBrasil #dorama #serie #Netflix',\n",
       "  'Como aguentar a ansiedade até a estreia da parte 2 da 5 temporada de Lúcifer? Com um vídeo do canal! Vem conferir! https://t.co/2HWT1xp9Um\\n#YouTube #Netflix #LuciferNetflix #LuciferSeason5 #netflixseries https://t.co/dBYohYUGYa',\n",
       "  'Já está no ar o 7 episódio do Skynet Podcast, dessa vez debatemos sobre o cinema, se ele vai ou não acabar por causa do surgimento dos serviços de streaming, corre lá ouvir. \\n #Cinema #DisneyPlus #AmazonPrime #Netflix #HBO https://t.co/5bRPEBwABL',\n",
       "  '#SkyRojo #série da #Netflix sobre tráfico de mulheres para prostituição onde a puta brasileira é Anita \\U0001f928',\n",
       "  '@NetflixBrasil Que ação foi essa dona #netflix me trouxe muitas memórias da  adolescência com o #bondedotigrao https://t.co/p1vIhoAWqF',\n",
       "  '@NetflixBrasil Se você já tem cadastro na rappi, ganhe até R$20 grátis para pedir novamente. Aproveitem, uhull.\\n                   🍟🍔🍕\\n        Usem meu cupom\\n          f7h38404584r  ⬅️\\n\\n       Você ganha e eu ganho\\n             Netflix - Omar Sy \\n#rappi #pedeumrappi #rappicreditos #Netflix',\n",
       "  '@NetflixBrasil Nanno é perfeita demais 😍❤️💖 #garotadefora #Netflix',\n",
       "  'A 2° temporada da série @SelenaLaLeyenda tá muito boa. Bem desenvolvido a biografia da artista. #Netflix \\nhttps://t.co/BIiYYydNPi',\n",
       "  'Para amantes de #Shrek e muitos outros! Vem ver o trailer de \"Din e o Dragão Genial\", da #Netflix \\nhttps://t.co/9DGclXsxfQ',\n",
       "  'Assistir #Netflix #TheBoldType com a melhor companhia! https://t.co/6N9EgtUucV',\n",
       "  'FILME DE COMÉDIA NACIONAL COMPLETO com Fabiana Karla e Adriana Esteves ASSISTA AGORA #comédia #filmes #netflix #filme #tv #cinema https://t.co/5tUlvJfJse',\n",
       "  'FILME DE COMÉDIA COMPLETO - SE ACABE DE RIR #comédia #filmes #netflix #filme #férias #tv #cinema https://t.co/sWFOr11FB3',\n",
       "  'Além disso, a série já tem data para começar a filmar !\\n\\nAvatar: A Lenda de Aang - Zuko e Sokka terão idades diferentes em live-action da Netflix\\n\\nhttps://t.co/ukrwCGaAEL\\n\\n#AvatarALendaDeAang #AvatarTheLastAirbender #Netflix https://t.co/zyHVN6urL9',\n",
       "  'Comédia de humor negro foca no mundo do fetiche sado-masoquista\\n\\nDisponível na plataforma de streaming #Netflix, Amizade Dolorida (Bonding) é um seriado de humor negro. A segunda temporada do programa,criado e dirigido por Rightor Doyle, \\n#series #seriad\\n\\nhttps://t.co/XUOjkwGWNN https://t.co/ZCuzyHpZ8u',\n",
       "  'Espero que esse ser saia da produção e entre outro ator que respeite o RDB \\n#RBD #Netflix https://t.co/7tGo4lMxlS',\n",
       "  'Acho que agora eu vou virar comentarista de filmes da #Netflix \\nUm Tweet meu nunca rendeu tanta visualização quanto esse kkkk 🤷🏻\\u200d♂️🤷🏻\\u200d♂️',\n",
       "  'Junho tá chegando né, e nada melhor que planejar a programação 😽 #Netflix &amp; #apertepleyvidios \\n\\n➡️Quem matou sara? 3/6\\n➡️A saga crepúsculo 12/6\\n➡️ Wanhelsing 13/6\\n➡️ Diabléro 17/6\\n➡️Desejo sombrio 25/6\\n➡️O último guardião 26/6 https://t.co/B7xdLkKzuW',\n",
       "  'Saiba um pouco mais sobre o que podemos aprender sobre marketing digital acompanhando o planejamento de grandes empresas como Netflix, Prime Video ou Disney+.\\n\\nAcesse 👉 https://t.co/NAr6FPzQEc\\n\\n#Netflix #marketingdigital #streaming https://t.co/9vNii7WhQM',\n",
       "  'Apesar da história ter muitas reviravoltas e ser totalmente imprevisível, a 2ª temporada de #QuienMatoASara apresenta várias incongruências sem pés nem cabeça...\\n\\nEspreita a #review: https://t.co/MYGUazSwpb\\n#seriesdatv #Netflix https://t.co/lR2ltdCTiP',\n",
       "  'QUEM MATOU SARA? #Quem #Sara #Netflix',\n",
       "  'Acabei de ver \"Eu sou todas as meninas\". Bom demais 👏🏾\\n\\n#iamallgirls #Netflix',\n",
       "  '🎬 ASSISTA AGORA! XINGANDO Eternos, o Rodrigo TÁ FICANDO DOIDO!?!? \\nhttps://t.co/wGgOUaZAjt\\nhttps://t.co/wGgOUaZAjt\\nhttps://t.co/wGgOUaZAjt\\n#Eternals #Eternos #filmes #marvel #disney #irmaospiologo #games #jogos #ps5 #xbox #XboxSeriesX #filmes #movie #netflix https://t.co/XUdtQGxj1u',\n",
       "  'Assistir #Special no #Netflix provoca uma reflexão profunda sobre corpos e afetos. Estas entre inúmeras outras. Ainda mais quando pensamos na questão de relacionamentos. Isso dá uma thread incrível.',\n",
       "  'O Randolfe ao vivo é o maior concorrente da Netflix.\\n\\n#randolfe #Netflix #covid #cpi #cloroquina #pazuzu #gado #bolsonaro',\n",
       "  '#Netflix começar se tornar serviço de #jogos também https://t.co/XXWlByipDp #apps',\n",
       "  'Minhas arma do céu !! Que barbaridade o teaser de @lacasadepapel !!! Ansioso demais. \\n\\n#Netflix #LaCasaDePapel',\n",
       "  'O dona @netflix não dá pra continuar com #sergiomori no elenco de #rebelde  arruma outra coisa pra ele fazer, #SergioMoriFueraDeRebelde #Netflix #RBD #Mexico',\n",
       "  'Eu quero cenas fortes querida, quero tapa na bunda é puxão de cabelo 👁👄👁\\n#Netflix #EliteNetflix #Elite5 https://t.co/eAS0ij1HDm',\n",
       "  '@NetflixBrasil É mesmo? 🤔\\nCadê meu #WordOfHonor, dona @NetflixBrasil? \\nTá difícil ter cdrama, hein?! Colabora aí, por favor! 🙏\\n#龚俊 #GongJun #SimonGong #ZhangZheHan #张哲瀚 #cdrama #dorama #Netflix #netflixbrasil https://t.co/hRtDU7tGzG',\n",
       "  'Meu coração dói que fiz Direito e não foi nada parecido com isso: #LawSchool #Netflix https://t.co/cdxXRiDleO',\n",
       "  'A série  Special é tão boa e tão necessária, que já me deu depre antes mesmo de começar a 2° temporada, pois sabia que ia acabar rápido.\\n\\n#SpecialNetflix  #Netflix',\n",
       "  'A quinta parte de #LaCasaDePapel já tem data de estreia! A produção, que é um grande sucesso da #Netflix, nos promete muita emoção nessa nova fase. Confira tudo que sabemos até agora! #ÚrsulaCorberó https://t.co/ekhaVazDnM',\n",
       "  'Será? @NetflixBrasil investe no universo de games, inclusive com pacote de jogos para download.\\n\\n#games #Netflix #streaming\\n\\nhttps://t.co/BHwJcl07aU https://t.co/d7O8mC7mvd',\n",
       "  'Relaxando assistindo a segunda temporada de Special!! #netflix https://t.co/V9N6rxbCsm',\n",
       "  'Hoje é dia do Orgulho Nerd! 💜\\n\\nSorteie um #Filme ou #Série para comemorar esse dia:\\nhttps://t.co/wCTq6j4M60\\n\\n#AmeGeek #netflix #netflixbrasil #globoplay #hboplus #amazonprimevideo #filmesonline #seriesonline #disneyplus #orgulhonerd #nerd #geek #geekbrasil  #vingadores #StarWars https://t.co/faRXP45kSz',\n",
       "  'No #compatilha dessa semana temos mais uma dica do nosso querido arquiteto Eduardo Vieira, que trouxe sobre a série “Ratched” da @netflix. Você que ama os tempos antigos dos anos 40 já vai se encantar logo de cara. E aí curtiu a dica? #Ratched #Netflix https://t.co/Jux3dyB5S6',\n",
       "  'Que isso @NetflixBrasil?  😳 #netflix https://t.co/OlQ39BWgcv',\n",
       "  '🎬 ASSISTA AGORA! XINGANDO Eternos, o Rodrigo TÁ FICANDO DOIDO!?!? \\nhttps://t.co/wGgOUaHYUT\\nhttps://t.co/wGgOUaHYUT\\nhttps://t.co/wGgOUaHYUT\\n#Eternals #Eternos #filmes #marvel #disney #irmaospiologo #games #jogos #ps5 #xbox #XboxSeriesX #filmes #movie #netflix https://t.co/lhLdpZOHFb',\n",
       "  'Alucard meu marido #Netflix #Castlevania',\n",
       "  'Os últimos 4 filmes que vi durante a semana passada:\\n-Família Mitchell contra as Máquinas \\n-Army Of the Dead\\n-Psicopata Americano\\n-Midsommar\\n.\\nGostei de todos.\\n#Netflix #AmazonPrime #ArmyOfTheDead #MitchellsVsMachines #PsicopataAmericano\\n#Midsommar',\n",
       "  'Crítica no nosso instagram sobre o novo filme de #ZackSnyder , #ArmyOfTheDead , na #Netflix .\\n\\nConfira:\\nhttps://t.co/ALL0HjCpR0 https://t.co/1vNQOHX5OQ',\n",
       "  'Amor e Monstros. Confira os efeitos especiais do filme da Netflix.\\n.\\n.\\n#lovaandmonster #netflix #cinema #streaming https://t.co/yWdp6zVSxo',\n",
       "  'Em novo filme original da #Netflix, equipe de um orfanato encara competição de pesca para salvar a instituição #BlueMiracle #MilagreAzul  - https://t.co/49AmvNjNry https://t.co/zNKB5QJRuG',\n",
       "  'Novo pôster de #ArmyOfTheDead , novo filme do gostoso e talentoso Zack Snyder para a #Netflix . https://t.co/ki0adjNQYH',\n",
       "  'Christian lindo e sensato ja mandou seu deboche,só falta os 5 bonitos se pronunciarem,eu esperando isso acontecer\\n\\n#RBD #SergioMoriFueraDeRebelde #rebelde #Netflix #netflixlat #ysourebelde #chistianchavez https://t.co/InbeuTIj8Z',\n",
       "  'Isto da “ La casa de Papel” sair só em Setembro é pior que o Covid fds...       #LaCasaDePapel #Netflix #NetflixEspaña #Netflixportugal',\n",
       "  'Sergio Mayer Mori: \"Odio RBD\"\\nhttps://t.co/kCCiQsmqQS\\n\\n#SergioMoriFueraDeRebelde #RBD\\n#Netflix #fans https://t.co/nsUH0Dua3X',\n",
       "  'Confira no site a nossa crítica sem spoilers de ARMY OF THE DEAD: INVASÃO EM LAS VEGAS, filme original #Netflix dirigido por #ZackSnyder https://t.co/H181BrhQqb',\n",
       "  '#PraCegoVer: Arte em fundo preto com um cifrão verde ao centro, abaixo temos três luvas com o símbolo da DisneyPlus, Netflix e Amazon Prime em posição de confronto respectivamente nas cores, azul escuro, vermelho e azul claro.\\n\\n#Netflix #AmazonPrime #revistatorta #RTNART',\n",
       "  'Garota Mimada FILME COMPLEDO HD com Emma Roberts #filme #filmes #online #netflix #cinema #tv  https://t.co/3fpJQsiJbi',\n",
       "  'Esse anime surpreende em TODOS os episódios, foge completamente do esperado, da mesmice. Recomendo a todos!\\n\\n#Anime #YakusokuNoNeverland #ThePromisedNeverland #Netflix https://t.co/vzLvCFrm7D',\n",
       "  'Gunpowder Milkshake | Confira o primeiro trailer oficial do filme #GunpowderMilkshake #Netflix #KarenGillan\\nhttps://t.co/o1D87vHEx7 https://t.co/IBnzVdi843',\n",
       "  '@NetflixBrasil O netflix, volta com pll ai e tira chiquititas vaiii #Netflix',\n",
       "  'FILME COMPLETO DE LUTA, AÇÃO E ARTES MARCIAIS  DUBLADO EM HD #filme #filmes #luta #ação #netflix #online #dc #marvel  https://t.co/0cgb0Ey8DM',\n",
       "  'Rick &amp; Morty | Revelados os nomes dos episódios da 5ª Temporada\\n#rickAndMorty #RickandMorty #Netflix #HBOMax #AdultSwin\\nhttps://t.co/rxrRHC1DNt https://t.co/1XsfWXReOF',\n",
       "  '🎬 ASSISTA AGORA! XINGANDO Eternos, o Rodrigo TÁ FICANDO DOIDO!?!? \\nhttps://t.co/wGgOUaZAjt\\nhttps://t.co/wGgOUaZAjt\\nhttps://t.co/wGgOUaZAjt\\n#Eternals #Eternos #filmes #marvel #disney #irmaospiologo #games #jogos #ps5 #xbox #XboxSeriesX #filmes #movie #netflix https://t.co/OpkDoQ8PJO',\n",
       "  '@NetflixBrasil @netflix Netflix demita sergio mori porfavor,  precisamos de pessoas que honrem a novela e as músicas, principlamente quando esta no elenco principal #Rebelde #RBD #RebeldeNetflix #Netflix \\n @NetflixPT @Netflixhelps @NetflixMY @NetflixMENA',\n",
       "  'Saiba um pouco mais sobre o que podemos aprender sobre marketing digital acompanhando o planejamento de grandes empresas como Netflix, Prime Video ou Disney+.\\n\\nAcesse 👉 https://t.co/TxdG12SyJT\\n\\n#Netflix #marketingdigital #streaming https://t.co/QJc82TMZ09',\n",
       "  'O Vizinho 2ª temporada | O que muda na série espanhola da Netflix? 📺\\n\\n#OVizinho #Netflix #ElVecino #elvecino2 \\n\\n&lt;https://t.co/dZ25iRFNzk&gt; https://t.co/zuxblEXAVi',\n",
       "  'Agora sim esse filme fica marcado na história do cinema. #Netflix https://t.co/MgfrBNIKAo',\n",
       "  'FILME DE COMÉDIA ROMÂNTICA COMPLETO HD E DUBLADO #filme #filmes #tv #cinema #netflix #globoplay #assistir #online  https://t.co/XH6RF7uunn',\n",
       "  'Aquele registro bem especial, desse lugar incrível chamado Austrália 🇦🇺\\U0001f998\\n\\n📸: @char_best (Instagram)\\n\\n#marcopigossi #dylanseager #tidelands #netflix #australia #universopigossi #seriesoriginaisdanetflix https://t.co/QqZGgKPg0L',\n",
       "  'O povo querendo o impeachment de Bolsonaro e eu querendo saber quem matou a sara ! 😂😂😂 #Netflix',\n",
       "  'Amanhã tem 2° temporada de close enough na #Netflix https://t.co/uSLCQH9rql',\n",
       "  'Ela é o Cara l FILME DE COMÉDIA/ROMANCE COMPLETO HD Dublado #filme #filmes #tv #cinema #netflix https://t.co/XH6RF7uunn',\n",
       "  'Para quem se interessa pelo meio ambiente e o planeta Terra, esse é um excelente documentário sobre ciência e natureza.\\n#eurecomendo #Netflix \\n#Terra \\n#natureza\\n#meioambiente \\n#planetaterra \\n#PlanetaTierra https://t.co/J519gTA44q',\n",
       "  'Títulos de séries e filmes que estreiam esse mês na plataforma Netflix. Helena Trevisan para o Jornal 140. #2021 #Carnaval #Elite #Junho #Lançamentos #Lupin #Netflix #Streaming #Swe...\\nhttps://t.co/AOkFuYZNuG',\n",
       "  'Estreno en #Netflix: Secretos de Estado (2019, IMDb 7.3)\\n #cine #NetflixEspana https://t.co/UH9i10mvVL',\n",
       "  '[Ep 8]\\n\\nAquela vontade de andar com uma arma branca e meter o loco pra cima de ALGUÉM.\\n\\n#Anime #YakusokuNoNeverland #ThePromisedNeverland #Netflix https://t.co/vVl0xULyZh',\n",
       "  'Galera começar a subir a teg #The100SecondDawn #The100 #TheCW #HBOMax #Netflix',\n",
       "  'A série acabou de novo e eu ainda não sei QUEM MATOU A PORCARIA DA SARA!\\n\\n#QuemMatouSara2 #Netflix @NetflixBrasil https://t.co/Jb2CxkMj1B',\n",
       "  'Sobre o melhor filme que vi esse ano...\\n@AnthonyHopkins está incrível, e eu não poderia deixar passar e não fazer uma arte sobre.\\nE ai o que acharam? \\n\\n#Fanart  #AnthonyHopkins\\u200b #TheFather\\u200b #Oscars\\u200b #Hollywood\\u200b\\u200b #Netflix #GooglePlay #Winners\\u200b #TheOscarsGoesTo #illustration https://t.co/z1ETBLKb3k',\n",
       "  'Special não decepcionou nessa 2 temp \\nEsse é o tuit \\n#Netflix',\n",
       "  '@NetflixBrasil Se você já tem cadastro na rappi, ganhe até R$20 grátis para pedir novamente. Uhul \\n                   🍟🍔🍕\\n        Usem meu cupom\\n          f7h38404584r  ⬅️\\n\\n       Você ganha e eu ganho\\n             \\n#rappi #pedeumrappi #rappicreditos #ZOMBIETIGER  #ArmyOfTheDead #Netflix',\n",
       "  'Parte 5 será dividida em 2 volumes com estreias em 03/09 e 03/12; confira o teaser!\\n\\n#LaCasaDePapel #Netflix\\n\\nhttps://t.co/9OcL3yKv3K',\n",
       "  'Parte 5 será dividida em 2 volumes com estreias em 03/09 e 03/12; confira o teaser!\\n\\n#LaCasaDePapel #Netflix\\n\\nhttps://t.co/qPo6mUhuF3',\n",
       "  'Parte 5 será dividida em 2 volumes com estreias em 03/09 e 03/12; confira o teaser!\\n\\n#LaCasaDePapel #Netflix\\n\\nhttps://t.co/BGRvZeNbsh',\n",
       "  'Parte 5 será dividida em 2 volumes com estreias em 03/09 e 03/12; confira o teaser!\\n\\n#LaCasaDePapel #Netflix\\n\\nhttps://t.co/rmewaCq4eD',\n",
       "  'Vem aí! 5º temporada de @lacasadepapel deve estrear em setembro desse ano, mas com uma novidade, a última parte da série será dividida em duas. Estão ansiosos? \\n\\nPara saber mais detalhes, acesse: https://t.co/vI17Pe4ait\\n\\n#lacasadepapel #Netflix #LaCasaDePapel #LaCasaDePapel5 https://t.co/W7eYTKi0Yj',\n",
       "  'É impressão minha ou o filme cinquenta tons de cinza na Netflix não tá completo?🤔\\n#Netflix',\n",
       "  'TOP 10 MELHORES SÉRIES SOBRENATURAIS #NETFLIX #SERIES #SOBRENATURAL https://t.co/qWfgmIcDuD',\n",
       "  'Ja vi que vamos ter a 20° temporada e não vamos descobrir:\\n- Quem matou Sara? #Netflix #QuemMatouSara',\n",
       "  'Acabei de ver a série da @NetflixPT tribes of europe! Amei 😍😍😍\\n\\n#Netflix #tribesofeuropa #series #netflixandchill',\n",
       "  '🎬 XINGANDO Eternos, o Rodrigo TÁ FICANDO DOIDO!?!? ESTREIA JÁ JÁ!\\nhttps://t.co/m9Dx3EPGC0\\nhttps://t.co/m9Dx3EPGC0\\nhttps://t.co/m9Dx3EPGC0\\n#Eternals #Eternos #filmes #marvel #disney #irmaospiologo #games #jogos #ps5 #xbox #XboxSeriesX #filmes #movie #netflix https://t.co/YpQ8yClmn8',\n",
       "  'E esse final de “Quem matou Sara Temp 2”!? Quero a terceira temporada agora!\\n\\n#Netflix #QuemMatouSara2',\n",
       "  'Qual gênero de filme mais combina com você?▶https://t.co/b7SLkbZPET\\n\\n#Enquete #filme #serie #Netflix #ArmyOfTheDead #movie #Cinema',\n",
       "  \"Pra quem ñ conhece a história de Hermann Göring eu recomendo a série Hitler's Circle of Evil, da #Netflix .\\nAo lado de Goebbels e Himmler, ele formava o círculo mais íntimo de Hitler. Heroi da I Guerra Mundial, voou com o famoso Barão Vermelho e virou um lixo nazista. #CPIdaCovid\",\n",
       "  'Estava com saudade de #LindsayLohan? Ela vai protagonizar a nova comédia romântica natalina da #Netflix! Saiba mais: https://t.co/I9S1MX55qt',\n",
       "  'Filme de romance/comédia COMPLETO GRATUITO #tv #filme #filmes #cinema #netflix https://t.co/TP0mrpVHB6',\n",
       "  'Revendo Lucifer deis do começo para \"Sexta-Feira\" estar com a memória fresca pronta pra maís🎬😝 #LuciferSeason5part2  #netflix',\n",
       "  'Trailer da nova temporada de \"La casa de papel\"\\n\\n#serie #lacasadepapel #netflix #ansiedades https://t.co/WPt1rfB49Z',\n",
       "  'Bom dia, Ultralovers! Na coluna Garimpo dessa semana, @fabiomartins74 relembra um clássico que evoca toda a versatilidade de Robert De Niro. Se liga: \\n https://t.co/kqUixpCtP1\\n\\n#FugaaMeiaNoite #Netflix #RobertDeNiro #CharlesGrodin #Garimpo #Ultraverso👽',\n",
       "  'Conhece esse casal de corretores mochileiro?\\n\\n#DiadaToalha #DiadoOrgulhoNerd #SacyDay #OiNerd #nerd #geek #santaclaritadiet #TVseries #AmazonPrime #Netflix #HBOMax #TowelDay https://t.co/CJ9Nqlh2tZ',\n",
       "  'A #Netflix deu luz verde a uma série de espionagem protagonizada por #ArnoldSchwarzenegger! 😱\\n\\n👉 https://t.co/RZCGBAWCmP\\n#seriesdatv https://t.co/YkN2J1DWdv',\n",
       "  'Master of None vi o primeiro epi. da 3: fiquei triste e não me motivou a continuar =[ #decepção #netflix #MasterOfNone',\n",
       "  '#AFamíliaMitchellEARevoltaDasMáquinas, animação original da #Netflix que mistura diferentes estilos visuais em uma trama surtada com ritmo frenético, utilizando quase uma linguagem de memes para falar da dependência tecnológica e do distanciamento pessoal. #RECOMENDO',\n",
       "  'Uma coincidência em relação a minha participação no programa @CantaComigoRec pra quem assistiu na Netflix:\\nEu apareço na temporada 3, do episódio 3 , aos 33 minutos!\\nPra quem curte numerologia , esse é o post.\\n#CantaComigo #Netflix',\n",
       "  'Eu não amo o Lee Je Hoon não né?! ♥️ #LeeJeHoon #TaxiDriver #MoveToHeaven #Netflix https://t.co/j4UgUkul6U',\n",
       "  \"Primeiro trailer oficial de 'Gunpowder Milkshake', novo filme estrelado por Karen Gillan, Lena Headey, Carla Gugino, Michelle Yeoh e Angela Bassett.\\n\\nLonga estreia dia 14 de junho na #Netflix dos Estados Unidos.\\n#GunpowderMilkshake \\nhttps://t.co/ydpYlVDsr2\",\n",
       "  '“Mais que um roubo. Uma guerra”. Última temporada de “La Casa de Papel” já tem data de estreia.\\xa0#LCDP5\\xa0#Netflix https://t.co/rzBJAelGUg',\n",
       "  'Saudações internautas! Saiu novo episódio do meu #podcast 🤠 \\nDisponível no Spotify, Apple Podcast, Google Podcast, Anchor... 😊 \\n#portugal #humor #continente #control #special #netflix #podcasting em Portugal https://t.co/GgAVLufKsc',\n",
       "  'Gente que ranço do filme FUJA! Sem mais! #Fuja #Netflix',\n",
       "  '@MegaPowerBrasil @loading52x @RaphaelMaiffre @kikibelico Esse eu assisti no #Netflix, é baseado no especial para o cinema 🎥: Shinkenger vs Go-Onger (Japão, 2010)!!',\n",
       "  '📺BEM VINDO A *MAXXCABO*📺\\nAQUI VC ENCONTRARA O MELHOR DO ENTRETERIMENTO🎬 POR 🤑 R$:35.00.\\n MELHORES CANAIS COM MELHOR SERVIDOR.📱WHATSAPP: https://t.co/zNW4kAMriu\\n\\n#iptv\\xa0#p2p\\xa0#canais\\xa0#shorts\\xa0#pix\\xa0#tvboxbrasil\\xa0#smattv\\xa0#smart\\xa0#assinatura @streamingfurious\\xa0 #netflix #amazonprime https://t.co/bZEGQAZHLx',\n",
       "  'Faltam três dias para a parte 2 da 5° temporada de lucifer chegar. ❤😜\\n#LuciferSeason5B #Netflix https://t.co/59SMNkhrxs',\n",
       "  '@NetflixBrasil Modo ansiedade para assistir, ativado com sucesso!! #LaCasaDePapel #LaCasaDePapel5 #Netflix',\n",
       "  'Conferimos o novo filme Exército do Mortos de Zack Snyder e lá vamos para uma crítica sobre ele.\\n\\n#EagoraCast #exercitodosmortos #zacksnyder #cinema #zumbi #apocalipsezumbi #Netflix\\n\\nhttps://t.co/1tMnaMDHf4\\n\\nhttps://t.co/AYE7wfGrOi',\n",
       "  'Uma nova temporada curta, mas muito criativa. O que podemos esperar no volume 2 de Love, Death + Robots?\\n\\n#EagoraCast #lovedeathandrobots #serie #animação #Netflix #netflixbrasil #ficçãocientífica #InteligenciaArtificial\\n\\nhttps://t.co/ieM6uu5s7h\\n\\nhttps://t.co/plK9NsGWgy',\n",
       "  '‘Rick and Morty’ partem em aventuras bizarras em insano trailer da 5ª temporada\\n\\nhttps://t.co/33v1wBqKFG #CinemaEStreaming #Animacao #Netflix #RickAndM',\n",
       "  '‘Rick and Morty’ partem em aventuras bizarras em insano trailer da 5ª temporada\\n\\nhttps://t.co/Nfr4GVvTBi #CinemaEStreaming #Animacao #Netflix #RickAn',\n",
       "  'Achei que o funko na Nairóbi era um caixão...\\n#LaCasaDePapel #Netflix https://t.co/4586UiYZLe',\n",
       "  'Sobre essa série da #Netflix \"Quem matou Sara?\"\\nSerá que foi Odete Roitman? \\n😄😃😆#quemmatousara',\n",
       "  'Apesar de #Crashing estar longe de prometer o brilhantismo de #Fleabag, a série é interessante e original. 😉 https://t.co/okecUPuLUB\\n\\n#seriesdatv #Netflix #SériesDoPassado https://t.co/pEyHQykBm5',\n",
       "  'Acho que meus progenitores não me odeiam tanto quanto eu pensava, provavelmente os seus também não, mas isso não nos impede de correr de tudo, se esconder de todos e começar uma nova vida, totalmente nova... Parece incrível (:\\n#viagem #Netflix #ReinoUnido #CountryMusic https://t.co/triMk4Ywd7',\n",
       "  'Para os mais distraídos... a 5ª e última temporada de #LaCasaDePapel será repartida em dois volumes, dia 3 de setembro e a 3 de dezembro! 😎\\n\\n👉 https://t.co/8UWHQM8d9p\\n#seriesdatv #Netflix https://t.co/yvfdxdi1KQ',\n",
       "  'Meta mesmo é ter alguém pra usar isso...\\n #Brooklyn99 #netflix #b99 #peraltiago https://t.co/cOQ28vaePa',\n",
       "  'QUE ÓDIO! CHA-YOUNG SE M***! COMO ASSIM VOCÊ NÃO VIU ELE GUARDANDO A MERDA DO CELULAR E AINDA VIBRANDO NO CASACO DELE? QUE ÓDIOOOOO!\\n\\n#Vincenzo #Netflix',\n",
       "  'Lucien Laviscount entrou para o elenco da 2ª temporada de Emily In Paris. \\n\\nEle será o novo interesse amoroso de Emily que promete que vai fazer muita bagunça na vida dela, as gravações já estão sendo filmado\\n\\n#EmilyInParis\\n#Netflix https://t.co/2e33t2Y3iu',\n",
       "  'Mano eu to assistindo Vincenzo e manoooo, eu to surtando já \\n\\n#Vincenzo #Netflix #dorama https://t.co/soVsNUZnbS',\n",
       "  'Antigua\\n\\n#99Songs Review - https://t.co/EVv198YZlo\\n\\n#99SongsReview #ARRahman #99SongsOutNow  #99SongsOnNetflix #EdilsyVargas #EhanBhat\\n#99SongsTheMovieOnOTT #Netflix #Tamil #Telugu #Hindi\\n\\nFacebook - \\nhttps://t.co/iSaElQfoFz https://t.co/sYSnrCcQ3A',\n",
       "  'Anon (2018) merece mais filmes ou serie pra explorar o seu mundo. Se manter a estética e estilo, será um bom entretenimento.\\n#Netflix #anon https://t.co/9avWSThHAe',\n",
       "  'Dona de mim 🛐 #cherylblossom #Riverdale #cw #series #Netflix https://t.co/IZTPP0m7Yg',\n",
       "  'Essa série ❤️\\n.\\n.\\n.\\n.\\n.\\n#gay #netflix #special #series em Santarém, Brazil https://t.co/Etu9oq3I6j',\n",
       "  'aproveitar o twitter e... Senhora @NetflixBrasil cadê a 2° T de The Society? Nunca te pedi nada 😥 #THESOCIETY #Netflix',\n",
       "  'Que série boaaaa 👏🏼\\U0001f929 #ogambitodarainha #netflix',\n",
       "  'Se eu fosse vcs eu iria assistir a série \"Emily em Paris\" quem sabe pegam um \"poquito\" de cultura 😉 #TercaDetremuraSDV #Netflix',\n",
       "  'Mas sério, essa série “ QUEM MATOU SARA ? “, é boa mesmo ou é só zueira? #QuemMatouSara \\n#Netflix \\n🙇🏼\\u200d♀️🖤',\n",
       "  '@Antifas57228870 Mas tbm né, tentem assistir SBT num final de semana pra ver o seu cerebro derreter de tédio mortal. Os programas fazem a minha avó de 99 anos desejar a morte. Eu fico com minha #Netflix #DisneyPlus #AmazonPrime e em breve #HBOMax E pra mim isso já basta.\\nRip tv aberta.🤣',\n",
       "  'To assistindo Army Of the Dead da #Netflix e nem terminei e to indo olhar pra dentro',\n",
       "  'Assisti mais uma temporada de \"Quem matou Sarah\" e ainda não sei quem matou essa quenga. #QuemMatouSara #QuemMatouSarah #Netflix',\n",
       "  '\\U0001f9df\\u200d♂️#Zumbis, #netflix e #ZackSnyder voltando... temos ai #ArmyOfTheDead ,novo filme da netflix trazendo zumbis, viagem no tempo, alienígenas e muito mais!\\n👇#ManoRocket\\nASSISTI ARMY OF THE DEAD (Netflix) ANALISE/REVIEW COMPLETA | Alienígenas... https://t.co/ytH5OiIyPP via @YouTube https://t.co/S8dMC0J0gd',\n",
       "  'Army of the Dead se perdeu na sua própria narrativa, mas deixa um apreço para fotografia e efeitos.\\n\\nPS: o que o Zack quis nos dizer que zumbi procria? #Netflix',\n",
       "  'Tudo que elas quer pra hoje kkkkk\\n#Netflix #pipoca https://t.co/BK7jRoFmZV',\n",
       "  'Outer banks amigos. Que série! #Netflix',\n",
       "  '10 MELHORES NOVAS SÉRIES DA NETFLIX #netflix #dc #marvel #vingadores #oseternos #series #filmes #movies #tv #cinema https://t.co/gX5LsbXxr9',\n",
       "  'Segunda temporada de #ESPECIAL na #Netflix  amo essa série ❤️',\n",
       "  'Já viu o filme “The Platform” na Netflix, @LeoJaime ? Acho que em em português é “O poço “. Explodiu minha cabeça, uma coisa muito louca! #Netflix',\n",
       "  '@jooxgguk não \\n\\n#gfvip #tzvip #rosmello #sdv #Netflix #crisidigoverno #prelemi #gregorelli Juliette ariana dalton Kerline Karol Conká Rafa Kalimann  #followtrick\\nhttps://t.co/ZwolJzzk5j',\n",
       "  '@k95ths não, mas vou precisar \\n\\n#gfvip #tzvip #rosmello #sdv #Netflix #crisidigoverno #prelemi #gregorelli Juliette ariana dalton Kerline Karol Conká Rafa Kalimann  #followtrick\\nhttps://t.co/ZwolJzzk5j',\n",
       "  'Essa série \"The Witcher\" é muito boaaaaaaaaa.\\n\\n#Netflix',\n",
       "  'Jane Sloan é insuportável demais, meu pai amado. \\n#boldtype #Netflix #NetflixBR',\n",
       "  '-O que vai fazer sexta ?\\n-tenho compromisso \\n\\no Compromisso \\n\\n#LuciferNetflix #Netflix https://t.co/GjStHxRLhE',\n",
       "  'Agora só relaxar com minha esposa um bom filme #Netflix que privilégio  senhor grata  💟🙏🙌👭🌈 #LGBT',\n",
       "  '@lindsaylohan voltará a atuar como protagonista na Comédia Romântica de Natal da @netflix\\n\\n#lindsaylohan #Netflix https://t.co/qzqHKBw7fx',\n",
       "  '#Netflix \"E Amanhã… O Mundo Todo\" é sobre a luta atual contra o fascismo, da qual não devemos descer ao nível dos que praticam o ódio, mas não significa que não responderemos de imediato. Saiba mais no meu blog de cinema. https://t.co/zGkt7I48gd https://t.co/RRqjaMsCb6',\n",
       "  'Ne indiquem uma série legal ae.\\n#Netflix',\n",
       "  'Estou assistindo Special na Netflix... já tinha assistido a 1 temp. E assiti de novo, agora tô na segunda, assistam que é incrível. Fala sobre a vida de uma pessoa com paralisia cerebral. Amoo #vivainclusao #Netflix',\n",
       "  'Assista: BELEZA OCULTA\\n#netflix',\n",
       "  'Achei uma série foda #Netflix',\n",
       "  '10 MELHORES FILMES DE 2021 NA NETFLIX #netflix #filme #filmes #tv #cinema #dc #marvel https://t.co/AkzBDEWbZ0',\n",
       "  'Controle com seu cobertor nessa frente fria #Netflix https://t.co/zJDAmhjgNz https://t.co/6P0ZFkyOdt',\n",
       "  'Mas a pergunta que não quer calar \\nQuem matou Sara ??? \\n#Netflix #QuemMatouSara',\n",
       "  'ESCOLHA: 1, 2, 3, 4 ou 5? 😱\\U0001f92d🐥\\n\\n.\\n#meme #memesengraçados #memesdaily #reels #reelsinstagram #reels #globo #second #five #messi #neymar #virginia #netflix #vingadores #number https://t.co/MaHP3nBoHH',\n",
       "  'O serviço de streaming #Netflix revelou que a Parte 5 será dividida em duas levas. \\n\\nSegue abaixo as datas:\\nParte 5 \\n\\n💥Vol.1 - 03/09\\n\\n💥Vol.2 - 03/12 \\n\\nEu não curto muito essa divisão e vocês? Me contem aqui nos comentários e marque aquele @ amigo que… https://t.co/0i4Li7El1o https://t.co/KC2f5nggNT',\n",
       "  '@NetflixBrasil @marivmach Sky Rojo é MARAVILHOSO, trás a segunda temporada!!!! #Netflix',\n",
       "  'O filme irá contar a história de três gerações de assassinas mulheres que lutam para acabar com um ciclo de violência durante apenas uma noite. #GunpowderMilkshake #Netflix',\n",
       "  'Army of the Dead: Invasão em Las Vegas - Filme prometeu dem... \\n#fun #entretenimento #analises #netflix #entretenimento #filmes #variados #news https://t.co/pQvQHYmqWl https://t.co/jsRt2xG0ke',\n",
       "  'Não acredito que foi essa pessoa que matou a tal da Sara 😱 #Netflix #QuemMatouSara2',\n",
       "  'Quem matou Sara? \\U0001f9d0 #Netflix',\n",
       "  '\"Army Of The Dead - Invasão Em Las Vegas\" é inchado e se perde em seu exercício de gênero, embora seja pontualmente divertido e tenso. #Netflix\\n\\nCrítica completa aqui:\\nhttps://t.co/9fCbXwCkRa',\n",
       "  'Segunda é feira pastoral? \\nTambém, mas é dia de Brotherscast no Youtube.\\n\\nHoje a noite vamos conversar sobre Army of the Dead!\\n\\n#ArmyOfTheDead #ArmyOfTheDeadNetflix #Netflix #ZackSnyder #BCCast\\n\\nhttps://t.co/aIHHrAXtAU',\n",
       "  'Hey pessoal!! já assistiram Anne with an e?? \\nEssa semana semana falaremos um pouco dessa série maravilhosa!! \\nAcompanhe em nosso Twitter e Instagram, link na bio &lt;3 \\n#annewithane #anne #renewannewithane #series #livros #Netflix https://t.co/VLGu3lWmPY',\n",
       "  '#ENTRETENIMIENTO | #Netflix presenta adelanto de la quinta temporada de \" #Lacasadepapel \".\\n\\nTTNews\\n#VacunasParaElPueblo #24May #SenderoLuminoso #MLBxTLT #Canaima #TROBROxMTV #Escarra #EndyChavez https://t.co/Xdwim52zrl',\n",
       "  'Parte 2 da série #Lupin ganha trailer inédito e data de estreia\\nhttps://t.co/YSZUoO2WJ1 #lupinnetflix #Netflix #omarsy https://t.co/yNWBkbzDdx',\n",
       "  '#Netflix confirma sequência de #EnolaHolmes , com Millie Bobby Brown e Henry Cavill\\nhttps://t.co/C83W1qRHhI #EnolaHolmes2 #HenryCavill https://t.co/hia58HYYIb',\n",
       "  \"A quinta e última parte de 'La Casa de Papel' será dividida em dois volumes: 3 de setembro e 3 de dezembro.\\n\\nE ansiedade, como fica? \\n\\n(📸: Reprodução/Netflix)\\n\\n🎬🎥💶\\n#LaCasaDePapel #LCDP #LaCasaDePapel5 #Netflix #Séries #Streaming #ManualDoEntretê https://t.co/QCliJhiSrF\",\n",
       "  'Divulgado trailer instigante dos episódios finais da 5ª temporada de #Lucifer, que estreia sexta-feira (28)\\nhttps://t.co/hBHU5gQcyx #LuciferNetflix #LuciferSeason5B #Netflix https://t.co/aL4XRUjNNb',\n",
       "  'Eu me considero uma pessoa honesta, mas não o bastante pra dizer pra essas três garotas que eu to usando o #netflix delas há mais de 2 anos. Que mau gosto pra filmes e seriados vcs tem hein...',\n",
       "  '#News, #Netflix e #America. Obrigado pela Informação e Excelente Foto Nostálgica, @gameinformer e @verified!!! \\U0001f970☺️😃❤️🌹🇯🇵 https://t.co/9OsRDgR97d',\n",
       "  '#LaCasadePapel | #Netflix confirma duas partes da quinta temporada\\n\\nhttps://t.co/auRxDW5Meq https://t.co/D3fYd1DTAb',\n",
       "  'FINAL CHEGANDO \\U0001f97a | A #Netflix divulgou o trailer de anúncio da quinta temporada de #LaCasadePapel, que será a última e concluirá a história de Tóquio (#ÚrsulaCoberó).  @lacasadepapel \\n\\nSaiba mais em https://t.co/9UFBJUNj7C\\n\\nhttps://t.co/rbYQG4BkhG',\n",
       "  '5ª temporada de La Casa de Papel ganha teaser e data de estreia\\nhttps://t.co/UdCYmF0EjV #LCDP5 #LaCasaDePapel #Netflix https://t.co/s1hiB1HN2I',\n",
       "  'O problema de os #jogosinde aumentarem é que ocorre o mesmo que aconteceu com a #Netflix.. baixa a exigência de qualidade artística, ou seja qualquer coisa de qualquer coisa.. https://t.co/dp9DQsPvk7',\n",
       "  '... WandaVision, the vampires diares, mlb, The bold type, e eu acho que é isso gatinhxs. Ninguém perguntou quais séries já assisti, mas ñ me importo. Se já assistiu mais de 8 dessas escreve aí 👇 #Netflix vc é a culpada por eu virar uma pessoa viciada em séries kkkkkkkkk',\n",
       "  'Continuando a saga... #Auschwitz #holocausto #OContadorDeAuschwitz #Netflix https://t.co/GcziKmiYeq',\n",
       "  'Faltam 45 dias para o lançamento da série em GCI Resident Evil: No Escuro Absoluto no dia 8 de julho de 2021!💙❤️ #InfiniteDarkness\\n\\n#ResidentEvil #Netflix #REBHFun https://t.co/cG8ixmwK4m',\n",
       "  'Netflix divulga data de estreia das duas partes de ‘La Casa de Papel 5’.\\n\\nLeia mais: https://t.co/7jfjYbAz27\\n\\n#lacasadepapel5 #lacasadepapel #netflix #costadosolfm #radio #regiaodoslagos #aradiopadraovoce https://t.co/1wDVD88DcF',\n",
       "  '\"Beach Rats\" (2017): Eliza Hittman tem 3 filmes: um fraco, um muito bom e um excepcional. Esse é o do meio, a ponte da fraca estreia pro lindo Never Rarely do ano passado. Aqui ela já mostra delicadeza pra conduzir a trama e estudar seu personagem. Grande diretora. 4/5 #netflix https://t.co/syzzKH441m',\n",
       "  '2°temporada num dia só \\U0001f970✅\\nEstava precisando disso... obrigado @NetflixBrasil, sua linda❤🌈 #SpecialNetflix #Netflix',\n",
       "  'Você pode aprender Inglês de forma divertida, sim!\\n\\nEssa é uma lista exclusiva das Teachers da Overseas para você se desenvolver no Inglês embaixo da coberta nesse friozinho! 😅\\n\\nCurtiu? Já salva para não esquecer!\\n_\\n#série #netflix #amazonprime #streaming https://t.co/nxs99lnAep',\n",
       "  'Agnus Dei @NetflixBrasil\\nBaseado na história real e chocante das freiras polonesas que foram estupradas na Segunda Guerra Mundial pelos alemães e pelos russos deixando várias grávidas. Um grande filme com uma história bem forte!\\n#agnusdei #Netflix https://t.co/jqC5IO9Zyi',\n",
       "  'Episódio que o George morre, tô vendo pela 5• vez e nunca supero \\U0001f97a\\n\\n#GreysAnatomy #Netflix #omaley',\n",
       "  'acabei de trocar a capa do Single #Netflix , ficou brabo achei na net e vai encaixar com a vibe da letra',\n",
       "  'Como assim o Lorenzo morreu \\U0001f97a\\n#Netflix',\n",
       "  '@NetflixBrasil aquela vibe pra ver quando mamãe estiver fora 😘🤝 #Elite4 #Netflix',\n",
       "  'Rapsódia Boêmia: Drops – Oxigênio https://t.co/J18OFOAvCf #Netflix #filme #oxigênio #oxygen #melanielaurent',\n",
       "  'Army of the Dead: Invasão em Las Vegas (2021) - Quadro decorativo:\\nTamanho A4\\nPapel Couchet 300mg\\nMoldura preta\\nQuadro c vidro\\nR$46,90\\nCompre em: \\n•Elo7•Mercado Livre•Shopee\\nOs links estão na bio!\\n#campirossi #armyofthedead #netflixbrasil #netflix #zacksnyder #davebautista https://t.co/RcWnBz9vMF',\n",
       "  'O hater do snyder deve está puto em ver #ArmyOfTheDead em alta ainda na #Netflix \\n\\n#ZackSnyder https://t.co/6slzTVl5PP',\n",
       "  'Quem já assistiu Garota de fora, da netflix? \\nMinha cabeça tá assim \\U0001f92f\\n#Netflix',\n",
       "  '@NetflixBrasil Se você já tem cadastro na rappi, ganhe até R$20 grátis para pedir novamente. Aproveitem, uhull.\\n                   🍟🍔🍕\\n        Usem meu cupom\\n          f7h38404584r  ⬅️\\n\\n       Você ganha e eu ganho\\n\\n#rappi #pedeumrappi #rappicreditos #segundou #Netflix',\n",
       "  'Resumo: se a filha chata não tivesse ido junto ia tá todo mundo vivo #ArmyOfTheDead #Netflix https://t.co/wFmiHizQwg',\n",
       "  'O que vai haver na 4° temporada se tiver ?\\n#JurassicWorldCampCretaceous #JurassicWorld #JurassicWorldEvolution #JurassicPark #brasil #series #Netflix #netflixpremium #Filme #instagram #twitchstream #DINO',\n",
       "  '@NetflixBrasil Fantástico \\U0001f929 \\nAmei!!!\\n#Netflix',\n",
       "  'Já repetir 3 vezes o #AcampamentoJurassico \\nE muito legal amei DMS 😍\\n#JurassicWorldCampCretaceous #JurassicWorld #JurassicPark #desenho #dinossauros #brasil #series #Netflix',\n",
       "  \"A artista da semana é a talentosíssima Anya Taylor-Joy, estrela de 'O Gambito da Rainha'.\\n\\n• Acesse: https://t.co/D2yfecxhlX e descubra mais sobre sua carreira. ✨\\n\\n#natela #artistadasemana #anyataylorjoy #fragmentado #netflix #ogambitodarainha #peakyblinders #Emma https://t.co/KWXILHWmF8\",\n",
       "  'E750/Scorpios Rex concept art \\n#jurassicworldcampcretaceous\\n#Netflix #DreamWorks https://t.co/bkCwZIUeEz',\n",
       "  '\"Eu perdi meu corpo\" é um filme muito bacana! Pra mim pareceu uma versão esquisita de A metamorfose, só que em vez de uma transformação repentina acontecesse uma muito lenta e invisível. Tem cenas de uma beleza muito singela. Achei show de bola #Netflix #Viajei',\n",
       "  'Alguém mata o personagem do Sergio na segunda temporada de Rebelde por favor... #Netflix #RebeldesEnLaHistoria',\n",
       "  '#SnyderSchool | Zack “dá aula” sobre #ArmyOfTheDead em série da #Netflix no #YouTube https://t.co/PWTQvjqshE https://t.co/UtZDrYiedZ',\n",
       "  '#AnneFrank vidas paralelas #Netflix  #holocausto #Auschwitz triste realidade do nosso mundo... 😢',\n",
       "  'gente meu pai será que o professor da sendo feito de refém pela sierra? / nairobi / la casa de papel 5 / #Netflix #explore #nairobi #LaCasaDePapel https://t.co/RVodgUsHLy',\n",
       "  'boa noite meus mano da @ProjetoHorusOfc me dê um help ! to tentando bater 100 views no meu single recente #Netflix  podem da uma moral ?\\nhttps://t.co/e70MdU3Vqo',\n",
       "  'Galera pra quem perdeu ontem na Record.. estamos no NETFLIX (Episódio 5) 🤘🏼\\nFelizes demais por aqui! \\nObrigada por todo carinho que estamos recebendo.\\n#cantacomigo #record #gandaiaduo #netflix # https://t.co/zTjiyPMpjC',\n",
       "  'Há quanto tempo a gente não ouve falar de #LindsayLohan? Mas ela agora vai estrelar um novo filme de Natal da #Netflix . Veja os detalhes: https://t.co/lm9uRsznWw',\n",
       "  'Algumas informações sugerem que a #Netflix possa estar planejando criar seu próprio serviço de games. Confira! https://t.co/2OcKOoQayM',\n",
       "  'Estou assistindo à série “The Bold Type”, e gostando muito. #NetFlix #ficaadica',\n",
       "  'Esta é a série que me tem deixado colada à 📺 e a principal culpada das minhas olheiras todos os dias. 😴 #Netflix https://t.co/i9MmcRWhRR',\n",
       "  'Uma dica: Quando o seu melhor amigo dizer pra vc assistir uma tal série falando que você vai gostar, NUNCA DUVIDE! Pois ele pode estar certo;)\\n#garotadefora #GirlFromNowhere #GirlFromNowhereNetflix #series #serie #Netflix #dorama https://t.co/cb6yu6LG1g',\n",
       "  'A #Netflix irá lançar 3 filmes de terror com histórias que se conectam. O primeiro estreia dia 02/07, o segundo dia 09/07 e o último no dia 16/07. https://t.co/Le7wdTpx6b',\n",
       "  'eu serei eternamente grata a Netflix por poder assistir as adaptações das obras do Harlan Coben \\nvcs precisam assistir, tds me prenderam de uma forma doida\\n#oinocente #safe #silencionafloresta #naofalecomestranhos #netflix #harlancoben #thestrangers #elinocente #thewoods https://t.co/4l5iUB45QJ',\n",
       "  '#OrphanBlack #Serie #Netflix \\nFiquei com vontade de reassistir Orphan Black inteira. Será a 4ª vez que eu assisto. Amo amo amo! https://t.co/rXQafnmXXW',\n",
       "  'Netflix realizará um evento geek de uma semana em junho - Clique para ver também ☛ https://t.co/a1Hhqqnav2 #TecWord #Netflix #GeekedWeek',\n",
       "  'Zach Snyder tem um estilo meio duvidoso na minha opinião, mas esse \"Army of the Death\" até que é bem surpreendente!! #Netflix #zombie #SuicideSquad',\n",
       "  'Lutas  Marcantes: Punho de Ferro e Demolidor https://t.co/6ivVgc40qz via @YouTube #Netflix @NetflixBrasil #punhoseferro #justiceiro , deem moral lá pessoal , sigam o canal',\n",
       "  'Que pena La casa de papel vai acabar ,homenagem time Fortaleza Esporte Clube em 2018.. #FortalezaEC #LaCasaDePapel #Netflix \\n\\nhttps://t.co/FAVLnMyfHw',\n",
       "  'Graças a DEUS de com a Netflix denovo ... Estava em abstinência sem Netflix. ...#Netflix',\n",
       "  'Eu acho que parte de de la casa de papel e meio desnecessário mas vamos ver no que vai dar né se for bom #Netflix #LaCasaDePapel  #multiversoloading',\n",
       "  'Alguém pode me dizer quem matou Sara?? \\n#Netflix',\n",
       "  'O Gil gosta de The OA, meu Deus, não aguento mais tanta fofura desse homi 😍😍 #savetheoa #Netflix cadê? https://t.co/mPIagqHMig',\n",
       "  'Esse show do #SamSmith na #Netflix é tão lindo 💗 O Sam tem uma voz tão poderosa.',\n",
       "  'MEUS DEUS @NetflixBrasil \\nPRECISO COMPRAR ROUPA PRA ESSE EVENTO ... #LaCasaDePapel #LaCasaDePapel5 #Netflix https://t.co/g7nePvCYym https://t.co/GJO8eLTR8b',\n",
       "  'OS MAIORES!\\n\\nConhecidos como BRIT-PACK (Trio britânico) pela imprensa. Robert Pattinson (Batman), Andrew Garfield (Spider-Man) e Tom Sturridge (Sandman) são amigos de longa data. Chegaram juntos na América para tentar a vida de ator em Hollywood.\\n\\n #Netflix #WarnerBros #HBOMax https://t.co/rmUyY53M21',\n",
       "  '4 dias para o lançamento da nova temporada do Lúcifer na Netflix! 😈📽️\\n#Netflix #LuciferSeason6',\n",
       "  'Netflix atualizará fãs sobre Cowboy Bebop no próximo evento\\n\\n #anime #CowboyBebop #GeekedWeek #liveaction #lúcifer #MestresdoUniverso #NanatsunoTaizai #netflix #SailorMoon #teaser #thesandman #thewitcher #TheWitcher3 #trailer #twitter #UmbrellaAcademy\\n\\nhttps://t.co/g3VDH9ShWu https://t.co/ZtGqCT13cu',\n",
       "  'Só por sexta feira!!! #LuciferSeason5part2 #Netflix',\n",
       "  'Vem muita coisa boa aí ! \\U0001f929\\n\\nNetflix anuncia evento repleto de anúncios e novidades sobre conteúdos geek na plataforma\\n\\nhttps://t.co/vZ08sdsuIY\\n\\n#Netflix https://t.co/NM7FSN7LS4',\n",
       "  'Ai que homem 😏\\n#Netflix #Lucife #LuciferFanfiction https://t.co/ub3KolvD5P',\n",
       "  'Eu acho que a série \"dinastia\" da @NetflixBrasil vai ter um quiz no final (não quero spoiler) pra gente escolher quem interpretou melhor a personagem Crystal, por que não tem condições kkkkkkkk, é uma Crystal diferente pra cada temporada! \\n\\n@DynastyBrazil \\n#Netflix \\n#DynastyS4 https://t.co/eQ6fqFKavg',\n",
       "  'Em gyn hoje é feriado. Tá sendo o meu domingo hahahaha. #netflix  e quarto escuro',\n",
       "  'E esse final épico de #Castlevania \\n\\nQue perfeição!!! \\nTe amo #Netflix https://t.co/OSD2JL6bu0',\n",
       "  'Army Of the Dead: Invasão em Las Vegas ✔️🌟🌟🌟🌟 4,0 (#Netflix)\\n\\n\"Após um surto de zumbis em Las Vegas, um grupo de mercenários se aventura em uma zona de quarentena para tentar realizar o maior assalto de todos os tempos.\"\\n\\nEstrelando: Dave Bautista, Ella Pumell, Omari Hardwick https://t.co/i27NREDWhT',\n",
       "  '#LindsayLohan, a eterna Cady, de Meninas Malvadas, retornará em uma comédia romântica natalina da #Netflix. \\n\\nhttps://t.co/tLogNWwE1p',\n",
       "  'Inclusive tem vídeo novo no canal, sobre #ItaeWonClass, um #dorama da #Netflix \\n\\nhttps://t.co/NTwwVRgumv',\n",
       "  '👊🏾Shuumatsu no Valkyrie👊🏾\\n17 de junho deste ano na #Netflix https://t.co/7DJt5S62hM',\n",
       "  'Quanto mais assisto \"quem matou a Sara\", menos eu descubro gente, oq é isso? Labirinto bem bolado esse heim kkkk #QuemMatouSara #Netflix',\n",
       "  'O retorno de #LindsayLohan vem aí. Isso porque a atriz vai estrelar uma comédia romântica natalina da #Netflix, que anunciou a novidade por meio de um tuíte.\\n\\nA produção, ainda sem título, não possui data de estreia. https://t.co/mLjos08nIG',\n",
       "  'Quem aí vai maratonar? \\n#lacasadepapel5 #lacasadepapel #lcpd #netflix #lacasadepapelbrasil #drawing https://t.co/ynVrt70aKw',\n",
       "  'Plataforma pode expandir o serviço de entretenimento para além da tradicional produção de filmes, séries e documentários https://t.co/3zt70ZS7uF / #netflix #streaming #games / com @netflix e @NetflixBrasil',\n",
       "  'Última temporada de #LaCasaDePapel ganha data de estreia e será dividida em duas partes.\\n\\nMais detalhes:\\nhttps://t.co/iyDkg7ZqPl\\n\\n#Netflix #NetflixBR #NetflixBR #series #Espanha',\n",
       "  'Ok, Nairóbi não está no trailer da nova temporada de La Casa de Papel, isso é triste.  Mas falando em sequestro, vcs lembram do caso em que um Xbox 360 foi aceito como resgate? \\nhttps://t.co/GQzBmO2dRJ\\n\\n#Nairobi #LaCasaDePapel #LaCasaDePapel5 #Netflix #seriado #Elprofessor #Game',\n",
       "  'A #Netflix revelou nesta segunda a data de estreia da última temporada de La Casa de Papel. O roubo mais famoso da história chegará ao fim em duas partes: o volume 1 será lançado no dia 3 de setembro e o volume 2, no dia 3 de dezembro.\\n\\n#lacasadepapel\\n\\nhttps://t.co/AEZBLCUNke https://t.co/00ZVychPBf',\n",
       "  'A Série #LaCasadeLasFlores é recheada de temas e momentos picantes que você não veria em nenhum versão de #AUrsupadora. Para se aquecer para o filme que está por vir, bora conferir esse apanhadão das temporadas disponíveis na #Netflix.\\n\\nhttps://t.co/f3vocmmo4p https://t.co/HoTSIaWn2y',\n",
       "  'Durante os dias de 7 a 11 de Junho, a #Netflix terá um evento virtual dedicado ás suas séries, entre elas as séries da DC, #Lucifer e #TheSandman:\\n\\nSerá que vem trailer de Sandman? 👀 https://t.co/ogobRjSp16',\n",
       "  'Gente chega logo 03/09 😍😍😍🔝🔝🔝 #Netflix #LaCasaDePapel5 https://t.co/AKTVPKY3OP',\n",
       "  '#ShadowAndBone | Vê como foram feitos os efeitos especiais! 🎥\\nNotícia &amp; vídeo ➡ https://t.co/DqQ1fSEPDl\\n#squaredpotato #Netflix https://t.co/tZVm4lgvta',\n",
       "  \"Olá, pessoas!\\n\\n'Army of the Dead' é entretenimento de Zack Snyder para você, disponível na @NetflixBrasil.\\n\\nLeia a crítica do @willrweber \\n\\n👉 https://t.co/zz0Ji2lYOJ\\n\\n#ArmyOfTheDeadNetflix #ArmyOfTheDead #ZackSnyder #Filmes #Netflix https://t.co/YfeuhMcZI7\",\n",
       "  'Já que ela estava grávida vamos dizer que ela também tenha seus dia obscuros! \\n\\nIMAGINA ESSA MULHER NA TPM!\\n\\n#ArmyOfTheDead #Netflix https://t.co/zsE9NBnKIc',\n",
       "  'Finalmente! A @NetflixBrasil divulgou novidades sobre a temporada final da série, com direito a teaser e tudo! Vem assistir com a gente: \\n https://t.co/Silyw8V9gp\\n\\n#Netflix #LaCasaDePapel5 #LaCasaDePapel #Ultraverso👽',\n",
       "  'A #FamíliaMitchell e a Revolta das Máquinas se torna um marco na história da animação a partir de agora. Vem conferir nossa análise!\\n\\nhttps://t.co/Uohzij9I5p\\n\\n#Netflix #Animação https://t.co/AWW02CBWMC',\n",
       "  'O novo filme do diretor, intitulado Army of Dead: Invasão Las Vegas,  foi feito para quem gosta de muita ação, bombas e, não podemos nos esquecer, de muitos zumbis.\\n\\n(: #ZackSnyder #Netflix #ArmyofDead:InvasãoLasVegas #Zumbi\\n\\nhttps://t.co/ZWmY36InIl https://t.co/8qAFyuPW7f',\n",
       "  'Tô vendo um filme de invasão em las vergas (zumbi \\U0001f9df\\u200d♀️ ) no #Netflix que no começo achei que ia ser ridículo agora tô aqui já nervoso kkkkkk',\n",
       "  'Filme eu sou todas as garotas\\U0001f972💯\\n#Netflix',\n",
       "  '@Sam_Antha_Win tem sangue Kryptoniano e ainda é uma Amazona, por isso enfrentou um monte de zumbi sozinha! hahaha\\n\\n#ArmyOfTheDead #ManOfSteel #WonderWoman #ZackSnydersJusticeLeague #JusticeLeague #Superman #ZackSnyder #SamanthaWin #Netflix https://t.co/tBEWiwItaG',\n",
       "  'Vintade de falar do #ArmyOfTheDead , ms como é filme novo, recém lançado, não quero dar spoilers ou influenciar. Deixo a decepção a cargo de cada um #Netflix #filmes #zumbis',\n",
       "  'A #Netflix divulgou q. a 5 e última temporada de #LaCasaDePapel chegará dividida em duas partes! Em 3/Set e 3/Dez.\\nSe a gente levar em conta que a 3a temporada não acabou e se estendeu p/ a 4ª q. também não acabou e estendeu p/ 5ª... Na real a 3ª temporada vai durar até a 6ª! https://t.co/9SoGupcjSj',\n",
       "  'A #Netflix divulgou o teaser e data de estreia da Parte 5 de  #LaCasadePapel\\n\\nhttps://t.co/zRulXNgNe8',\n",
       "  'Las pelis y series que abandonan #Netflix hoy: \\n\\nNumberblocks: ¡A contar! (2017, IMDb 8.1)\\nAlphablocks (2014, IMDb 7.7)\\nElf (2003, IMDb 7.0)\\n\\nLista completa: https://t.co/luNxnPqO1i',\n",
       "  'ELA VOLTOU! Netflix faz boa ação e contrata Lindsay Lohan para sua nova comédia romântica. \\n\\nA trama é sobre uma recém-noiva, que sofre amnésia após um acidente de esqui e se encontra sob os cuidados de um dono de pousada.\\n\\n#Netflix https://t.co/tW9RdqOAvk',\n",
       "  'Como eu sentia falta de uma série assim, viciante e delicinha de assistir! Maratonando #TheBoldType 💛 #netflixbr #netflix',\n",
       "  'DATAS PARA A ÚLTIMA TEMPORADA DE \"LA CASA DE PAPEL\"😍\\n\\nA #Netflix já divulgou as datas de estréia de #LCDP5. A 5ª temporada da série foi dividida em duas partes:\\n1ª: 03/09/2021\\n2ª: 03/12/2021\\n #LaCasaDePapel\\n\\n📸 Divulgação: Netflix\\n\\n📺 Onde assistir: Netflix\\n\\n#amantedocinema https://t.co/9fiYO0FXvL',\n",
       "  'Dudinha fala sobre a continuação de Anne de Green Gables e o Thutu fala sobre uma das histórias preferidas dele: Peter Pan\\n#annedegreengables #annedeavonlea #annewithane #netflix #peterpan #literaturainfantil #maternidade #maternando #crianças\\n       ⬇️\\nhttps://t.co/eG9mFlNY3Y https://t.co/LZeW3Lx3KM']}"
      ]
     },
     "execution_count": 53,
     "metadata": {},
     "output_type": "execute_result"
    }
   ],
   "source": [
    "#7\n",
    "tweets_dict"
   ]
  },
  {
   "cell_type": "markdown",
   "metadata": {},
   "source": [
    "Adicionamos esses tweets a um DataFrame, para poder manipular os dados."
   ]
  },
  {
   "cell_type": "code",
   "execution_count": 54,
   "metadata": {},
   "outputs": [],
   "source": [
    "#8\n",
    "dfTweets = pd.DataFrame.from_dict(tweets_dict)"
   ]
  },
  {
   "cell_type": "markdown",
   "metadata": {},
   "source": [
    "Mostramos os primeiros 5 dados do nosso DataFrame:\n"
   ]
  },
  {
   "cell_type": "code",
   "execution_count": 55,
   "metadata": {},
   "outputs": [
    {
     "data": {
      "text/html": [
       "<div>\n",
       "<style scoped>\n",
       "    .dataframe tbody tr th:only-of-type {\n",
       "        vertical-align: middle;\n",
       "    }\n",
       "\n",
       "    .dataframe tbody tr th {\n",
       "        vertical-align: top;\n",
       "    }\n",
       "\n",
       "    .dataframe thead th {\n",
       "        text-align: right;\n",
       "    }\n",
       "</style>\n",
       "<table border=\"1\" class=\"dataframe\">\n",
       "  <thead>\n",
       "    <tr style=\"text-align: right;\">\n",
       "      <th></th>\n",
       "      <th>created_at</th>\n",
       "      <th>full_text</th>\n",
       "    </tr>\n",
       "  </thead>\n",
       "  <tbody>\n",
       "    <tr>\n",
       "      <th>0</th>\n",
       "      <td>Wed May 26 01:23:57 +0000 2021</td>\n",
       "      <td>#Grupos de #WhatsApp #Ecuador #Amistad #Ligar ...</td>\n",
       "    </tr>\n",
       "    <tr>\n",
       "      <th>1</th>\n",
       "      <td>Wed May 26 01:18:25 +0000 2021</td>\n",
       "      <td>Comecei a assistir #Demolidor na #Netflix e tô...</td>\n",
       "    </tr>\n",
       "    <tr>\n",
       "      <th>2</th>\n",
       "      <td>Wed May 26 01:15:48 +0000 2021</td>\n",
       "      <td>Pôster da 2º temporada de Love, Death &amp;amp; Ro...</td>\n",
       "    </tr>\n",
       "    <tr>\n",
       "      <th>3</th>\n",
       "      <td>Wed May 26 01:12:33 +0000 2021</td>\n",
       "      <td>Alguem assistindo @quemmatousarabr no @Netflix...</td>\n",
       "    </tr>\n",
       "    <tr>\n",
       "      <th>4</th>\n",
       "      <td>Wed May 26 01:08:05 +0000 2021</td>\n",
       "      <td>Ansiedade ativa, laça logo a quinta temporada ...</td>\n",
       "    </tr>\n",
       "  </tbody>\n",
       "</table>\n",
       "</div>"
      ],
      "text/plain": [
       "                       created_at  \\\n",
       "0  Wed May 26 01:23:57 +0000 2021   \n",
       "1  Wed May 26 01:18:25 +0000 2021   \n",
       "2  Wed May 26 01:15:48 +0000 2021   \n",
       "3  Wed May 26 01:12:33 +0000 2021   \n",
       "4  Wed May 26 01:08:05 +0000 2021   \n",
       "\n",
       "                                           full_text  \n",
       "0  #Grupos de #WhatsApp #Ecuador #Amistad #Ligar ...  \n",
       "1  Comecei a assistir #Demolidor na #Netflix e tô...  \n",
       "2  Pôster da 2º temporada de Love, Death &amp; Ro...  \n",
       "3  Alguem assistindo @quemmatousarabr no @Netflix...  \n",
       "4  Ansiedade ativa, laça logo a quinta temporada ...  "
      ]
     },
     "execution_count": 55,
     "metadata": {},
     "output_type": "execute_result"
    }
   ],
   "source": [
    "#9\n",
    "dfTweets.head()"
   ]
  },
  {
   "cell_type": "markdown",
   "metadata": {},
   "source": [
    "E aqui, alteramos os nomes das colunas para português."
   ]
  },
  {
   "cell_type": "code",
   "execution_count": 56,
   "metadata": {},
   "outputs": [
    {
     "data": {
      "text/html": [
       "<div>\n",
       "<style scoped>\n",
       "    .dataframe tbody tr th:only-of-type {\n",
       "        vertical-align: middle;\n",
       "    }\n",
       "\n",
       "    .dataframe tbody tr th {\n",
       "        vertical-align: top;\n",
       "    }\n",
       "\n",
       "    .dataframe thead th {\n",
       "        text-align: right;\n",
       "    }\n",
       "</style>\n",
       "<table border=\"1\" class=\"dataframe\">\n",
       "  <thead>\n",
       "    <tr style=\"text-align: right;\">\n",
       "      <th></th>\n",
       "      <th>Data de criação</th>\n",
       "      <th>Texto</th>\n",
       "    </tr>\n",
       "  </thead>\n",
       "  <tbody>\n",
       "    <tr>\n",
       "      <th>0</th>\n",
       "      <td>Wed May 26 01:23:57 +0000 2021</td>\n",
       "      <td>#Grupos de #WhatsApp #Ecuador #Amistad #Ligar ...</td>\n",
       "    </tr>\n",
       "    <tr>\n",
       "      <th>1</th>\n",
       "      <td>Wed May 26 01:18:25 +0000 2021</td>\n",
       "      <td>Comecei a assistir #Demolidor na #Netflix e tô...</td>\n",
       "    </tr>\n",
       "    <tr>\n",
       "      <th>2</th>\n",
       "      <td>Wed May 26 01:15:48 +0000 2021</td>\n",
       "      <td>Pôster da 2º temporada de Love, Death &amp;amp; Ro...</td>\n",
       "    </tr>\n",
       "    <tr>\n",
       "      <th>3</th>\n",
       "      <td>Wed May 26 01:12:33 +0000 2021</td>\n",
       "      <td>Alguem assistindo @quemmatousarabr no @Netflix...</td>\n",
       "    </tr>\n",
       "    <tr>\n",
       "      <th>4</th>\n",
       "      <td>Wed May 26 01:08:05 +0000 2021</td>\n",
       "      <td>Ansiedade ativa, laça logo a quinta temporada ...</td>\n",
       "    </tr>\n",
       "    <tr>\n",
       "      <th>5</th>\n",
       "      <td>Wed May 26 01:06:36 +0000 2021</td>\n",
       "      <td>Sinceramente, não acredito que Special acabou....</td>\n",
       "    </tr>\n",
       "    <tr>\n",
       "      <th>6</th>\n",
       "      <td>Wed May 26 01:00:56 +0000 2021</td>\n",
       "      <td>Assistam #netflix https://t.co/YHWTKdiRq9</td>\n",
       "    </tr>\n",
       "    <tr>\n",
       "      <th>7</th>\n",
       "      <td>Wed May 26 00:59:54 +0000 2021</td>\n",
       "      <td>Fui parar para assistir e já maratonei.. ah de...</td>\n",
       "    </tr>\n",
       "    <tr>\n",
       "      <th>8</th>\n",
       "      <td>Wed May 26 00:39:20 +0000 2021</td>\n",
       "      <td>A Sara é simplesmente insuportável.\\nEu mesma ...</td>\n",
       "    </tr>\n",
       "    <tr>\n",
       "      <th>9</th>\n",
       "      <td>Wed May 26 00:39:08 +0000 2021</td>\n",
       "      <td>já assistiram fratura? #filme #Netflix</td>\n",
       "    </tr>\n",
       "    <tr>\n",
       "      <th>10</th>\n",
       "      <td>Wed May 26 00:37:45 +0000 2021</td>\n",
       "      <td>Triste pq eu só queria esse homem na minha vid...</td>\n",
       "    </tr>\n",
       "    <tr>\n",
       "      <th>11</th>\n",
       "      <td>Wed May 26 00:33:09 +0000 2021</td>\n",
       "      <td>#AMúmia aquele filminho pra relaxar e cochilar...</td>\n",
       "    </tr>\n",
       "    <tr>\n",
       "      <th>12</th>\n",
       "      <td>Wed May 26 00:30:26 +0000 2021</td>\n",
       "      <td>Que risada gostosa é da Lisa do The Circle.\\n\\...</td>\n",
       "    </tr>\n",
       "    <tr>\n",
       "      <th>13</th>\n",
       "      <td>Wed May 26 00:28:30 +0000 2021</td>\n",
       "      <td>Eu fico passado com a lenda \"Ataque dos Vermes...</td>\n",
       "    </tr>\n",
       "    <tr>\n",
       "      <th>14</th>\n",
       "      <td>Wed May 26 00:28:04 +0000 2021</td>\n",
       "      <td>E eu que sou preferencial/beta e recebo atuali...</td>\n",
       "    </tr>\n",
       "    <tr>\n",
       "      <th>15</th>\n",
       "      <td>Wed May 26 00:24:09 +0000 2021</td>\n",
       "      <td>Dash &amp;amp; Lilly é tão levinho e clichê... ADO...</td>\n",
       "    </tr>\n",
       "    <tr>\n",
       "      <th>16</th>\n",
       "      <td>Wed May 26 00:19:06 +0000 2021</td>\n",
       "      <td>Queria que o Courtney fosse eliminado. Não gos...</td>\n",
       "    </tr>\n",
       "    <tr>\n",
       "      <th>17</th>\n",
       "      <td>Wed May 26 00:11:16 +0000 2021</td>\n",
       "      <td>N poderia terminar melhor 😍\\n#RunOn #Netflix</td>\n",
       "    </tr>\n",
       "    <tr>\n",
       "      <th>18</th>\n",
       "      <td>Wed May 26 00:11:08 +0000 2021</td>\n",
       "      <td>@soypaulinagoto Olá @soypaulinagoto  #Netflix ...</td>\n",
       "    </tr>\n",
       "    <tr>\n",
       "      <th>19</th>\n",
       "      <td>Wed May 26 00:06:00 +0000 2021</td>\n",
       "      <td>🎬 ASSISTA AGORA! XINGANDO Eternos, o Rodrigo T...</td>\n",
       "    </tr>\n",
       "    <tr>\n",
       "      <th>20</th>\n",
       "      <td>Wed May 26 00:05:29 +0000 2021</td>\n",
       "      <td>Pensei que ia amar #ArmyOfTheDead, mas depois ...</td>\n",
       "    </tr>\n",
       "    <tr>\n",
       "      <th>21</th>\n",
       "      <td>Wed May 26 00:00:33 +0000 2021</td>\n",
       "      <td>Netflix divulga data de estreia das duas parte...</td>\n",
       "    </tr>\n",
       "    <tr>\n",
       "      <th>22</th>\n",
       "      <td>Wed May 26 00:00:16 +0000 2021</td>\n",
       "      <td>A declaração foi feita durante uma live em seu...</td>\n",
       "    </tr>\n",
       "    <tr>\n",
       "      <th>23</th>\n",
       "      <td>Tue May 25 23:59:01 +0000 2021</td>\n",
       "      <td>Como assim existem “negadores do holocausto”? ...</td>\n",
       "    </tr>\n",
       "    <tr>\n",
       "      <th>24</th>\n",
       "      <td>Tue May 25 23:54:22 +0000 2021</td>\n",
       "      <td>\"A Prima Sofia\" (2019): Filme de crescimento b...</td>\n",
       "    </tr>\n",
       "    <tr>\n",
       "      <th>25</th>\n",
       "      <td>Tue May 25 23:52:21 +0000 2021</td>\n",
       "      <td>Quem mais tá ansioso pela 4° temporada de Elit...</td>\n",
       "    </tr>\n",
       "    <tr>\n",
       "      <th>26</th>\n",
       "      <td>Tue May 25 23:50:58 +0000 2021</td>\n",
       "      <td>Eu ainda tô em CHOQUE com a segunda temporada ...</td>\n",
       "    </tr>\n",
       "    <tr>\n",
       "      <th>27</th>\n",
       "      <td>Tue May 25 23:40:31 +0000 2021</td>\n",
       "      <td>Efeitos especiais dos filmes Ilha do Medo (201...</td>\n",
       "    </tr>\n",
       "    <tr>\n",
       "      <th>28</th>\n",
       "      <td>Tue May 25 23:30:32 +0000 2021</td>\n",
       "      <td>#DineoDragaoGenial ganha divertido trailer dub...</td>\n",
       "    </tr>\n",
       "    <tr>\n",
       "      <th>29</th>\n",
       "      <td>Tue May 25 23:28:16 +0000 2021</td>\n",
       "      <td>Sokka e Zuko terão idades diferentes na adapta...</td>\n",
       "    </tr>\n",
       "    <tr>\n",
       "      <th>...</th>\n",
       "      <td>...</td>\n",
       "      <td>...</td>\n",
       "    </tr>\n",
       "    <tr>\n",
       "      <th>270</th>\n",
       "      <td>Mon May 24 20:22:48 +0000 2021</td>\n",
       "      <td>#LindsayLohan, a eterna Cady, de Meninas Malva...</td>\n",
       "    </tr>\n",
       "    <tr>\n",
       "      <th>271</th>\n",
       "      <td>Mon May 24 20:20:31 +0000 2021</td>\n",
       "      <td>Inclusive tem vídeo novo no canal, sobre #Itae...</td>\n",
       "    </tr>\n",
       "    <tr>\n",
       "      <th>272</th>\n",
       "      <td>Mon May 24 20:18:41 +0000 2021</td>\n",
       "      <td>👊🏾Shuumatsu no Valkyrie👊🏾\\n17 de junho deste a...</td>\n",
       "    </tr>\n",
       "    <tr>\n",
       "      <th>273</th>\n",
       "      <td>Mon May 24 20:11:10 +0000 2021</td>\n",
       "      <td>Quanto mais assisto \"quem matou a Sara\", menos...</td>\n",
       "    </tr>\n",
       "    <tr>\n",
       "      <th>274</th>\n",
       "      <td>Mon May 24 20:05:02 +0000 2021</td>\n",
       "      <td>O retorno de #LindsayLohan vem aí. Isso porque...</td>\n",
       "    </tr>\n",
       "    <tr>\n",
       "      <th>275</th>\n",
       "      <td>Mon May 24 19:48:15 +0000 2021</td>\n",
       "      <td>Quem aí vai maratonar? \\n#lacasadepapel5 #laca...</td>\n",
       "    </tr>\n",
       "    <tr>\n",
       "      <th>276</th>\n",
       "      <td>Mon May 24 19:47:59 +0000 2021</td>\n",
       "      <td>Plataforma pode expandir o serviço de entreten...</td>\n",
       "    </tr>\n",
       "    <tr>\n",
       "      <th>277</th>\n",
       "      <td>Mon May 24 19:42:37 +0000 2021</td>\n",
       "      <td>Última temporada de #LaCasaDePapel ganha data ...</td>\n",
       "    </tr>\n",
       "    <tr>\n",
       "      <th>278</th>\n",
       "      <td>Mon May 24 19:21:51 +0000 2021</td>\n",
       "      <td>Ok, Nairóbi não está no trailer da nova tempor...</td>\n",
       "    </tr>\n",
       "    <tr>\n",
       "      <th>279</th>\n",
       "      <td>Mon May 24 19:20:05 +0000 2021</td>\n",
       "      <td>A #Netflix revelou nesta segunda a data de est...</td>\n",
       "    </tr>\n",
       "    <tr>\n",
       "      <th>280</th>\n",
       "      <td>Mon May 24 19:20:03 +0000 2021</td>\n",
       "      <td>A Série #LaCasadeLasFlores é recheada de temas...</td>\n",
       "    </tr>\n",
       "    <tr>\n",
       "      <th>281</th>\n",
       "      <td>Mon May 24 19:14:56 +0000 2021</td>\n",
       "      <td>Durante os dias de 7 a 11 de Junho, a #Netflix...</td>\n",
       "    </tr>\n",
       "    <tr>\n",
       "      <th>282</th>\n",
       "      <td>Mon May 24 19:12:43 +0000 2021</td>\n",
       "      <td>Gente chega logo 03/09 😍😍😍🔝🔝🔝 #Netflix #LaCasa...</td>\n",
       "    </tr>\n",
       "    <tr>\n",
       "      <th>283</th>\n",
       "      <td>Mon May 24 19:11:17 +0000 2021</td>\n",
       "      <td>#ShadowAndBone | Vê como foram feitos os efeit...</td>\n",
       "    </tr>\n",
       "    <tr>\n",
       "      <th>284</th>\n",
       "      <td>Mon May 24 19:10:30 +0000 2021</td>\n",
       "      <td>Olá, pessoas!\\n\\n'Army of the Dead' é entreten...</td>\n",
       "    </tr>\n",
       "    <tr>\n",
       "      <th>285</th>\n",
       "      <td>Mon May 24 19:09:37 +0000 2021</td>\n",
       "      <td>Já que ela estava grávida vamos dizer que ela ...</td>\n",
       "    </tr>\n",
       "    <tr>\n",
       "      <th>286</th>\n",
       "      <td>Mon May 24 19:01:39 +0000 2021</td>\n",
       "      <td>Finalmente! A @NetflixBrasil divulgou novidade...</td>\n",
       "    </tr>\n",
       "    <tr>\n",
       "      <th>287</th>\n",
       "      <td>Mon May 24 19:00:33 +0000 2021</td>\n",
       "      <td>A #FamíliaMitchell e a Revolta das Máquinas se...</td>\n",
       "    </tr>\n",
       "    <tr>\n",
       "      <th>288</th>\n",
       "      <td>Mon May 24 18:58:53 +0000 2021</td>\n",
       "      <td>O novo filme do diretor, intitulado Army of De...</td>\n",
       "    </tr>\n",
       "    <tr>\n",
       "      <th>289</th>\n",
       "      <td>Mon May 24 18:55:12 +0000 2021</td>\n",
       "      <td>Tô vendo um filme de invasão em las vergas (zu...</td>\n",
       "    </tr>\n",
       "    <tr>\n",
       "      <th>290</th>\n",
       "      <td>Mon May 24 18:54:59 +0000 2021</td>\n",
       "      <td>Filme eu sou todas as garotas🥲💯\\n#Netflix</td>\n",
       "    </tr>\n",
       "    <tr>\n",
       "      <th>291</th>\n",
       "      <td>Mon May 24 18:53:51 +0000 2021</td>\n",
       "      <td>@Sam_Antha_Win tem sangue Kryptoniano e ainda ...</td>\n",
       "    </tr>\n",
       "    <tr>\n",
       "      <th>292</th>\n",
       "      <td>Mon May 24 18:51:50 +0000 2021</td>\n",
       "      <td>Vintade de falar do #ArmyOfTheDead , ms como é...</td>\n",
       "    </tr>\n",
       "    <tr>\n",
       "      <th>293</th>\n",
       "      <td>Mon May 24 18:40:24 +0000 2021</td>\n",
       "      <td>A #Netflix divulgou q. a 5 e última temporada ...</td>\n",
       "    </tr>\n",
       "    <tr>\n",
       "      <th>294</th>\n",
       "      <td>Mon May 24 18:37:37 +0000 2021</td>\n",
       "      <td>A #Netflix divulgou o teaser e data de estreia...</td>\n",
       "    </tr>\n",
       "    <tr>\n",
       "      <th>295</th>\n",
       "      <td>Mon May 24 18:37:01 +0000 2021</td>\n",
       "      <td>Las pelis y series que abandonan #Netflix hoy:...</td>\n",
       "    </tr>\n",
       "    <tr>\n",
       "      <th>296</th>\n",
       "      <td>Mon May 24 18:35:28 +0000 2021</td>\n",
       "      <td>ELA VOLTOU! Netflix faz boa ação e contrata Li...</td>\n",
       "    </tr>\n",
       "    <tr>\n",
       "      <th>297</th>\n",
       "      <td>Mon May 24 18:25:53 +0000 2021</td>\n",
       "      <td>Como eu sentia falta de uma série assim, vicia...</td>\n",
       "    </tr>\n",
       "    <tr>\n",
       "      <th>298</th>\n",
       "      <td>Mon May 24 18:18:06 +0000 2021</td>\n",
       "      <td>DATAS PARA A ÚLTIMA TEMPORADA DE \"LA CASA DE P...</td>\n",
       "    </tr>\n",
       "    <tr>\n",
       "      <th>299</th>\n",
       "      <td>Mon May 24 18:16:30 +0000 2021</td>\n",
       "      <td>Dudinha fala sobre a continuação de Anne de Gr...</td>\n",
       "    </tr>\n",
       "  </tbody>\n",
       "</table>\n",
       "<p>300 rows × 2 columns</p>\n",
       "</div>"
      ],
      "text/plain": [
       "                    Data de criação  \\\n",
       "0    Wed May 26 01:23:57 +0000 2021   \n",
       "1    Wed May 26 01:18:25 +0000 2021   \n",
       "2    Wed May 26 01:15:48 +0000 2021   \n",
       "3    Wed May 26 01:12:33 +0000 2021   \n",
       "4    Wed May 26 01:08:05 +0000 2021   \n",
       "5    Wed May 26 01:06:36 +0000 2021   \n",
       "6    Wed May 26 01:00:56 +0000 2021   \n",
       "7    Wed May 26 00:59:54 +0000 2021   \n",
       "8    Wed May 26 00:39:20 +0000 2021   \n",
       "9    Wed May 26 00:39:08 +0000 2021   \n",
       "10   Wed May 26 00:37:45 +0000 2021   \n",
       "11   Wed May 26 00:33:09 +0000 2021   \n",
       "12   Wed May 26 00:30:26 +0000 2021   \n",
       "13   Wed May 26 00:28:30 +0000 2021   \n",
       "14   Wed May 26 00:28:04 +0000 2021   \n",
       "15   Wed May 26 00:24:09 +0000 2021   \n",
       "16   Wed May 26 00:19:06 +0000 2021   \n",
       "17   Wed May 26 00:11:16 +0000 2021   \n",
       "18   Wed May 26 00:11:08 +0000 2021   \n",
       "19   Wed May 26 00:06:00 +0000 2021   \n",
       "20   Wed May 26 00:05:29 +0000 2021   \n",
       "21   Wed May 26 00:00:33 +0000 2021   \n",
       "22   Wed May 26 00:00:16 +0000 2021   \n",
       "23   Tue May 25 23:59:01 +0000 2021   \n",
       "24   Tue May 25 23:54:22 +0000 2021   \n",
       "25   Tue May 25 23:52:21 +0000 2021   \n",
       "26   Tue May 25 23:50:58 +0000 2021   \n",
       "27   Tue May 25 23:40:31 +0000 2021   \n",
       "28   Tue May 25 23:30:32 +0000 2021   \n",
       "29   Tue May 25 23:28:16 +0000 2021   \n",
       "..                              ...   \n",
       "270  Mon May 24 20:22:48 +0000 2021   \n",
       "271  Mon May 24 20:20:31 +0000 2021   \n",
       "272  Mon May 24 20:18:41 +0000 2021   \n",
       "273  Mon May 24 20:11:10 +0000 2021   \n",
       "274  Mon May 24 20:05:02 +0000 2021   \n",
       "275  Mon May 24 19:48:15 +0000 2021   \n",
       "276  Mon May 24 19:47:59 +0000 2021   \n",
       "277  Mon May 24 19:42:37 +0000 2021   \n",
       "278  Mon May 24 19:21:51 +0000 2021   \n",
       "279  Mon May 24 19:20:05 +0000 2021   \n",
       "280  Mon May 24 19:20:03 +0000 2021   \n",
       "281  Mon May 24 19:14:56 +0000 2021   \n",
       "282  Mon May 24 19:12:43 +0000 2021   \n",
       "283  Mon May 24 19:11:17 +0000 2021   \n",
       "284  Mon May 24 19:10:30 +0000 2021   \n",
       "285  Mon May 24 19:09:37 +0000 2021   \n",
       "286  Mon May 24 19:01:39 +0000 2021   \n",
       "287  Mon May 24 19:00:33 +0000 2021   \n",
       "288  Mon May 24 18:58:53 +0000 2021   \n",
       "289  Mon May 24 18:55:12 +0000 2021   \n",
       "290  Mon May 24 18:54:59 +0000 2021   \n",
       "291  Mon May 24 18:53:51 +0000 2021   \n",
       "292  Mon May 24 18:51:50 +0000 2021   \n",
       "293  Mon May 24 18:40:24 +0000 2021   \n",
       "294  Mon May 24 18:37:37 +0000 2021   \n",
       "295  Mon May 24 18:37:01 +0000 2021   \n",
       "296  Mon May 24 18:35:28 +0000 2021   \n",
       "297  Mon May 24 18:25:53 +0000 2021   \n",
       "298  Mon May 24 18:18:06 +0000 2021   \n",
       "299  Mon May 24 18:16:30 +0000 2021   \n",
       "\n",
       "                                                 Texto  \n",
       "0    #Grupos de #WhatsApp #Ecuador #Amistad #Ligar ...  \n",
       "1    Comecei a assistir #Demolidor na #Netflix e tô...  \n",
       "2    Pôster da 2º temporada de Love, Death &amp; Ro...  \n",
       "3    Alguem assistindo @quemmatousarabr no @Netflix...  \n",
       "4    Ansiedade ativa, laça logo a quinta temporada ...  \n",
       "5    Sinceramente, não acredito que Special acabou....  \n",
       "6            Assistam #netflix https://t.co/YHWTKdiRq9  \n",
       "7    Fui parar para assistir e já maratonei.. ah de...  \n",
       "8    A Sara é simplesmente insuportável.\\nEu mesma ...  \n",
       "9               já assistiram fratura? #filme #Netflix  \n",
       "10   Triste pq eu só queria esse homem na minha vid...  \n",
       "11   #AMúmia aquele filminho pra relaxar e cochilar...  \n",
       "12   Que risada gostosa é da Lisa do The Circle.\\n\\...  \n",
       "13   Eu fico passado com a lenda \"Ataque dos Vermes...  \n",
       "14   E eu que sou preferencial/beta e recebo atuali...  \n",
       "15   Dash &amp; Lilly é tão levinho e clichê... ADO...  \n",
       "16   Queria que o Courtney fosse eliminado. Não gos...  \n",
       "17        N poderia terminar melhor 😍\\n#RunOn #Netflix  \n",
       "18   @soypaulinagoto Olá @soypaulinagoto  #Netflix ...  \n",
       "19   🎬 ASSISTA AGORA! XINGANDO Eternos, o Rodrigo T...  \n",
       "20   Pensei que ia amar #ArmyOfTheDead, mas depois ...  \n",
       "21   Netflix divulga data de estreia das duas parte...  \n",
       "22   A declaração foi feita durante uma live em seu...  \n",
       "23   Como assim existem “negadores do holocausto”? ...  \n",
       "24   \"A Prima Sofia\" (2019): Filme de crescimento b...  \n",
       "25   Quem mais tá ansioso pela 4° temporada de Elit...  \n",
       "26   Eu ainda tô em CHOQUE com a segunda temporada ...  \n",
       "27   Efeitos especiais dos filmes Ilha do Medo (201...  \n",
       "28   #DineoDragaoGenial ganha divertido trailer dub...  \n",
       "29   Sokka e Zuko terão idades diferentes na adapta...  \n",
       "..                                                 ...  \n",
       "270  #LindsayLohan, a eterna Cady, de Meninas Malva...  \n",
       "271  Inclusive tem vídeo novo no canal, sobre #Itae...  \n",
       "272  👊🏾Shuumatsu no Valkyrie👊🏾\\n17 de junho deste a...  \n",
       "273  Quanto mais assisto \"quem matou a Sara\", menos...  \n",
       "274  O retorno de #LindsayLohan vem aí. Isso porque...  \n",
       "275  Quem aí vai maratonar? \\n#lacasadepapel5 #laca...  \n",
       "276  Plataforma pode expandir o serviço de entreten...  \n",
       "277  Última temporada de #LaCasaDePapel ganha data ...  \n",
       "278  Ok, Nairóbi não está no trailer da nova tempor...  \n",
       "279  A #Netflix revelou nesta segunda a data de est...  \n",
       "280  A Série #LaCasadeLasFlores é recheada de temas...  \n",
       "281  Durante os dias de 7 a 11 de Junho, a #Netflix...  \n",
       "282  Gente chega logo 03/09 😍😍😍🔝🔝🔝 #Netflix #LaCasa...  \n",
       "283  #ShadowAndBone | Vê como foram feitos os efeit...  \n",
       "284  Olá, pessoas!\\n\\n'Army of the Dead' é entreten...  \n",
       "285  Já que ela estava grávida vamos dizer que ela ...  \n",
       "286  Finalmente! A @NetflixBrasil divulgou novidade...  \n",
       "287  A #FamíliaMitchell e a Revolta das Máquinas se...  \n",
       "288  O novo filme do diretor, intitulado Army of De...  \n",
       "289  Tô vendo um filme de invasão em las vergas (zu...  \n",
       "290          Filme eu sou todas as garotas🥲💯\\n#Netflix  \n",
       "291  @Sam_Antha_Win tem sangue Kryptoniano e ainda ...  \n",
       "292  Vintade de falar do #ArmyOfTheDead , ms como é...  \n",
       "293  A #Netflix divulgou q. a 5 e última temporada ...  \n",
       "294  A #Netflix divulgou o teaser e data de estreia...  \n",
       "295  Las pelis y series que abandonan #Netflix hoy:...  \n",
       "296  ELA VOLTOU! Netflix faz boa ação e contrata Li...  \n",
       "297  Como eu sentia falta de uma série assim, vicia...  \n",
       "298  DATAS PARA A ÚLTIMA TEMPORADA DE \"LA CASA DE P...  \n",
       "299  Dudinha fala sobre a continuação de Anne de Gr...  \n",
       "\n",
       "[300 rows x 2 columns]"
      ]
     },
     "execution_count": 56,
     "metadata": {},
     "output_type": "execute_result"
    }
   ],
   "source": [
    "#10\n",
    "dfTweets.rename(columns={\"full_text\": \"Texto\", \"created_at\": \"Data de criação\"})"
   ]
  },
  {
   "cell_type": "markdown",
   "metadata": {},
   "source": [
    "Por fim, adicionamos uma coluna chamada \"Sentimento\", aonde será colocada a anotação manual do sentimento de cada um desses tweets, e salvamos o DataFrame em um arquivo Excel, aonde é mais simples a manipulação."
   ]
  },
  {
   "cell_type": "code",
   "execution_count": 57,
   "metadata": {},
   "outputs": [],
   "source": [
    "#11\n",
    "dfTweets.insert(2, \"Sentimento\", \"\")\n",
    "dfTweets.to_excel(\"TweetsColetadosNetflix.xlsx\")"
   ]
  },
  {
   "cell_type": "markdown",
   "metadata": {},
   "source": [
    "## A partir daqui, já deve ter sido realizada a anotação manual dos tweets!!"
   ]
  },
  {
   "cell_type": "markdown",
   "metadata": {},
   "source": [
    "### Tendo feita a anotação manual dos tweets, que no caso desse trabalho foi feito por 3 pessoas, adicionamos a tabela excel em uma variavel chamada tweets."
   ]
  },
  {
   "cell_type": "code",
   "execution_count": 4,
   "metadata": {},
   "outputs": [],
   "source": [
    "#12\n",
    "tweets= pd.read_excel('TabelaNetflix.xlsx', index_col=0) "
   ]
  },
  {
   "cell_type": "markdown",
   "metadata": {},
   "source": [
    "Abaixo, vemos como ficou nossa tabela.\n",
    "Lembrando que tweets classificados como 0 são negativos, como 1 são positivos e como 2 são neutros."
   ]
  },
  {
   "cell_type": "code",
   "execution_count": 5,
   "metadata": {},
   "outputs": [
    {
     "data": {
      "text/html": [
       "<div>\n",
       "<style scoped>\n",
       "    .dataframe tbody tr th:only-of-type {\n",
       "        vertical-align: middle;\n",
       "    }\n",
       "\n",
       "    .dataframe tbody tr th {\n",
       "        vertical-align: top;\n",
       "    }\n",
       "\n",
       "    .dataframe thead th {\n",
       "        text-align: right;\n",
       "    }\n",
       "</style>\n",
       "<table border=\"1\" class=\"dataframe\">\n",
       "  <thead>\n",
       "    <tr style=\"text-align: right;\">\n",
       "      <th></th>\n",
       "      <th>full_text</th>\n",
       "      <th>Sentimento1</th>\n",
       "      <th>Sentimento2</th>\n",
       "      <th>SentimentoFinal</th>\n",
       "    </tr>\n",
       "  </thead>\n",
       "  <tbody>\n",
       "    <tr>\n",
       "      <th>0</th>\n",
       "      <td>#Grupos de #WhatsApp #Ecuador #Amistad #Ligar ...</td>\n",
       "      <td>2</td>\n",
       "      <td>2</td>\n",
       "      <td>2</td>\n",
       "    </tr>\n",
       "    <tr>\n",
       "      <th>1</th>\n",
       "      <td>Comecei a assistir #Demolidor na #Netflix e tô...</td>\n",
       "      <td>1</td>\n",
       "      <td>1</td>\n",
       "      <td>1</td>\n",
       "    </tr>\n",
       "    <tr>\n",
       "      <th>2</th>\n",
       "      <td>Pôster da 2º temporada de Love, Death &amp;amp; Ro...</td>\n",
       "      <td>2</td>\n",
       "      <td>2</td>\n",
       "      <td>2</td>\n",
       "    </tr>\n",
       "    <tr>\n",
       "      <th>3</th>\n",
       "      <td>Alguem assistindo @quemmatousarabr no @Netflix...</td>\n",
       "      <td>2</td>\n",
       "      <td>0</td>\n",
       "      <td>2</td>\n",
       "    </tr>\n",
       "    <tr>\n",
       "      <th>4</th>\n",
       "      <td>Ansiedade ativa, laça logo a quinta temporada ...</td>\n",
       "      <td>2</td>\n",
       "      <td>2</td>\n",
       "      <td>2</td>\n",
       "    </tr>\n",
       "    <tr>\n",
       "      <th>5</th>\n",
       "      <td>Sinceramente, não acredito que Special acabou....</td>\n",
       "      <td>2</td>\n",
       "      <td>0</td>\n",
       "      <td>0</td>\n",
       "    </tr>\n",
       "    <tr>\n",
       "      <th>6</th>\n",
       "      <td>Assistam #netflix https://t.co/YHWTKdiRq9</td>\n",
       "      <td>2</td>\n",
       "      <td>2</td>\n",
       "      <td>2</td>\n",
       "    </tr>\n",
       "    <tr>\n",
       "      <th>7</th>\n",
       "      <td>Fui parar para assistir e já maratonei.. ah de...</td>\n",
       "      <td>2</td>\n",
       "      <td>2</td>\n",
       "      <td>2</td>\n",
       "    </tr>\n",
       "    <tr>\n",
       "      <th>8</th>\n",
       "      <td>A Sara é simplesmente insuportável.\\nEu mesma ...</td>\n",
       "      <td>0</td>\n",
       "      <td>0</td>\n",
       "      <td>0</td>\n",
       "    </tr>\n",
       "    <tr>\n",
       "      <th>9</th>\n",
       "      <td>já assistiram fratura? #filme #Netflix</td>\n",
       "      <td>2</td>\n",
       "      <td>2</td>\n",
       "      <td>2</td>\n",
       "    </tr>\n",
       "    <tr>\n",
       "      <th>10</th>\n",
       "      <td>Triste pq eu só queria esse homem na minha vid...</td>\n",
       "      <td>0</td>\n",
       "      <td>0</td>\n",
       "      <td>0</td>\n",
       "    </tr>\n",
       "    <tr>\n",
       "      <th>11</th>\n",
       "      <td>#AMúmia aquele filminho pra relaxar e cochilar...</td>\n",
       "      <td>1</td>\n",
       "      <td>2</td>\n",
       "      <td>1</td>\n",
       "    </tr>\n",
       "    <tr>\n",
       "      <th>12</th>\n",
       "      <td>Que risada gostosa é da Lisa do The Circle.\\n\\...</td>\n",
       "      <td>1</td>\n",
       "      <td>1</td>\n",
       "      <td>1</td>\n",
       "    </tr>\n",
       "    <tr>\n",
       "      <th>13</th>\n",
       "      <td>Eu fico passado com a lenda \"Ataque dos Vermes...</td>\n",
       "      <td>0</td>\n",
       "      <td>2</td>\n",
       "      <td>0</td>\n",
       "    </tr>\n",
       "    <tr>\n",
       "      <th>14</th>\n",
       "      <td>E eu que sou preferencial/beta e recebo atuali...</td>\n",
       "      <td>1</td>\n",
       "      <td>2</td>\n",
       "      <td>2</td>\n",
       "    </tr>\n",
       "    <tr>\n",
       "      <th>15</th>\n",
       "      <td>Dash &amp;amp; Lilly é tão levinho e clichê... ADO...</td>\n",
       "      <td>1</td>\n",
       "      <td>1</td>\n",
       "      <td>1</td>\n",
       "    </tr>\n",
       "    <tr>\n",
       "      <th>16</th>\n",
       "      <td>Queria que o Courtney fosse eliminado. Não gos...</td>\n",
       "      <td>0</td>\n",
       "      <td>0</td>\n",
       "      <td>0</td>\n",
       "    </tr>\n",
       "    <tr>\n",
       "      <th>17</th>\n",
       "      <td>N poderia terminar melhor 😍\\n#RunOn #Netflix</td>\n",
       "      <td>1</td>\n",
       "      <td>1</td>\n",
       "      <td>1</td>\n",
       "    </tr>\n",
       "    <tr>\n",
       "      <th>18</th>\n",
       "      <td>@soypaulinagoto Olá @soypaulinagoto  #Netflix ...</td>\n",
       "      <td>2</td>\n",
       "      <td>2</td>\n",
       "      <td>2</td>\n",
       "    </tr>\n",
       "    <tr>\n",
       "      <th>19</th>\n",
       "      <td>🎬 ASSISTA AGORA! XINGANDO Eternos, o Rodrigo T...</td>\n",
       "      <td>2</td>\n",
       "      <td>2</td>\n",
       "      <td>2</td>\n",
       "    </tr>\n",
       "    <tr>\n",
       "      <th>20</th>\n",
       "      <td>Pensei que ia amar #ArmyOfTheDead, mas depois ...</td>\n",
       "      <td>0</td>\n",
       "      <td>0</td>\n",
       "      <td>0</td>\n",
       "    </tr>\n",
       "    <tr>\n",
       "      <th>21</th>\n",
       "      <td>Netflix divulga data de estreia das duas parte...</td>\n",
       "      <td>2</td>\n",
       "      <td>2</td>\n",
       "      <td>2</td>\n",
       "    </tr>\n",
       "    <tr>\n",
       "      <th>22</th>\n",
       "      <td>A declaração foi feita durante uma live em seu...</td>\n",
       "      <td>2</td>\n",
       "      <td>1</td>\n",
       "      <td>2</td>\n",
       "    </tr>\n",
       "    <tr>\n",
       "      <th>23</th>\n",
       "      <td>Como assim existem “negadores do holocausto”? ...</td>\n",
       "      <td>0</td>\n",
       "      <td>0</td>\n",
       "      <td>0</td>\n",
       "    </tr>\n",
       "    <tr>\n",
       "      <th>24</th>\n",
       "      <td>\"A Prima Sofia\" (2019): Filme de crescimento b...</td>\n",
       "      <td>1</td>\n",
       "      <td>1</td>\n",
       "      <td>1</td>\n",
       "    </tr>\n",
       "    <tr>\n",
       "      <th>25</th>\n",
       "      <td>Quem mais tá ansioso pela 4° temporada de Elit...</td>\n",
       "      <td>2</td>\n",
       "      <td>2</td>\n",
       "      <td>2</td>\n",
       "    </tr>\n",
       "    <tr>\n",
       "      <th>26</th>\n",
       "      <td>Eu ainda tô em CHOQUE com a segunda temporada ...</td>\n",
       "      <td>2</td>\n",
       "      <td>2</td>\n",
       "      <td>2</td>\n",
       "    </tr>\n",
       "    <tr>\n",
       "      <th>27</th>\n",
       "      <td>Efeitos especiais dos filmes Ilha do Medo (201...</td>\n",
       "      <td>2</td>\n",
       "      <td>2</td>\n",
       "      <td>2</td>\n",
       "    </tr>\n",
       "    <tr>\n",
       "      <th>28</th>\n",
       "      <td>#DineoDragaoGenial ganha divertido trailer dub...</td>\n",
       "      <td>2</td>\n",
       "      <td>2</td>\n",
       "      <td>2</td>\n",
       "    </tr>\n",
       "    <tr>\n",
       "      <th>29</th>\n",
       "      <td>Sokka e Zuko terão idades diferentes na adapta...</td>\n",
       "      <td>2</td>\n",
       "      <td>2</td>\n",
       "      <td>2</td>\n",
       "    </tr>\n",
       "    <tr>\n",
       "      <th>...</th>\n",
       "      <td>...</td>\n",
       "      <td>...</td>\n",
       "      <td>...</td>\n",
       "      <td>...</td>\n",
       "    </tr>\n",
       "    <tr>\n",
       "      <th>270</th>\n",
       "      <td>#LindsayLohan, a eterna Cady, de Meninas Malva...</td>\n",
       "      <td>2</td>\n",
       "      <td>2</td>\n",
       "      <td>2</td>\n",
       "    </tr>\n",
       "    <tr>\n",
       "      <th>271</th>\n",
       "      <td>Inclusive tem vídeo novo no canal, sobre #Itae...</td>\n",
       "      <td>2</td>\n",
       "      <td>2</td>\n",
       "      <td>2</td>\n",
       "    </tr>\n",
       "    <tr>\n",
       "      <th>272</th>\n",
       "      <td>👊🏾Shuumatsu no Valkyrie👊🏾\\n17 de junho deste a...</td>\n",
       "      <td>2</td>\n",
       "      <td>2</td>\n",
       "      <td>2</td>\n",
       "    </tr>\n",
       "    <tr>\n",
       "      <th>273</th>\n",
       "      <td>Quanto mais assisto \"quem matou a Sara\", menos...</td>\n",
       "      <td>0</td>\n",
       "      <td>0</td>\n",
       "      <td>0</td>\n",
       "    </tr>\n",
       "    <tr>\n",
       "      <th>274</th>\n",
       "      <td>O retorno de #LindsayLohan vem aí. Isso porque...</td>\n",
       "      <td>2</td>\n",
       "      <td>2</td>\n",
       "      <td>2</td>\n",
       "    </tr>\n",
       "    <tr>\n",
       "      <th>275</th>\n",
       "      <td>Quem aí vai maratonar? \\n#lacasadepapel5 #laca...</td>\n",
       "      <td>2</td>\n",
       "      <td>2</td>\n",
       "      <td>2</td>\n",
       "    </tr>\n",
       "    <tr>\n",
       "      <th>276</th>\n",
       "      <td>Plataforma pode expandir o serviço de entreten...</td>\n",
       "      <td>2</td>\n",
       "      <td>2</td>\n",
       "      <td>2</td>\n",
       "    </tr>\n",
       "    <tr>\n",
       "      <th>277</th>\n",
       "      <td>Última temporada de #LaCasaDePapel ganha data ...</td>\n",
       "      <td>2</td>\n",
       "      <td>2</td>\n",
       "      <td>2</td>\n",
       "    </tr>\n",
       "    <tr>\n",
       "      <th>278</th>\n",
       "      <td>Ok, Nairóbi não está no trailer da nova tempor...</td>\n",
       "      <td>2</td>\n",
       "      <td>0</td>\n",
       "      <td>0</td>\n",
       "    </tr>\n",
       "    <tr>\n",
       "      <th>279</th>\n",
       "      <td>A #Netflix revelou nesta segunda a data de est...</td>\n",
       "      <td>2</td>\n",
       "      <td>2</td>\n",
       "      <td>2</td>\n",
       "    </tr>\n",
       "    <tr>\n",
       "      <th>280</th>\n",
       "      <td>A Série #LaCasadeLasFlores é recheada de temas...</td>\n",
       "      <td>2</td>\n",
       "      <td>2</td>\n",
       "      <td>2</td>\n",
       "    </tr>\n",
       "    <tr>\n",
       "      <th>281</th>\n",
       "      <td>Durante os dias de 7 a 11 de Junho, a #Netflix...</td>\n",
       "      <td>2</td>\n",
       "      <td>2</td>\n",
       "      <td>2</td>\n",
       "    </tr>\n",
       "    <tr>\n",
       "      <th>282</th>\n",
       "      <td>Gente chega logo 03/09 😍😍😍🔝🔝🔝 #Netflix #LaCasa...</td>\n",
       "      <td>2</td>\n",
       "      <td>2</td>\n",
       "      <td>2</td>\n",
       "    </tr>\n",
       "    <tr>\n",
       "      <th>283</th>\n",
       "      <td>#ShadowAndBone | Vê como foram feitos os efeit...</td>\n",
       "      <td>2</td>\n",
       "      <td>2</td>\n",
       "      <td>2</td>\n",
       "    </tr>\n",
       "    <tr>\n",
       "      <th>284</th>\n",
       "      <td>Olá, pessoas!\\n\\n'Army of the Dead' é entreten...</td>\n",
       "      <td>2</td>\n",
       "      <td>1</td>\n",
       "      <td>2</td>\n",
       "    </tr>\n",
       "    <tr>\n",
       "      <th>285</th>\n",
       "      <td>Já que ela estava grávida vamos dizer que ela ...</td>\n",
       "      <td>2</td>\n",
       "      <td>0</td>\n",
       "      <td>0</td>\n",
       "    </tr>\n",
       "    <tr>\n",
       "      <th>286</th>\n",
       "      <td>Finalmente! A @NetflixBrasil divulgou novidade...</td>\n",
       "      <td>2</td>\n",
       "      <td>2</td>\n",
       "      <td>2</td>\n",
       "    </tr>\n",
       "    <tr>\n",
       "      <th>287</th>\n",
       "      <td>A #FamíliaMitchell e a Revolta das Máquinas se...</td>\n",
       "      <td>2</td>\n",
       "      <td>2</td>\n",
       "      <td>2</td>\n",
       "    </tr>\n",
       "    <tr>\n",
       "      <th>288</th>\n",
       "      <td>O novo filme do diretor, intitulado Army of De...</td>\n",
       "      <td>2</td>\n",
       "      <td>2</td>\n",
       "      <td>2</td>\n",
       "    </tr>\n",
       "    <tr>\n",
       "      <th>289</th>\n",
       "      <td>Tô vendo um filme de invasão em las vergas (zu...</td>\n",
       "      <td>0</td>\n",
       "      <td>2</td>\n",
       "      <td>0</td>\n",
       "    </tr>\n",
       "    <tr>\n",
       "      <th>290</th>\n",
       "      <td>Filme eu sou todas as garotas🥲💯\\n#Netflix</td>\n",
       "      <td>2</td>\n",
       "      <td>2</td>\n",
       "      <td>2</td>\n",
       "    </tr>\n",
       "    <tr>\n",
       "      <th>291</th>\n",
       "      <td>@Sam_Antha_Win tem sangue Kryptoniano e ainda ...</td>\n",
       "      <td>2</td>\n",
       "      <td>2</td>\n",
       "      <td>2</td>\n",
       "    </tr>\n",
       "    <tr>\n",
       "      <th>292</th>\n",
       "      <td>Vintade de falar do #ArmyOfTheDead , ms como é...</td>\n",
       "      <td>0</td>\n",
       "      <td>0</td>\n",
       "      <td>0</td>\n",
       "    </tr>\n",
       "    <tr>\n",
       "      <th>293</th>\n",
       "      <td>A #Netflix divulgou q. a 5 e última temporada ...</td>\n",
       "      <td>2</td>\n",
       "      <td>2</td>\n",
       "      <td>2</td>\n",
       "    </tr>\n",
       "    <tr>\n",
       "      <th>294</th>\n",
       "      <td>A #Netflix divulgou o teaser e data de estreia...</td>\n",
       "      <td>2</td>\n",
       "      <td>2</td>\n",
       "      <td>2</td>\n",
       "    </tr>\n",
       "    <tr>\n",
       "      <th>295</th>\n",
       "      <td>Las pelis y series que abandonan #Netflix hoy:...</td>\n",
       "      <td>2</td>\n",
       "      <td>2</td>\n",
       "      <td>2</td>\n",
       "    </tr>\n",
       "    <tr>\n",
       "      <th>296</th>\n",
       "      <td>ELA VOLTOU! Netflix faz boa ação e contrata Li...</td>\n",
       "      <td>2</td>\n",
       "      <td>2</td>\n",
       "      <td>2</td>\n",
       "    </tr>\n",
       "    <tr>\n",
       "      <th>297</th>\n",
       "      <td>Como eu sentia falta de uma série assim, vicia...</td>\n",
       "      <td>1</td>\n",
       "      <td>1</td>\n",
       "      <td>1</td>\n",
       "    </tr>\n",
       "    <tr>\n",
       "      <th>298</th>\n",
       "      <td>DATAS PARA A ÚLTIMA TEMPORADA DE \"LA CASA DE P...</td>\n",
       "      <td>2</td>\n",
       "      <td>2</td>\n",
       "      <td>2</td>\n",
       "    </tr>\n",
       "    <tr>\n",
       "      <th>299</th>\n",
       "      <td>Dudinha fala sobre a continuação de Anne de Gr...</td>\n",
       "      <td>2</td>\n",
       "      <td>2</td>\n",
       "      <td>2</td>\n",
       "    </tr>\n",
       "  </tbody>\n",
       "</table>\n",
       "<p>300 rows × 4 columns</p>\n",
       "</div>"
      ],
      "text/plain": [
       "                                             full_text  Sentimento1  \\\n",
       "0    #Grupos de #WhatsApp #Ecuador #Amistad #Ligar ...            2   \n",
       "1    Comecei a assistir #Demolidor na #Netflix e tô...            1   \n",
       "2    Pôster da 2º temporada de Love, Death &amp; Ro...            2   \n",
       "3    Alguem assistindo @quemmatousarabr no @Netflix...            2   \n",
       "4    Ansiedade ativa, laça logo a quinta temporada ...            2   \n",
       "5    Sinceramente, não acredito que Special acabou....            2   \n",
       "6            Assistam #netflix https://t.co/YHWTKdiRq9            2   \n",
       "7    Fui parar para assistir e já maratonei.. ah de...            2   \n",
       "8    A Sara é simplesmente insuportável.\\nEu mesma ...            0   \n",
       "9               já assistiram fratura? #filme #Netflix            2   \n",
       "10   Triste pq eu só queria esse homem na minha vid...            0   \n",
       "11   #AMúmia aquele filminho pra relaxar e cochilar...            1   \n",
       "12   Que risada gostosa é da Lisa do The Circle.\\n\\...            1   \n",
       "13   Eu fico passado com a lenda \"Ataque dos Vermes...            0   \n",
       "14   E eu que sou preferencial/beta e recebo atuali...            1   \n",
       "15   Dash &amp; Lilly é tão levinho e clichê... ADO...            1   \n",
       "16   Queria que o Courtney fosse eliminado. Não gos...            0   \n",
       "17        N poderia terminar melhor 😍\\n#RunOn #Netflix            1   \n",
       "18   @soypaulinagoto Olá @soypaulinagoto  #Netflix ...            2   \n",
       "19   🎬 ASSISTA AGORA! XINGANDO Eternos, o Rodrigo T...            2   \n",
       "20   Pensei que ia amar #ArmyOfTheDead, mas depois ...            0   \n",
       "21   Netflix divulga data de estreia das duas parte...            2   \n",
       "22   A declaração foi feita durante uma live em seu...            2   \n",
       "23   Como assim existem “negadores do holocausto”? ...            0   \n",
       "24   \"A Prima Sofia\" (2019): Filme de crescimento b...            1   \n",
       "25   Quem mais tá ansioso pela 4° temporada de Elit...            2   \n",
       "26   Eu ainda tô em CHOQUE com a segunda temporada ...            2   \n",
       "27   Efeitos especiais dos filmes Ilha do Medo (201...            2   \n",
       "28   #DineoDragaoGenial ganha divertido trailer dub...            2   \n",
       "29   Sokka e Zuko terão idades diferentes na adapta...            2   \n",
       "..                                                 ...          ...   \n",
       "270  #LindsayLohan, a eterna Cady, de Meninas Malva...            2   \n",
       "271  Inclusive tem vídeo novo no canal, sobre #Itae...            2   \n",
       "272  👊🏾Shuumatsu no Valkyrie👊🏾\\n17 de junho deste a...            2   \n",
       "273  Quanto mais assisto \"quem matou a Sara\", menos...            0   \n",
       "274  O retorno de #LindsayLohan vem aí. Isso porque...            2   \n",
       "275  Quem aí vai maratonar? \\n#lacasadepapel5 #laca...            2   \n",
       "276  Plataforma pode expandir o serviço de entreten...            2   \n",
       "277  Última temporada de #LaCasaDePapel ganha data ...            2   \n",
       "278  Ok, Nairóbi não está no trailer da nova tempor...            2   \n",
       "279  A #Netflix revelou nesta segunda a data de est...            2   \n",
       "280  A Série #LaCasadeLasFlores é recheada de temas...            2   \n",
       "281  Durante os dias de 7 a 11 de Junho, a #Netflix...            2   \n",
       "282  Gente chega logo 03/09 😍😍😍🔝🔝🔝 #Netflix #LaCasa...            2   \n",
       "283  #ShadowAndBone | Vê como foram feitos os efeit...            2   \n",
       "284  Olá, pessoas!\\n\\n'Army of the Dead' é entreten...            2   \n",
       "285  Já que ela estava grávida vamos dizer que ela ...            2   \n",
       "286  Finalmente! A @NetflixBrasil divulgou novidade...            2   \n",
       "287  A #FamíliaMitchell e a Revolta das Máquinas se...            2   \n",
       "288  O novo filme do diretor, intitulado Army of De...            2   \n",
       "289  Tô vendo um filme de invasão em las vergas (zu...            0   \n",
       "290          Filme eu sou todas as garotas🥲💯\\n#Netflix            2   \n",
       "291  @Sam_Antha_Win tem sangue Kryptoniano e ainda ...            2   \n",
       "292  Vintade de falar do #ArmyOfTheDead , ms como é...            0   \n",
       "293  A #Netflix divulgou q. a 5 e última temporada ...            2   \n",
       "294  A #Netflix divulgou o teaser e data de estreia...            2   \n",
       "295  Las pelis y series que abandonan #Netflix hoy:...            2   \n",
       "296  ELA VOLTOU! Netflix faz boa ação e contrata Li...            2   \n",
       "297  Como eu sentia falta de uma série assim, vicia...            1   \n",
       "298  DATAS PARA A ÚLTIMA TEMPORADA DE \"LA CASA DE P...            2   \n",
       "299  Dudinha fala sobre a continuação de Anne de Gr...            2   \n",
       "\n",
       "     Sentimento2  SentimentoFinal  \n",
       "0              2                2  \n",
       "1              1                1  \n",
       "2              2                2  \n",
       "3              0                2  \n",
       "4              2                2  \n",
       "5              0                0  \n",
       "6              2                2  \n",
       "7              2                2  \n",
       "8              0                0  \n",
       "9              2                2  \n",
       "10             0                0  \n",
       "11             2                1  \n",
       "12             1                1  \n",
       "13             2                0  \n",
       "14             2                2  \n",
       "15             1                1  \n",
       "16             0                0  \n",
       "17             1                1  \n",
       "18             2                2  \n",
       "19             2                2  \n",
       "20             0                0  \n",
       "21             2                2  \n",
       "22             1                2  \n",
       "23             0                0  \n",
       "24             1                1  \n",
       "25             2                2  \n",
       "26             2                2  \n",
       "27             2                2  \n",
       "28             2                2  \n",
       "29             2                2  \n",
       "..           ...              ...  \n",
       "270            2                2  \n",
       "271            2                2  \n",
       "272            2                2  \n",
       "273            0                0  \n",
       "274            2                2  \n",
       "275            2                2  \n",
       "276            2                2  \n",
       "277            2                2  \n",
       "278            0                0  \n",
       "279            2                2  \n",
       "280            2                2  \n",
       "281            2                2  \n",
       "282            2                2  \n",
       "283            2                2  \n",
       "284            1                2  \n",
       "285            0                0  \n",
       "286            2                2  \n",
       "287            2                2  \n",
       "288            2                2  \n",
       "289            2                0  \n",
       "290            2                2  \n",
       "291            2                2  \n",
       "292            0                0  \n",
       "293            2                2  \n",
       "294            2                2  \n",
       "295            2                2  \n",
       "296            2                2  \n",
       "297            1                1  \n",
       "298            2                2  \n",
       "299            2                2  \n",
       "\n",
       "[300 rows x 4 columns]"
      ]
     },
     "execution_count": 5,
     "metadata": {},
     "output_type": "execute_result"
    }
   ],
   "source": [
    "#13\n",
    "tweets"
   ]
  },
  {
   "cell_type": "markdown",
   "metadata": {},
   "source": [
    "## A seguir, iniciaremos o trabalho de pré-processamento dos tweets dos nossos datasets."
   ]
  },
  {
   "cell_type": "markdown",
   "metadata": {},
   "source": [
    "### O pré-processamento tem como objetivo deixar o texto presente nos tweets mais \"limpo\". Está sendo feito com apenas 1 dataset, apenas como exemplo, mas a técnica foi aplicada nos 3 datasets. "
   ]
  },
  {
   "cell_type": "markdown",
   "metadata": {},
   "source": [
    "Vamos utilizar um tweet como exemplo para que possa ser verificada o resultado de cada uma das tarefas de pré-processamento."
   ]
  },
  {
   "cell_type": "code",
   "execution_count": 9,
   "metadata": {},
   "outputs": [
    {
     "name": "stdout",
     "output_type": "stream",
     "text": [
      "Apesar da história ter muitas reviravoltas e ser totalmente imprevisível, a 2ª temporada de #QuienMatoASara apresenta várias incongruências sem pés nem cabeça...\n",
      "\n",
      "Espreita a #review: https://t.co/MYGUazSwpb\n",
      "#seriesdatv #Netflix https://t.co/lR2ltdCTiP\n"
     ]
    }
   ],
   "source": [
    "#14\n",
    "exemploPreProcess = (tweets.at[57,'full_text'])\n",
    "print (exemploPreProcess)"
   ]
  },
  {
   "cell_type": "markdown",
   "metadata": {},
   "source": [
    "Para a tokenização dos tweets (separar a frase em pequenos termos que façam sentido), utilizamos uma biblioteca específica para tweets. Ela auxilia na separação de emojis, hashtags, menções e outras questões próprias do Twitter."
   ]
  },
  {
   "cell_type": "code",
   "execution_count": 10,
   "metadata": {
    "scrolled": true
   },
   "outputs": [
    {
     "data": {
      "text/plain": [
       "['Apesar',\n",
       " 'da',\n",
       " 'história',\n",
       " 'ter',\n",
       " 'muitas',\n",
       " 'reviravoltas',\n",
       " 'e',\n",
       " 'ser',\n",
       " 'totalmente',\n",
       " 'imprevisível',\n",
       " ',',\n",
       " 'a',\n",
       " '2ª',\n",
       " 'temporada',\n",
       " 'de',\n",
       " '#QuienMatoASara',\n",
       " 'apresenta',\n",
       " 'várias',\n",
       " 'incongruências',\n",
       " 'sem',\n",
       " 'pés',\n",
       " 'nem',\n",
       " 'cabeça',\n",
       " '...',\n",
       " 'Espreita',\n",
       " 'a',\n",
       " '#review',\n",
       " ':',\n",
       " 'https://t.co/MYGUazSwpb',\n",
       " '#seriesdatv',\n",
       " '#Netflix',\n",
       " 'https://t.co/lR2ltdCTiP']"
      ]
     },
     "execution_count": 10,
     "metadata": {},
     "output_type": "execute_result"
    }
   ],
   "source": [
    "#15\n",
    "tweet_tokenize = TweetTokenizer()\n",
    "tweet_tokenize.tokenize(exemploPreProcess)"
   ]
  },
  {
   "cell_type": "markdown",
   "metadata": {},
   "source": [
    "A seguir, baixamos uma base de \"stopwords\" em português. Stopwords são palavras que não agregam sentido ao texto. Artigos e preposições são exemplos de stopwords."
   ]
  },
  {
   "cell_type": "code",
   "execution_count": 11,
   "metadata": {},
   "outputs": [
    {
     "name": "stdout",
     "output_type": "stream",
     "text": [
      "[nltk_data] Downloading package stopwords to\n",
      "[nltk_data]     C:\\Users\\Medina\\AppData\\Roaming\\nltk_data...\n",
      "[nltk_data]   Package stopwords is already up-to-date!\n"
     ]
    }
   ],
   "source": [
    "#16\n",
    "nltk.download('stopwords')\n",
    "def RemoveStopWords(tweet):\n",
    "    stopwords = nltk.corpus.stopwords.words('portuguese')\n",
    "    textInWords = []\n",
    "    for word in tweet.lower().split():\n",
    "        if (word not in stopwords) and (word.isdigit() == False): \n",
    "            textInWords.append(word)\n",
    "\n",
    "    res = ' '.join(map(str, textInWords))\n",
    "    return res"
   ]
  },
  {
   "cell_type": "markdown",
   "metadata": {},
   "source": [
    "Podemos ver abaixo como fica o tweet após a remoção de suas stopwords."
   ]
  },
  {
   "cell_type": "code",
   "execution_count": 12,
   "metadata": {},
   "outputs": [
    {
     "data": {
      "text/plain": [
       "'apesar história ter muitas reviravoltas ser totalmente imprevisível, 2ª temporada #quienmatoasara apresenta várias incongruências pés cabeça... espreita #review: https://t.co/myguazswpb #seriesdatv #netflix https://t.co/lr2ltdctip'"
      ]
     },
     "execution_count": 12,
     "metadata": {},
     "output_type": "execute_result"
    }
   ],
   "source": [
    "#17\n",
    "RemoveStopWords(exemploPreProcess)"
   ]
  },
  {
   "cell_type": "markdown",
   "metadata": {},
   "source": [
    "Para fazer a stemização de cada tweet (deixar apenas a raiz(radical) de cada termo), utilizamos uma biblioteca própria que nos ajuda a fazer isso. Essa bibloteca é específica para português. "
   ]
  },
  {
   "cell_type": "code",
   "execution_count": 13,
   "metadata": {},
   "outputs": [
    {
     "name": "stdout",
     "output_type": "stream",
     "text": [
      "[nltk_data] Downloading package rslp to\n",
      "[nltk_data]     C:\\Users\\Medina\\AppData\\Roaming\\nltk_data...\n",
      "[nltk_data]   Package rslp is already up-to-date!\n"
     ]
    },
    {
     "data": {
      "text/plain": [
       "True"
      ]
     },
     "execution_count": 13,
     "metadata": {},
     "output_type": "execute_result"
    }
   ],
   "source": [
    "#18\n",
    "nltk.download('rslp')"
   ]
  },
  {
   "cell_type": "code",
   "execution_count": 14,
   "metadata": {},
   "outputs": [],
   "source": [
    "#19\n",
    "#stemmer = nltk.stem.porter.PorterStemmer()\n",
    "stemmer = nltk.stem.RSLPStemmer()\n",
    "remove_punctuation_map = dict((ord(char), None) for char in string.punctuation)\n",
    "\n",
    "def stem_tokens(tweet):\n",
    "    textInWords = []\n",
    "    for word in tweet.lower().split():\n",
    "        textInWords.append(stemmer.stem(word))\n",
    "    res = ' '.join(map(str, textInWords))\n",
    "    return res\n"
   ]
  },
  {
   "cell_type": "markdown",
   "metadata": {},
   "source": [
    "Podemos ver abaixo como fica o tweet após a sua stemização."
   ]
  },
  {
   "cell_type": "code",
   "execution_count": 15,
   "metadata": {},
   "outputs": [
    {
     "data": {
      "text/plain": [
       "'apes da histór ter muit reviravolt e ser total imprevisível, a 2ª tempor de #quienmatoas apresent vár incongru sem pé nem cabeça... espreit a #review: https://t.co/myguazswpb #seriesdatv #netflix https://t.co/lr2ltdctip'"
      ]
     },
     "execution_count": 15,
     "metadata": {},
     "output_type": "execute_result"
    }
   ],
   "source": [
    "#20\n",
    "stem_tokens(exemploPreProcess)"
   ]
  },
  {
   "cell_type": "markdown",
   "metadata": {},
   "source": [
    "Abaixo, temos uma função de \"limpeza\". Nela, são excluídas quaisquer caracteres que não são letras. Também são excluídos links, hashtags e emojis. Todas as letras são passadas para minúsculo. Além disso, são excluídos dígitos."
   ]
  },
  {
   "cell_type": "code",
   "execution_count": 16,
   "metadata": {},
   "outputs": [],
   "source": [
    "#21\n",
    "def Limpa_dados(tweet): ##M MUDAR NOME DESSA FUNCAO\n",
    "    # remove links, pontos, virgulas,ponto e virgulas dos tweets E ACENTOS\n",
    "    tweet = unidecode(re.sub(r\"http\\S+\", \"\", tweet).lower().replace('.','')\n",
    "                      .replace(';','').replace('+','').replace(']','').replace('[','').replace('\\'','').replace(';','').replace('%','').replace('-',' ').replace(',',' ')\n",
    "                      .replace('\\n','').replace('\\\"','').replace(')','').replace('(','').replace('$','').replace('?','')\n",
    "                      .replace('_','').replace(':','').replace('!','').replace('|','').replace('/','').replace(')',''))\n",
    "    tweet = unidecode(re.sub(r\"@[A-Za-z0-9]+\", \"\", tweet))\n",
    "    tweet = unidecode(re.sub(r\"\\#[A-Za-z0-9]+\", \"\", tweet))\n",
    "    \n",
    "    tweet = unidecode(re.sub(r\"[0-9]+[A-Za-z0-9]+\", \"\", tweet)) #Remove digitos\n",
    "    tweet = tweet.replace('  ', ' ') #Corrige espaços feitos a mais.\n",
    "    tweet = tweet.replace('[?]', ' ') #Corrige outros errinhos.\n",
    "    return (tweet)"
   ]
  },
  {
   "cell_type": "markdown",
   "metadata": {},
   "source": [
    "Abaixo, vemos o tweets após a sua \"limpeza\"."
   ]
  },
  {
   "cell_type": "code",
   "execution_count": 17,
   "metadata": {},
   "outputs": [
    {
     "data": {
      "text/plain": [
       "'apesar da historia ter muitas reviravoltas e ser totalmente imprevisivel a temporada de apresenta varias incongruencias sem pes nem cabecaespreita a  '"
      ]
     },
     "execution_count": 17,
     "metadata": {},
     "output_type": "execute_result"
    }
   ],
   "source": [
    "#22\n",
    "Limpa_dados(exemploPreProcess)"
   ]
  },
  {
   "cell_type": "markdown",
   "metadata": {},
   "source": [
    "Por fim, executamos as 3 funções de pré-processamento e adicionamos a uma nova tabela Excel."
   ]
  },
  {
   "cell_type": "code",
   "execution_count": 18,
   "metadata": {},
   "outputs": [],
   "source": [
    "#23\n",
    "#PreProcessa todos os tweets:\n",
    "\n",
    "qtdTweets = len(tweets)\n",
    "for tweet in range (qtdTweets):\n",
    "    tweets.at[tweet, 'full_text'] =  Limpa_dados(str(tweets.at[tweet, 'full_text']))\n",
    "    tweets.at[tweet, 'full_text'] =  RemoveStopWords(str(tweets.at[tweet, 'full_text']))\n",
    "    #tweets.at[tweet, 'full_text'] =  stem_tokens(str(tweets.at[tweet, 'full_text']))"
   ]
  },
  {
   "cell_type": "code",
   "execution_count": 19,
   "metadata": {},
   "outputs": [],
   "source": [
    "#24\n",
    "tweets.to_excel(\"TabelaNetflixPreProcessados.xlsx\")"
   ]
  },
  {
   "cell_type": "markdown",
   "metadata": {},
   "source": [
    "## Começaremos então o processo de treinamento por parte dos algoritmos."
   ]
  },
  {
   "cell_type": "markdown",
   "metadata": {},
   "source": [
    "Primeiramente, pegamos os dados de treinamento e teste. Aqui estaremos treinando o algoritmo com os dados de covid (700 tweets) e testando com os dados de covid (300 tweets). Os dados vem de tabelas diferentes e são diferentes."
   ]
  },
  {
   "cell_type": "code",
   "execution_count": 53,
   "metadata": {},
   "outputs": [],
   "source": [
    "dadosTreino = pd.read_excel('TabelaCovidTreinoPreProcessados.xlsx').fillna(' ')\n",
    "dadosTeste = pd.read_excel('TabelaCovidTestePreProcessados.xlsx').fillna(' ')"
   ]
  },
  {
   "cell_type": "code",
   "execution_count": 54,
   "metadata": {},
   "outputs": [
    {
     "data": {
      "text/html": [
       "<div>\n",
       "<style scoped>\n",
       "    .dataframe tbody tr th:only-of-type {\n",
       "        vertical-align: middle;\n",
       "    }\n",
       "\n",
       "    .dataframe tbody tr th {\n",
       "        vertical-align: top;\n",
       "    }\n",
       "\n",
       "    .dataframe thead th {\n",
       "        text-align: right;\n",
       "    }\n",
       "</style>\n",
       "<table border=\"1\" class=\"dataframe\">\n",
       "  <thead>\n",
       "    <tr style=\"text-align: right;\">\n",
       "      <th></th>\n",
       "      <th>full_text</th>\n",
       "      <th>Sentimento1</th>\n",
       "      <th>Sentimento2</th>\n",
       "      <th>SentimentoFinal</th>\n",
       "    </tr>\n",
       "  </thead>\n",
       "  <tbody>\n",
       "    <tr>\n",
       "      <th>0</th>\n",
       "      <td>noticia hora vai vacinar neste feriado entao f...</td>\n",
       "      <td>2</td>\n",
       "      <td>2</td>\n",
       "      <td>2</td>\n",
       "    </tr>\n",
       "    <tr>\n",
       "      <th>1</th>\n",
       "      <td>importante pais expliquem importancia medidas ...</td>\n",
       "      <td>2</td>\n",
       "      <td>2</td>\n",
       "      <td>2</td>\n",
       "    </tr>\n",
       "    <tr>\n",
       "      <th>2</th>\n",
       "      <td>veiculos contam sistema mensagem som informaco...</td>\n",
       "      <td>2</td>\n",
       "      <td>2</td>\n",
       "      <td>2</td>\n",
       "    </tr>\n",
       "    <tr>\n",
       "      <th>3</th>\n",
       "      <td>beijo tempos crise sara arapiun ednei arapiun ...</td>\n",
       "      <td>2</td>\n",
       "      <td>2</td>\n",
       "      <td>2</td>\n",
       "    </tr>\n",
       "    <tr>\n",
       "      <th>4</th>\n",
       "      <td>despacho intimados presidente jair bolsonaro m...</td>\n",
       "      <td>2</td>\n",
       "      <td>2</td>\n",
       "      <td>2</td>\n",
       "    </tr>\n",
       "  </tbody>\n",
       "</table>\n",
       "</div>"
      ],
      "text/plain": [
       "                                           full_text  Sentimento1  \\\n",
       "0  noticia hora vai vacinar neste feriado entao f...            2   \n",
       "1  importante pais expliquem importancia medidas ...            2   \n",
       "2  veiculos contam sistema mensagem som informaco...            2   \n",
       "3  beijo tempos crise sara arapiun ednei arapiun ...            2   \n",
       "4  despacho intimados presidente jair bolsonaro m...            2   \n",
       "\n",
       "   Sentimento2  SentimentoFinal  \n",
       "0            2                2  \n",
       "1            2                2  \n",
       "2            2                2  \n",
       "3            2                2  \n",
       "4            2                2  "
      ]
     },
     "execution_count": 54,
     "metadata": {},
     "output_type": "execute_result"
    }
   ],
   "source": [
    "dadosTreino.head()"
   ]
  },
  {
   "cell_type": "code",
   "execution_count": 55,
   "metadata": {},
   "outputs": [
    {
     "data": {
      "text/html": [
       "<div>\n",
       "<style scoped>\n",
       "    .dataframe tbody tr th:only-of-type {\n",
       "        vertical-align: middle;\n",
       "    }\n",
       "\n",
       "    .dataframe tbody tr th {\n",
       "        vertical-align: top;\n",
       "    }\n",
       "\n",
       "    .dataframe thead th {\n",
       "        text-align: right;\n",
       "    }\n",
       "</style>\n",
       "<table border=\"1\" class=\"dataframe\">\n",
       "  <thead>\n",
       "    <tr style=\"text-align: right;\">\n",
       "      <th></th>\n",
       "      <th>full_text</th>\n",
       "      <th>Sentimento1</th>\n",
       "      <th>Sentimento2</th>\n",
       "      <th>SentimentoFinal</th>\n",
       "    </tr>\n",
       "  </thead>\n",
       "  <tbody>\n",
       "    <tr>\n",
       "      <th>0</th>\n",
       "      <td>assumiu risco tomar morrer pesquisas demonstra...</td>\n",
       "      <td>0</td>\n",
       "      <td>0</td>\n",
       "      <td>0</td>\n",
       "    </tr>\n",
       "    <tr>\n",
       "      <th>1</th>\n",
       "      <td>india imagens hospital gtb nova delhi varios p...</td>\n",
       "      <td>0</td>\n",
       "      <td>2</td>\n",
       "      <td>0</td>\n",
       "    </tr>\n",
       "    <tr>\n",
       "      <th>2</th>\n",
       "      <td>brasil numero suspeitas casos confirmados nume...</td>\n",
       "      <td>2</td>\n",
       "      <td>2</td>\n",
       "      <td>2</td>\n",
       "    </tr>\n",
       "    <tr>\n",
       "      <th>3</th>\n",
       "      <td>boletim check up saudeola veja acoes melhorar ...</td>\n",
       "      <td>2</td>\n",
       "      <td>2</td>\n",
       "      <td>2</td>\n",
       "    </tr>\n",
       "    <tr>\n",
       "      <th>4</th>\n",
       "      <td>catorze estados distrito federal mantem ocupac...</td>\n",
       "      <td>0</td>\n",
       "      <td>0</td>\n",
       "      <td>0</td>\n",
       "    </tr>\n",
       "  </tbody>\n",
       "</table>\n",
       "</div>"
      ],
      "text/plain": [
       "                                           full_text  Sentimento1  \\\n",
       "0  assumiu risco tomar morrer pesquisas demonstra...            0   \n",
       "1  india imagens hospital gtb nova delhi varios p...            0   \n",
       "2  brasil numero suspeitas casos confirmados nume...            2   \n",
       "3  boletim check up saudeola veja acoes melhorar ...            2   \n",
       "4  catorze estados distrito federal mantem ocupac...            0   \n",
       "\n",
       "   Sentimento2  SentimentoFinal  \n",
       "0            0                0  \n",
       "1            2                0  \n",
       "2            2                2  \n",
       "3            2                2  \n",
       "4            0                0  "
      ]
     },
     "execution_count": 55,
     "metadata": {},
     "output_type": "execute_result"
    }
   ],
   "source": [
    "dadosTeste.head()"
   ]
  },
  {
   "cell_type": "markdown",
   "metadata": {},
   "source": [
    "Vamos pegar os textos dos tweets de treinamento e teste e seus respectivos sentimentos."
   ]
  },
  {
   "cell_type": "code",
   "execution_count": 56,
   "metadata": {},
   "outputs": [],
   "source": [
    "tweetsParaTreino = dadosTreino['full_text'].values\n",
    "classesParaTreino = dadosTreino['SentimentoFinal'].values\n",
    "tweetsParaTeste = dadosTeste['full_text'].values\n",
    "classesParaTeste = dadosTeste['SentimentoFinal'].values\n"
   ]
  },
  {
   "cell_type": "markdown",
   "metadata": {},
   "source": [
    "Utilizamos a técnica Holdout, separando os dados em 70% para treinamento e 30% para teste."
   ]
  },
  {
   "cell_type": "code",
   "execution_count": 57,
   "metadata": {},
   "outputs": [
    {
     "data": {
      "text/plain": [
       "700"
      ]
     },
     "execution_count": 57,
     "metadata": {},
     "output_type": "execute_result"
    }
   ],
   "source": [
    "qtdTweetsTreino = len(dadosTreino)\n",
    "qtdTweetsTreino"
   ]
  },
  {
   "cell_type": "code",
   "execution_count": 58,
   "metadata": {},
   "outputs": [
    {
     "data": {
      "text/plain": [
       "300"
      ]
     },
     "execution_count": 58,
     "metadata": {},
     "output_type": "execute_result"
    }
   ],
   "source": [
    "qtdTweetsTeste = len(dadosTeste)\n",
    "qtdTweetsTeste"
   ]
  },
  {
   "cell_type": "markdown",
   "metadata": {},
   "source": [
    "Aqui, instanciamos o vetorizador dos tweets. Ele é responsável pela transformação dos dados textuais em um formato que o algoritmo entenda. É utilizada a técnica Bag Of Words, aonde as palavras viram colunas em uma tabela e cada tweet terá uma representação de 0's e 1's. "
   ]
  },
  {
   "cell_type": "code",
   "execution_count": 59,
   "metadata": {},
   "outputs": [],
   "source": [
    "# Instancia o objeto que faz a vetorização dos dados de texto:\n",
    "tweet_tokenizer = TweetTokenizer() \n",
    "vectorizer = CountVectorizer(analyzer=\"word\", tokenizer=tweet_tokenizer.tokenize)"
   ]
  },
  {
   "cell_type": "markdown",
   "metadata": {},
   "source": [
    "Abaixo, vetorizamos os dados de treinamento"
   ]
  },
  {
   "cell_type": "code",
   "execution_count": 60,
   "metadata": {},
   "outputs": [],
   "source": [
    "vect_tweetsTreino = vectorizer.fit_transform(tweetsParaTreino) "
   ]
  },
  {
   "cell_type": "markdown",
   "metadata": {},
   "source": [
    "Finalmente, faremos o treinamento do algoritmo. Utilizamos o algoritmo Multinomial Naive Bayes, o SVM."
   ]
  },
  {
   "cell_type": "code",
   "execution_count": 61,
   "metadata": {},
   "outputs": [],
   "source": [
    "classificador = MultinomialNB()\n",
    "classificador.fit(vect_tweetsTreino, classesParaTreino)  \n",
    "\n",
    "classificadorSVM = svm.SVC(kernel='linear')\n",
    "classificadorSVM.fit(vect_tweetsTreino, classesParaTreino)\n",
    "\n",
    "classificadorLR = LogisticRegression(random_state=0).fit(vect_tweetsTreino, classesParaTreino)\n"
   ]
  },
  {
   "cell_type": "markdown",
   "metadata": {},
   "source": [
    "Já tendo o algoritmo sido treinado, faremos a vetorização dos dados de teste."
   ]
  },
  {
   "cell_type": "code",
   "execution_count": 62,
   "metadata": {},
   "outputs": [],
   "source": [
    "vect_tweetsTeste = vectorizer.transform(tweetsParaTeste) "
   ]
  },
  {
   "cell_type": "markdown",
   "metadata": {},
   "source": [
    "Abaixo, fazemos a predição dos dados de teste por parte do algoritmo já treinado."
   ]
  },
  {
   "cell_type": "code",
   "execution_count": 63,
   "metadata": {},
   "outputs": [],
   "source": [
    "result = classificador.predict(vect_tweetsTeste)\n",
    "resultSVM = classificadorSVM.predict(vect_tweetsTeste)\n",
    "resultLR = classificadorLR.predict(vect_tweetsTeste)"
   ]
  },
  {
   "cell_type": "markdown",
   "metadata": {},
   "source": [
    "### Agora já possuímos o algoritmo treinado e os dados para verificar o resultado nos testes. Vamos prosseguir vendo o resultado das métricas."
   ]
  },
  {
   "cell_type": "markdown",
   "metadata": {},
   "source": [
    "Vamos ver a acurácia primeiramente."
   ]
  },
  {
   "cell_type": "code",
   "execution_count": 64,
   "metadata": {},
   "outputs": [
    {
     "name": "stdout",
     "output_type": "stream",
     "text": [
      "62.67% \n",
      "64.0% \n",
      "66.67% \n"
     ]
    }
   ],
   "source": [
    "acc = accuracy_score(classesParaTeste, result) * 100\n",
    "print(\"{}{} \".format(acc.round(2), \"%\"))\n",
    "\n",
    "acc2 = accuracy_score(classesParaTeste, resultSVM) * 100\n",
    "print(\"{}{} \".format(acc2.round(2), \"%\"))\n",
    "\n",
    "acc3 = accuracy_score(classesParaTeste, resultLR) * 100\n",
    "print(\"{}{} \".format(acc3.round(2), \"%\"))"
   ]
  },
  {
   "cell_type": "markdown",
   "metadata": {},
   "source": [
    "Vamos verificar a matriz de confusão agora. Ela tem o objetivo de ver em que classes o algoritmo conseguiu classificar melhor."
   ]
  },
  {
   "cell_type": "code",
   "execution_count": 25,
   "metadata": {},
   "outputs": [
    {
     "name": "stdout",
     "output_type": "stream",
     "text": [
      "Predito    0   1    2  All\n",
      "Real                      \n",
      "0         80   6   14  100\n",
      "1         18  23   18   59\n",
      "2         43  13   85  141\n",
      "All      141  42  117  300\n",
      "Predito   0   1    2  All\n",
      "Real                     \n",
      "0        58   6   36  100\n",
      "1        13  27   19   59\n",
      "2        25   9  107  141\n",
      "All      96  42  162  300\n",
      "Predito    0   1    2  All\n",
      "Real                      \n",
      "0         68   4   28  100\n",
      "1         10  26   23   59\n",
      "2         27   8  106  141\n",
      "All      105  38  157  300\n"
     ]
    }
   ],
   "source": [
    "print (pd.crosstab(classesParaTeste, result, rownames=['Real'], colnames=['Predito'], margins=True))\n",
    "\n",
    "print (pd.crosstab(classesParaTeste, resultSVM, rownames=['Real'], colnames=['Predito'], margins=True))\n",
    "\n",
    "print (pd.crosstab(classesParaTeste, resultLR, rownames=['Real'], colnames=['Predito'], margins=True))\n"
   ]
  },
  {
   "cell_type": "markdown",
   "metadata": {},
   "source": [
    "Vamos verificar, por fim, as outras métricas."
   ]
  },
  {
   "cell_type": "code",
   "execution_count": 26,
   "metadata": {},
   "outputs": [
    {
     "name": "stdout",
     "output_type": "stream",
     "text": [
      "             precision    recall  f1-score   support\n",
      "\n",
      "          0       0.57      0.80      0.66       100\n",
      "          1       0.55      0.39      0.46        59\n",
      "          2       0.73      0.60      0.66       141\n",
      "\n",
      "avg / total       0.64      0.63      0.62       300\n",
      "\n",
      "             precision    recall  f1-score   support\n",
      "\n",
      "          0       0.60      0.58      0.59       100\n",
      "          1       0.64      0.46      0.53        59\n",
      "          2       0.66      0.76      0.71       141\n",
      "\n",
      "avg / total       0.64      0.64      0.63       300\n",
      "\n",
      "             precision    recall  f1-score   support\n",
      "\n",
      "          0       0.65      0.68      0.66       100\n",
      "          1       0.68      0.44      0.54        59\n",
      "          2       0.68      0.75      0.71       141\n",
      "\n",
      "avg / total       0.67      0.67      0.66       300\n",
      "\n"
     ]
    }
   ],
   "source": [
    "print(classification_report(classesParaTeste, result, labels = [0,1,2]))\n",
    "\n",
    "print(classification_report(classesParaTeste, resultSVM, labels = [0,1,2]))\n",
    "\n",
    "print(classification_report(classesParaTeste, resultLR, labels = [0,1,2]))"
   ]
  },
  {
   "cell_type": "markdown",
   "metadata": {},
   "source": [
    "## Agora, faremos o treinamento com os dados da tabela de assuntos diversos (700 tweets). A tabela de teste segue sendo a mesma."
   ]
  },
  {
   "cell_type": "markdown",
   "metadata": {},
   "source": [
    "Esse processo é semelhante ao feito anteriormente, então não há necessidade de explicar cada etapa."
   ]
  },
  {
   "cell_type": "code",
   "execution_count": 27,
   "metadata": {},
   "outputs": [],
   "source": [
    "dadosTreinoDiversos = pd.read_excel('TabelaDiversosPreProcessados.xlsx').fillna(' ')"
   ]
  },
  {
   "cell_type": "code",
   "execution_count": 28,
   "metadata": {},
   "outputs": [
    {
     "data": {
      "text/html": [
       "<div>\n",
       "<style scoped>\n",
       "    .dataframe tbody tr th:only-of-type {\n",
       "        vertical-align: middle;\n",
       "    }\n",
       "\n",
       "    .dataframe tbody tr th {\n",
       "        vertical-align: top;\n",
       "    }\n",
       "\n",
       "    .dataframe thead th {\n",
       "        text-align: right;\n",
       "    }\n",
       "</style>\n",
       "<table border=\"1\" class=\"dataframe\">\n",
       "  <thead>\n",
       "    <tr style=\"text-align: right;\">\n",
       "      <th></th>\n",
       "      <th>full_text</th>\n",
       "      <th>Sentimento1</th>\n",
       "      <th>Sentimento2</th>\n",
       "      <th>SentimentoFinal</th>\n",
       "    </tr>\n",
       "  </thead>\n",
       "  <tbody>\n",
       "    <tr>\n",
       "      <th>0</th>\n",
       "      <td>ante malestar coa falta dialogo medidas xunta ...</td>\n",
       "      <td>0</td>\n",
       "      <td>0</td>\n",
       "      <td>0</td>\n",
       "    </tr>\n",
       "    <tr>\n",
       "      <th>1</th>\n",
       "      <td>pra gastar podemos gastar pouco acesse</td>\n",
       "      <td>2</td>\n",
       "      <td>2</td>\n",
       "      <td>2</td>\n",
       "    </tr>\n",
       "    <tr>\n",
       "      <th>2</th>\n",
       "      <td>oposicao reforma tributaria desconhecimento lobby</td>\n",
       "      <td>0</td>\n",
       "      <td>2</td>\n",
       "      <td>2</td>\n",
       "    </tr>\n",
       "    <tr>\n",
       "      <th>3</th>\n",
       "      <td>importancia poupanca composicao setorial</td>\n",
       "      <td>1</td>\n",
       "      <td>1</td>\n",
       "      <td>1</td>\n",
       "    </tr>\n",
       "    <tr>\n",
       "      <th>4</th>\n",
       "      <td>\"pib governo\" errado</td>\n",
       "      <td>0</td>\n",
       "      <td>2</td>\n",
       "      <td>0</td>\n",
       "    </tr>\n",
       "  </tbody>\n",
       "</table>\n",
       "</div>"
      ],
      "text/plain": [
       "                                           full_text  Sentimento1  \\\n",
       "0  ante malestar coa falta dialogo medidas xunta ...            0   \n",
       "1             pra gastar podemos gastar pouco acesse            2   \n",
       "2  oposicao reforma tributaria desconhecimento lobby            0   \n",
       "3           importancia poupanca composicao setorial            1   \n",
       "4                               \"pib governo\" errado            0   \n",
       "\n",
       "   Sentimento2  SentimentoFinal  \n",
       "0            0                0  \n",
       "1            2                2  \n",
       "2            2                2  \n",
       "3            1                1  \n",
       "4            2                0  "
      ]
     },
     "execution_count": 28,
     "metadata": {},
     "output_type": "execute_result"
    }
   ],
   "source": [
    "dadosTreinoDiversos.head()"
   ]
  },
  {
   "cell_type": "code",
   "execution_count": 29,
   "metadata": {},
   "outputs": [],
   "source": [
    "tweetsParaTreinoDiversos = dadosTreinoDiversos['full_text'].values\n",
    "classesParaTreinoDiversos = dadosTreinoDiversos['SentimentoFinal'].values"
   ]
  },
  {
   "cell_type": "code",
   "execution_count": 30,
   "metadata": {},
   "outputs": [
    {
     "data": {
      "text/plain": [
       "700"
      ]
     },
     "execution_count": 30,
     "metadata": {},
     "output_type": "execute_result"
    }
   ],
   "source": [
    "qtdTweetsTreino = len(dadosTreinoDiversos)\n",
    "qtdTweetsTreino"
   ]
  },
  {
   "cell_type": "code",
   "execution_count": 31,
   "metadata": {},
   "outputs": [],
   "source": [
    "vect_tweetsTreinoDiversos = vectorizer.fit_transform(tweetsParaTreinoDiversos)  #treina com diversos"
   ]
  },
  {
   "cell_type": "code",
   "execution_count": 36,
   "metadata": {},
   "outputs": [],
   "source": [
    "classificadorDiversos = MultinomialNB()\n",
    "classificadorDiversos.fit(vect_tweetsTreinoDiversos, classesParaTreinoDiversos) \n",
    "\n",
    "classificadorSVMDiv = svm.SVC(kernel='linear')\n",
    "classificadorSVMDiv.fit(vect_tweetsTreinoDiversos, classesParaTreinoDiversos)\n",
    "\n",
    "classificadorLRDiv = LogisticRegression(random_state=0).fit(vect_tweetsTreinoDiversos, classesParaTreinoDiversos)"
   ]
  },
  {
   "cell_type": "code",
   "execution_count": 38,
   "metadata": {},
   "outputs": [],
   "source": [
    "vect_tweetsTeste = vectorizer.transform(tweetsParaTeste) "
   ]
  },
  {
   "cell_type": "code",
   "execution_count": 39,
   "metadata": {},
   "outputs": [],
   "source": [
    "resultDiversos = classificadorDiversos.predict(vect_tweetsTeste)\n",
    "\n",
    "resultDiversosSVM = classificadorSVMDiv.predict(vect_tweetsTeste)\n",
    "\n",
    "resultDiversosLR = classificadorLRDiv.predict(vect_tweetsTeste)"
   ]
  },
  {
   "cell_type": "code",
   "execution_count": 40,
   "metadata": {},
   "outputs": [
    {
     "name": "stdout",
     "output_type": "stream",
     "text": [
      "56.0% \n",
      "54.0% \n",
      "56.0% \n"
     ]
    }
   ],
   "source": [
    "acc = accuracy_score(classesParaTeste, resultDiversos) * 100\n",
    "print(\"{}{} \".format(acc.round(2), \"%\"))\n",
    "\n",
    "acc2 = accuracy_score(classesParaTeste, resultDiversosSVM) * 100\n",
    "print(\"{}{} \".format(acc2.round(2), \"%\"))\n",
    "\n",
    "acc3 = accuracy_score(classesParaTeste, resultDiversosLR) * 100\n",
    "print(\"{}{} \".format(acc3.round(2), \"%\"))"
   ]
  },
  {
   "cell_type": "code",
   "execution_count": 41,
   "metadata": {},
   "outputs": [
    {
     "name": "stdout",
     "output_type": "stream",
     "text": [
      "Predito   0   1    2  All\n",
      "Real                     \n",
      "0        40  19   41  100\n",
      "1         6  30   23   59\n",
      "2        25  18   98  141\n",
      "All      71  67  162  300\n",
      "Predito   0   1    2  All\n",
      "Real                     \n",
      "0        32  14   54  100\n",
      "1         8  28   23   59\n",
      "2        19  20  102  141\n",
      "All      59  62  179  300\n",
      "Predito   0   1    2  All\n",
      "Real                     \n",
      "0        28  14   58  100\n",
      "1         4  30   25   59\n",
      "2        15  16  110  141\n",
      "All      47  60  193  300\n"
     ]
    }
   ],
   "source": [
    "print (pd.crosstab(classesParaTeste, resultDiversos, rownames=['Real'], colnames=['Predito'], margins=True))\n",
    "\n",
    "print (pd.crosstab(classesParaTeste, resultDiversosSVM, rownames=['Real'], colnames=['Predito'], margins=True))\n",
    "\n",
    "print (pd.crosstab(classesParaTeste, resultDiversosLR, rownames=['Real'], colnames=['Predito'], margins=True))"
   ]
  },
  {
   "cell_type": "code",
   "execution_count": 42,
   "metadata": {},
   "outputs": [
    {
     "name": "stdout",
     "output_type": "stream",
     "text": [
      "             precision    recall  f1-score   support\n",
      "\n",
      "          0       0.56      0.40      0.47       100\n",
      "          1       0.45      0.51      0.48        59\n",
      "          2       0.60      0.70      0.65       141\n",
      "\n",
      "avg / total       0.56      0.56      0.55       300\n",
      "\n",
      "             precision    recall  f1-score   support\n",
      "\n",
      "          0       0.54      0.32      0.40       100\n",
      "          1       0.45      0.47      0.46        59\n",
      "          2       0.57      0.72      0.64       141\n",
      "\n",
      "avg / total       0.54      0.54      0.52       300\n",
      "\n",
      "             precision    recall  f1-score   support\n",
      "\n",
      "          0       0.60      0.28      0.38       100\n",
      "          1       0.50      0.51      0.50        59\n",
      "          2       0.57      0.78      0.66       141\n",
      "\n",
      "avg / total       0.56      0.56      0.54       300\n",
      "\n"
     ]
    }
   ],
   "source": [
    "print(classification_report(classesParaTeste, resultDiversos, labels = [0,1,2]))\n",
    "\n",
    "print(classification_report(classesParaTeste, resultDiversosSVM, labels = [0,1,2]))\n",
    "\n",
    "print(classification_report(classesParaTeste, resultDiversosLR, labels = [0,1,2]))"
   ]
  },
  {
   "cell_type": "markdown",
   "metadata": {},
   "source": [
    "## Agora faremos a classificação em tabelas binárias, aonde há apenas as classes positiva e negativa (1 e 0)."
   ]
  },
  {
   "cell_type": "markdown",
   "metadata": {},
   "source": [
    "Para tal, foram feitas cópias dos 3 datasets e excluídos os tweets neutros nessas cópias. Assim, faremos o treinamento e teste novamente nestes datasets.\n",
    "Este processo já foi explicado anteriormente."
   ]
  },
  {
   "cell_type": "code",
   "execution_count": 43,
   "metadata": {},
   "outputs": [],
   "source": [
    "dadosTreinoBin = pd.read_excel('TabelaCovidTreinoPreProcessadosBin.xlsx').fillna(' ')\n",
    "dadosTesteBin = pd.read_excel('TabelaCovidTestePreProcessadosBin.xlsx').fillna(' ')"
   ]
  },
  {
   "cell_type": "code",
   "execution_count": 44,
   "metadata": {},
   "outputs": [
    {
     "data": {
      "text/plain": [
       "402"
      ]
     },
     "execution_count": 44,
     "metadata": {},
     "output_type": "execute_result"
    }
   ],
   "source": [
    "len(dadosTreinoBin)"
   ]
  },
  {
   "cell_type": "code",
   "execution_count": 45,
   "metadata": {},
   "outputs": [
    {
     "data": {
      "text/plain": [
       "159"
      ]
     },
     "execution_count": 45,
     "metadata": {},
     "output_type": "execute_result"
    }
   ],
   "source": [
    "len(dadosTesteBin)"
   ]
  },
  {
   "cell_type": "code",
   "execution_count": 46,
   "metadata": {},
   "outputs": [],
   "source": [
    "tweetsParaTreinoBin = dadosTreinoBin['full_text'].values\n",
    "classesParaTreinoBin = dadosTreinoBin['SentimentoFinal'].values\n",
    "tweetsParaTesteBin = dadosTesteBin['full_text'].values\n",
    "classesParaTesteBin = dadosTesteBin['SentimentoFinal'].values\n"
   ]
  },
  {
   "cell_type": "code",
   "execution_count": 47,
   "metadata": {},
   "outputs": [],
   "source": [
    "# Instancia o objeto que faz a vetorização dos dados de texto:\n",
    "tweet_tokenizer = TweetTokenizer() \n",
    "vectorizer = CountVectorizer(analyzer=\"word\", tokenizer=tweet_tokenizer.tokenize)"
   ]
  },
  {
   "cell_type": "code",
   "execution_count": 48,
   "metadata": {},
   "outputs": [],
   "source": [
    "vect_tweetsTreinoBin = vectorizer.fit_transform(tweetsParaTreinoBin) "
   ]
  },
  {
   "cell_type": "code",
   "execution_count": 49,
   "metadata": {},
   "outputs": [],
   "source": [
    "classificadorBin = MultinomialNB()\n",
    "classificadorBin.fit(vect_tweetsTreinoBin, classesParaTreinoBin)\n",
    "\n",
    "classificadorSVMBin = svm.SVC(kernel='linear')\n",
    "classificadorSVMBin.fit(vect_tweetsTreinoBin, classesParaTreinoBin)\n",
    "\n",
    "classificadorLRBin = LogisticRegression(random_state=0).fit(vect_tweetsTreinoBin, classesParaTreinoBin)"
   ]
  },
  {
   "cell_type": "code",
   "execution_count": 50,
   "metadata": {},
   "outputs": [],
   "source": [
    "vect_tweetsTesteBin = vectorizer.transform(tweetsParaTesteBin) "
   ]
  },
  {
   "cell_type": "code",
   "execution_count": 51,
   "metadata": {},
   "outputs": [],
   "source": [
    "resultBin = classificadorBin.predict(vect_tweetsTesteBin)\n",
    "\n",
    "resultBinSVM = classificadorSVMBin.predict(vect_tweetsTesteBin)\n",
    "\n",
    "resultBinLR = classificadorLRBin.predict(vect_tweetsTesteBin)"
   ]
  },
  {
   "cell_type": "code",
   "execution_count": 52,
   "metadata": {},
   "outputs": [
    {
     "name": "stdout",
     "output_type": "stream",
     "text": [
      "81.13% \n",
      "79.25% \n",
      "78.62% \n"
     ]
    }
   ],
   "source": [
    "acc = accuracy_score(classesParaTesteBin, resultBin) * 100\n",
    "print(\"{}{} \".format(acc.round(2), \"%\"))\n",
    "\n",
    "acc2 = accuracy_score(classesParaTesteBin, resultBinSVM) * 100\n",
    "print(\"{}{} \".format(acc2.round(2), \"%\"))\n",
    "\n",
    "acc3 = accuracy_score(classesParaTesteBin, resultBinLR) * 100\n",
    "print(\"{}{} \".format(acc3.round(2), \"%\"))"
   ]
  },
  {
   "cell_type": "code",
   "execution_count": 65,
   "metadata": {},
   "outputs": [
    {
     "name": "stdout",
     "output_type": "stream",
     "text": [
      "Predito    0   1  All\n",
      "Real                 \n",
      "0         94   6  100\n",
      "1         24  35   59\n",
      "All      118  41  159\n",
      "Predito    0   1  All\n",
      "Real                 \n",
      "0         91   9  100\n",
      "1         24  35   59\n",
      "All      115  44  159\n",
      "Predito    0   1  All\n",
      "Real                 \n",
      "0         95   5  100\n",
      "1         29  30   59\n",
      "All      124  35  159\n"
     ]
    }
   ],
   "source": [
    "print (pd.crosstab(classesParaTesteBin, resultBin, rownames=['Real'], colnames=['Predito'], margins=True))\n",
    "\n",
    "print (pd.crosstab(classesParaTesteBin, resultBinSVM, rownames=['Real'], colnames=['Predito'], margins=True))\n",
    "\n",
    "print (pd.crosstab(classesParaTesteBin, resultBinLR, rownames=['Real'], colnames=['Predito'], margins=True))"
   ]
  },
  {
   "cell_type": "code",
   "execution_count": 66,
   "metadata": {},
   "outputs": [
    {
     "name": "stdout",
     "output_type": "stream",
     "text": [
      "             precision    recall  f1-score   support\n",
      "\n",
      "          0       0.80      0.94      0.86       100\n",
      "          1       0.85      0.59      0.70        59\n",
      "\n",
      "avg / total       0.82      0.81      0.80       159\n",
      "\n",
      "             precision    recall  f1-score   support\n",
      "\n",
      "          0       0.79      0.91      0.85       100\n",
      "          1       0.80      0.59      0.68        59\n",
      "\n",
      "avg / total       0.79      0.79      0.78       159\n",
      "\n",
      "             precision    recall  f1-score   support\n",
      "\n",
      "          0       0.77      0.95      0.85       100\n",
      "          1       0.86      0.51      0.64        59\n",
      "\n",
      "avg / total       0.80      0.79      0.77       159\n",
      "\n"
     ]
    }
   ],
   "source": [
    "print(classification_report(classesParaTesteBin, resultBin, labels = [0,1]))\n",
    "\n",
    "print(classification_report(classesParaTesteBin, resultBinSVM, labels = [0,1]))\n",
    "\n",
    "print(classification_report(classesParaTesteBin, resultBinLR, labels = [0,1]))"
   ]
  },
  {
   "cell_type": "markdown",
   "metadata": {},
   "source": [
    "#### Agora faremos o treinamento com o dataset de assuntos diversos sem os tweets neutros."
   ]
  },
  {
   "cell_type": "code",
   "execution_count": 67,
   "metadata": {},
   "outputs": [],
   "source": [
    "dadosTreinoDiversosBin = pd.read_excel('TabelaDiversosPreProcessadosBin.xlsx').fillna(' ')"
   ]
  },
  {
   "cell_type": "code",
   "execution_count": 68,
   "metadata": {},
   "outputs": [],
   "source": [
    "tweetsParaTreinoDiversosBin = dadosTreinoDiversosBin['full_text'].values\n",
    "classesParaTreinoDiversosBin = dadosTreinoDiversosBin['SentimentoFinal'].values"
   ]
  },
  {
   "cell_type": "code",
   "execution_count": 69,
   "metadata": {},
   "outputs": [
    {
     "data": {
      "text/plain": [
       "307"
      ]
     },
     "execution_count": 69,
     "metadata": {},
     "output_type": "execute_result"
    }
   ],
   "source": [
    "qtdTweetsTreinoBin = len(dadosTreinoDiversosBin)\n",
    "qtdTweetsTreinoBin"
   ]
  },
  {
   "cell_type": "code",
   "execution_count": 70,
   "metadata": {},
   "outputs": [],
   "source": [
    "vect_tweetsTreinoDiversosBin = vectorizer.fit_transform(tweetsParaTreinoDiversosBin)  #treina com diversos"
   ]
  },
  {
   "cell_type": "code",
   "execution_count": 71,
   "metadata": {},
   "outputs": [],
   "source": [
    "classificadorDiversosBin = MultinomialNB()\n",
    "classificadorDiversosBin.fit(vect_tweetsTreinoDiversosBin, classesParaTreinoDiversosBin)\n",
    "\n",
    "classificadorDiversosSVMBin = svm.SVC(kernel='linear')\n",
    "classificadorDiversosSVMBin.fit(vect_tweetsTreinoDiversosBin, classesParaTreinoDiversosBin)\n",
    "\n",
    "classificadorDiversosLRBin = LogisticRegression(random_state=0).fit(vect_tweetsTreinoDiversosBin, classesParaTreinoDiversosBin)"
   ]
  },
  {
   "cell_type": "code",
   "execution_count": 72,
   "metadata": {},
   "outputs": [],
   "source": [
    "vect_tweetsTesteBin = vectorizer.transform(tweetsParaTesteBin) "
   ]
  },
  {
   "cell_type": "code",
   "execution_count": 73,
   "metadata": {},
   "outputs": [],
   "source": [
    "resultDiversosBin = classificadorDiversosBin.predict(vect_tweetsTesteBin)\n",
    "\n",
    "resultDiversosBinSVM = classificadorDiversosSVMBin.predict(vect_tweetsTesteBin)\n",
    "\n",
    "resultDiversosBinLR = classificadorDiversosLRBin.predict(vect_tweetsTesteBin)"
   ]
  },
  {
   "cell_type": "code",
   "execution_count": 74,
   "metadata": {},
   "outputs": [
    {
     "name": "stdout",
     "output_type": "stream",
     "text": [
      "74.21% \n",
      "73.58% \n",
      "74.21% \n"
     ]
    }
   ],
   "source": [
    "acc = accuracy_score(classesParaTesteBin, resultDiversosBin) * 100\n",
    "print(\"{}{} \".format(acc.round(2), \"%\"))\n",
    "\n",
    "acc2 = accuracy_score(classesParaTesteBin, resultDiversosBinSVM) * 100\n",
    "print(\"{}{} \".format(acc2.round(2), \"%\"))\n",
    "\n",
    "acc3 = accuracy_score(classesParaTesteBin, resultDiversosBinLR) * 100\n",
    "print(\"{}{} \".format(acc3.round(2), \"%\"))"
   ]
  },
  {
   "cell_type": "code",
   "execution_count": 75,
   "metadata": {},
   "outputs": [
    {
     "name": "stdout",
     "output_type": "stream",
     "text": [
      "Predito   0   1  All\n",
      "Real                \n",
      "0        69  31  100\n",
      "1        10  49   59\n",
      "All      79  80  159\n",
      "Predito   0   1  All\n",
      "Real                \n",
      "0        71  29  100\n",
      "1        13  46   59\n",
      "All      84  75  159\n",
      "Predito   0   1  All\n",
      "Real                \n",
      "0        68  32  100\n",
      "1         9  50   59\n",
      "All      77  82  159\n"
     ]
    }
   ],
   "source": [
    "print (pd.crosstab(classesParaTesteBin, resultDiversosBin, rownames=['Real'], colnames=['Predito'], margins=True))\n",
    "\n",
    "print (pd.crosstab(classesParaTesteBin, resultDiversosBinSVM, rownames=['Real'], colnames=['Predito'], margins=True))\n",
    "\n",
    "print (pd.crosstab(classesParaTesteBin, resultDiversosBinLR, rownames=['Real'], colnames=['Predito'], margins=True))"
   ]
  },
  {
   "cell_type": "code",
   "execution_count": 76,
   "metadata": {},
   "outputs": [
    {
     "name": "stdout",
     "output_type": "stream",
     "text": [
      "             precision    recall  f1-score   support\n",
      "\n",
      "          0       0.87      0.69      0.77       100\n",
      "          1       0.61      0.83      0.71        59\n",
      "\n",
      "avg / total       0.78      0.74      0.75       159\n",
      "\n",
      "             precision    recall  f1-score   support\n",
      "\n",
      "          0       0.85      0.71      0.77       100\n",
      "          1       0.61      0.78      0.69        59\n",
      "\n",
      "avg / total       0.76      0.74      0.74       159\n",
      "\n",
      "             precision    recall  f1-score   support\n",
      "\n",
      "          0       0.88      0.68      0.77       100\n",
      "          1       0.61      0.85      0.71        59\n",
      "\n",
      "avg / total       0.78      0.74      0.75       159\n",
      "\n"
     ]
    }
   ],
   "source": [
    "print(classification_report(classesParaTesteBin, resultDiversosBin, labels = [0,1]))\n",
    "\n",
    "print(classification_report(classesParaTesteBin, resultDiversosBinSVM, labels = [0,1]))\n",
    "\n",
    "print(classification_report(classesParaTesteBin, resultDiversosBinLR, labels = [0,1]))"
   ]
  },
  {
   "cell_type": "markdown",
   "metadata": {},
   "source": [
    "## Por fim, vamos validar os resultados realizando o treinamento com os tweets de assuntos diversos e o teste com os tweets #netflix"
   ]
  },
  {
   "cell_type": "markdown",
   "metadata": {},
   "source": [
    "Esta etapa de treinamento/teste é como as anteriores, logo, não há necessidade de explicar cada passo."
   ]
  },
  {
   "cell_type": "code",
   "execution_count": 77,
   "metadata": {},
   "outputs": [],
   "source": [
    "dadosTreinoDiversos = pd.read_excel('TabelaDiversosPreProcessados.xlsx').fillna(' ')\n",
    "dadosTesteNetflix = pd.read_excel('TabelaNetflixPreProcessados.xlsx').fillna(' ')"
   ]
  },
  {
   "cell_type": "code",
   "execution_count": 78,
   "metadata": {},
   "outputs": [],
   "source": [
    "tweetsParaTreinoDiv = dadosTreinoDiversos['full_text'].values\n",
    "classesParaTreinoDiv = dadosTreinoDiversos['SentimentoFinal'].values\n",
    "tweetsParaTesteNetflix = dadosTesteNetflix['full_text'].values\n",
    "classesParaTesteNetflix = dadosTesteNetflix['SentimentoFinal'].values"
   ]
  },
  {
   "cell_type": "code",
   "execution_count": 79,
   "metadata": {},
   "outputs": [
    {
     "data": {
      "text/plain": [
       "700"
      ]
     },
     "execution_count": 79,
     "metadata": {},
     "output_type": "execute_result"
    }
   ],
   "source": [
    "qtdTweetsTreino = len(dadosTreinoDiversos)\n",
    "qtdTweetsTreino"
   ]
  },
  {
   "cell_type": "code",
   "execution_count": 80,
   "metadata": {},
   "outputs": [
    {
     "data": {
      "text/plain": [
       "300"
      ]
     },
     "execution_count": 80,
     "metadata": {},
     "output_type": "execute_result"
    }
   ],
   "source": [
    "qtdTweetsTeste = len(dadosTesteNetflix)\n",
    "qtdTweetsTeste"
   ]
  },
  {
   "cell_type": "code",
   "execution_count": 81,
   "metadata": {},
   "outputs": [],
   "source": [
    "# Instancia o objeto que faz a vetorização dos dados de texto:\n",
    "tweet_tokenizer = TweetTokenizer() \n",
    "vectorizer = CountVectorizer(analyzer=\"word\", tokenizer=tweet_tokenizer.tokenize)"
   ]
  },
  {
   "cell_type": "code",
   "execution_count": 116,
   "metadata": {},
   "outputs": [
    {
     "name": "stdout",
     "output_type": "stream",
     "text": [
      "  (0, 47)\t1\n",
      "  (0, 2567)\t1\n",
      "  (0, 2521)\t1\n",
      "  (0, 1576)\t2\n",
      "  (0, 2574)\t1\n"
     ]
    }
   ],
   "source": [
    "vect_tweetsTreinoDiv = vectorizer.fit_transform(tweetsParaTreinoDiv)\n",
    "\n"
   ]
  },
  {
   "cell_type": "code",
   "execution_count": 83,
   "metadata": {},
   "outputs": [],
   "source": [
    "classificadorValid = MultinomialNB()\n",
    "classificadorValid.fit(vect_tweetsTreinoDiv, classesParaTreinoDiv)\n",
    "\n",
    "classificadorValidSVM = svm.SVC(kernel='linear')\n",
    "classificadorValidSVM.fit(vect_tweetsTreinoDiv, classesParaTreinoDiv)\n",
    "\n",
    "classificadorValidLR = LogisticRegression(random_state=0).fit(vect_tweetsTreinoDiv, classesParaTreinoDiv)"
   ]
  },
  {
   "cell_type": "code",
   "execution_count": 84,
   "metadata": {},
   "outputs": [],
   "source": [
    "vect_tweetsTesteNetflix = vectorizer.transform(tweetsParaTesteNetflix) "
   ]
  },
  {
   "cell_type": "code",
   "execution_count": 85,
   "metadata": {},
   "outputs": [],
   "source": [
    "resultValid = classificadorValid.predict(vect_tweetsTesteNetflix)\n",
    "\n",
    "resultValidSVM = classificadorValidSVM.predict(vect_tweetsTesteNetflix)\n",
    "\n",
    "resultValidLR = classificadorValidLR.predict(vect_tweetsTesteNetflix)"
   ]
  },
  {
   "cell_type": "code",
   "execution_count": 86,
   "metadata": {},
   "outputs": [
    {
     "name": "stdout",
     "output_type": "stream",
     "text": [
      "55.67% \n",
      "56.67% \n",
      "58.67% \n"
     ]
    }
   ],
   "source": [
    "acc = accuracy_score(classesParaTesteNetflix, resultValid) * 100\n",
    "print(\"{}{} \".format(acc.round(2), \"%\"))\n",
    "\n",
    "acc2 = accuracy_score(classesParaTesteNetflix, resultValidSVM) * 100\n",
    "print(\"{}{} \".format(acc2.round(2), \"%\"))\n",
    "\n",
    "acc3 = accuracy_score(classesParaTesteNetflix, resultValidLR) * 100\n",
    "print(\"{}{} \".format(acc3.round(2), \"%\"))"
   ]
  },
  {
   "cell_type": "code",
   "execution_count": 87,
   "metadata": {},
   "outputs": [
    {
     "name": "stdout",
     "output_type": "stream",
     "text": [
      "Predito   0   1    2  All\n",
      "Real                     \n",
      "0        15   3   44   62\n",
      "1         7   9   49   65\n",
      "2        13  17  143  173\n",
      "All      35  29  236  300\n",
      "Predito   0   1    2  All\n",
      "Real                     \n",
      "0        11   0   51   62\n",
      "1         2   8   55   65\n",
      "2         6  16  151  173\n",
      "All      19  24  257  300\n",
      "Predito   0   1    2  All\n",
      "Real                     \n",
      "0         8   0   54   62\n",
      "1         1   5   59   65\n",
      "2         3   7  163  173\n",
      "All      12  12  276  300\n"
     ]
    }
   ],
   "source": [
    "print (pd.crosstab(classesParaTesteNetflix, resultValid, rownames=['Real'], colnames=['Predito'], margins=True))\n",
    "\n",
    "print (pd.crosstab(classesParaTesteNetflix, resultValidSVM, rownames=['Real'], colnames=['Predito'], margins=True))\n",
    "\n",
    "print (pd.crosstab(classesParaTesteNetflix, resultValidLR, rownames=['Real'], colnames=['Predito'], margins=True))"
   ]
  },
  {
   "cell_type": "code",
   "execution_count": 88,
   "metadata": {},
   "outputs": [
    {
     "name": "stdout",
     "output_type": "stream",
     "text": [
      "             precision    recall  f1-score   support\n",
      "\n",
      "          0       0.43      0.24      0.31        62\n",
      "          1       0.31      0.14      0.19        65\n",
      "          2       0.61      0.83      0.70       173\n",
      "\n",
      "avg / total       0.51      0.56      0.51       300\n",
      "\n",
      "             precision    recall  f1-score   support\n",
      "\n",
      "          0       0.58      0.18      0.27        62\n",
      "          1       0.33      0.12      0.18        65\n",
      "          2       0.59      0.87      0.70       173\n",
      "\n",
      "avg / total       0.53      0.57      0.50       300\n",
      "\n",
      "             precision    recall  f1-score   support\n",
      "\n",
      "          0       0.67      0.13      0.22        62\n",
      "          1       0.42      0.08      0.13        65\n",
      "          2       0.59      0.94      0.73       173\n",
      "\n",
      "avg / total       0.57      0.59      0.49       300\n",
      "\n"
     ]
    }
   ],
   "source": [
    "print(classification_report(classesParaTesteNetflix, resultValid, labels = [0,1,2]))\n",
    "\n",
    "print(classification_report(classesParaTesteNetflix, resultValidSVM, labels = [0,1,2]))\n",
    "\n",
    "print(classification_report(classesParaTesteNetflix, resultValidLR, labels = [0,1,2]))"
   ]
  },
  {
   "cell_type": "markdown",
   "metadata": {},
   "source": [
    "Abaixo, o treinamento/teste aonde sem tweets neutros."
   ]
  },
  {
   "cell_type": "code",
   "execution_count": 89,
   "metadata": {},
   "outputs": [],
   "source": [
    "dadosTreinoDiversosBin = pd.read_excel('TabelaDiversosPreProcessadosBin.xlsx').fillna(' ')\n",
    "dadosTesteNetflixBin = pd.read_excel('TabelaNetflixPreProcessadosBin.xlsx').fillna(' ')"
   ]
  },
  {
   "cell_type": "code",
   "execution_count": 90,
   "metadata": {},
   "outputs": [],
   "source": [
    "tweetsParaTreinoDiversosBin = dadosTreinoDiversosBin['full_text'].values\n",
    "classesParaTreinoDiversosBin = dadosTreinoDiversosBin['SentimentoFinal'].values\n",
    "tweetsParaTesteNetflixBin = dadosTesteNetflixBin['full_text'].values\n",
    "classesParaTesteNetflixBin = dadosTesteNetflixBin['SentimentoFinal'].values"
   ]
  },
  {
   "cell_type": "code",
   "execution_count": 91,
   "metadata": {},
   "outputs": [],
   "source": [
    "# Instancia o objeto que faz a vetorização dos dados de texto:\n",
    "tweet_tokenizer = TweetTokenizer() \n",
    "vectorizer = CountVectorizer(analyzer=\"word\", tokenizer=tweet_tokenizer.tokenize)"
   ]
  },
  {
   "cell_type": "code",
   "execution_count": 92,
   "metadata": {},
   "outputs": [],
   "source": [
    "vect_tweetsTreinoBin = vectorizer.fit_transform(tweetsParaTreinoDiversosBin) "
   ]
  },
  {
   "cell_type": "code",
   "execution_count": 93,
   "metadata": {},
   "outputs": [],
   "source": [
    "classificadorBinValid = MultinomialNB()\n",
    "classificadorBinValid.fit(vect_tweetsTreinoBin, classesParaTreinoDiversosBin)\n",
    "\n",
    "classificadorBinValidSVM = svm.SVC(kernel='linear')\n",
    "classificadorBinValidSVM.fit(vect_tweetsTreinoBin, classesParaTreinoDiversosBin)\n",
    "\n",
    "classificadorBinValidLR = LogisticRegression(random_state=0).fit(vect_tweetsTreinoBin, classesParaTreinoDiversosBin)"
   ]
  },
  {
   "cell_type": "code",
   "execution_count": 94,
   "metadata": {},
   "outputs": [],
   "source": [
    "vect_tweetsTesteNetflixBin = vectorizer.transform(tweetsParaTesteNetflixBin) "
   ]
  },
  {
   "cell_type": "code",
   "execution_count": 99,
   "metadata": {},
   "outputs": [],
   "source": [
    "resultValidBin = classificadorBinValid.predict(vect_tweetsTesteNetflixBin)\n",
    "\n",
    "resultValidBinSVM = classificadorBinValidSVM.predict(vect_tweetsTesteNetflixBin)\n",
    "\n",
    "resultValidBinLR = classificadorBinValidLR.predict(vect_tweetsTesteNetflixBin)"
   ]
  },
  {
   "cell_type": "code",
   "execution_count": 100,
   "metadata": {},
   "outputs": [
    {
     "name": "stdout",
     "output_type": "stream",
     "text": [
      "68.5% \n",
      "65.35% \n",
      "66.14% \n"
     ]
    }
   ],
   "source": [
    "acc = accuracy_score(classesParaTesteNetflixBin, resultValidBin) * 100\n",
    "print(\"{}{} \".format(acc.round(2), \"%\"))\n",
    "\n",
    "acc2 = accuracy_score(classesParaTesteNetflixBin, resultValidBinSVM) * 100\n",
    "print(\"{}{} \".format(acc2.round(2), \"%\"))\n",
    "\n",
    "acc3 = accuracy_score(classesParaTesteNetflixBin, resultValidBinLR) * 100\n",
    "print(\"{}{} \".format(acc3.round(2), \"%\"))"
   ]
  },
  {
   "cell_type": "code",
   "execution_count": 101,
   "metadata": {},
   "outputs": [
    {
     "name": "stdout",
     "output_type": "stream",
     "text": [
      "Predito   0   1  All\n",
      "Real                \n",
      "0        44  18   62\n",
      "1        22  43   65\n",
      "All      66  61  127\n",
      "Predito   0   1  All\n",
      "Real                \n",
      "0        35  27   62\n",
      "1        17  48   65\n",
      "All      52  75  127\n",
      "Predito   0   1  All\n",
      "Real                \n",
      "0        33  29   62\n",
      "1        14  51   65\n",
      "All      47  80  127\n"
     ]
    }
   ],
   "source": [
    "print (pd.crosstab(classesParaTesteNetflixBin, resultValidBin, rownames=['Real'], colnames=['Predito'], margins=True))\n",
    "\n",
    "print (pd.crosstab(classesParaTesteNetflixBin, resultValidBinSVM, rownames=['Real'], colnames=['Predito'], margins=True))\n",
    "\n",
    "print (pd.crosstab(classesParaTesteNetflixBin, resultValidBinLR, rownames=['Real'], colnames=['Predito'], margins=True))"
   ]
  },
  {
   "cell_type": "code",
   "execution_count": 102,
   "metadata": {},
   "outputs": [
    {
     "name": "stdout",
     "output_type": "stream",
     "text": [
      "             precision    recall  f1-score   support\n",
      "\n",
      "          0       0.67      0.71      0.69        62\n",
      "          1       0.70      0.66      0.68        65\n",
      "\n",
      "avg / total       0.69      0.69      0.68       127\n",
      "\n",
      "             precision    recall  f1-score   support\n",
      "\n",
      "          0       0.67      0.56      0.61        62\n",
      "          1       0.64      0.74      0.69        65\n",
      "\n",
      "avg / total       0.66      0.65      0.65       127\n",
      "\n",
      "             precision    recall  f1-score   support\n",
      "\n",
      "          0       0.70      0.53      0.61        62\n",
      "          1       0.64      0.78      0.70        65\n",
      "\n",
      "avg / total       0.67      0.66      0.66       127\n",
      "\n"
     ]
    }
   ],
   "source": [
    "print(classification_report(classesParaTesteNetflixBin, resultValidBin, labels = [0,1]))\n",
    "\n",
    "print(classification_report(classesParaTesteNetflixBin, resultValidBinSVM, labels = [0,1]))\n",
    "\n",
    "print(classification_report(classesParaTesteNetflixBin, resultValidBinLR, labels = [0,1]))"
   ]
  },
  {
   "cell_type": "code",
   "execution_count": null,
   "metadata": {},
   "outputs": [],
   "source": []
  },
  {
   "cell_type": "code",
   "execution_count": null,
   "metadata": {},
   "outputs": [],
   "source": []
  },
  {
   "cell_type": "code",
   "execution_count": null,
   "metadata": {},
   "outputs": [],
   "source": []
  },
  {
   "cell_type": "markdown",
   "metadata": {},
   "source": [
    "\n",
    "###### Obrigado por olhar o meu notebook! Fique livre para copiá-lo, altera-lo e utiliza-lo em seus estudos/projetos "
   ]
  }
 ],
 "metadata": {
  "kernelspec": {
   "display_name": "Python 3",
   "language": "python",
   "name": "python3"
  },
  "language_info": {
   "codemirror_mode": {
    "name": "ipython",
    "version": 3
   },
   "file_extension": ".py",
   "mimetype": "text/x-python",
   "name": "python",
   "nbconvert_exporter": "python",
   "pygments_lexer": "ipython3",
   "version": "3.6.5"
  }
 },
 "nbformat": 4,
 "nbformat_minor": 4
}
